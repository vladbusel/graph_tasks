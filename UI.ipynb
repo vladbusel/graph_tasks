{
 "cells": [
  {
   "cell_type": "code",
   "execution_count": 1,
   "metadata": {},
   "outputs": [],
   "source": [
    "import ipywidgets as widgets\n",
    "import functools\n",
    "from random import random, sample\n",
    "import graph_processing as gp\n",
    "\n",
    "G,houses_id,obj_id,from_list,to_list,nodes = [],[],[],[],[],[]\n",
    "chosen_obj,chosen_houses = [],[]\n",
    "matrix = []\n",
    "cluster_cash = []\n",
    "clusters_info_2, clusters_info_3,clusters_info_5 = [],[],[]"
   ]
  },
  {
   "cell_type": "code",
   "execution_count": 2,
   "metadata": {},
   "outputs": [],
   "source": [
    "def load_object(obj,osm_file='orig_graph.osm'):\n",
    "    global G,houses_id,obj_id,nodes\n",
    "    print('loading')\n",
    "    G,houses_id,obj_id,nodes = gp.create_graph_from_osm(obj,osm_file)\n",
    "    gp.draw_graph(G,nodes)"
   ]
  },
  {
   "cell_type": "code",
   "execution_count": 3,
   "metadata": {},
   "outputs": [],
   "source": [
    "w = widgets.interactive(load_object,{'manual': True,'manual_name':'Init object and graph'},obj=['medicine','firewatch', 'market'])"
   ]
  },
  {
   "cell_type": "code",
   "execution_count": 4,
   "metadata": {},
   "outputs": [],
   "source": [
    "def run_culc(h_count,obj_count,obj_weight):\n",
    "    global G,houses_id,obj_id,from_list,to_list\n",
    "    gp.set_weights(G,obj_id,obj_weight)\n",
    "    from_list = sample(houses_id, h_count)\n",
    "    to_list = sample(obj_id, obj_count)\n",
    "    print('start')\n",
    "    gp.write_dijkstra_csv(G,'dijkstra1',from_list,to_list)\n",
    "    gp.write_dijkstra_csv(G,'dijkstra2',to_list,from_list)\n",
    "    print('calculated')"
   ]
  },
  {
   "cell_type": "code",
   "execution_count": 5,
   "metadata": {},
   "outputs": [],
   "source": [
    "params = widgets.interactive(run_culc,{'manual': True,'manual_name':'Set params'},h_count = (10,100),obj_count = (1,20),obj_weight=(1.0,2.0))"
   ]
  },
  {
   "cell_type": "code",
   "execution_count": 6,
   "metadata": {},
   "outputs": [],
   "source": [
    "def draw_clear_graph():\n",
    "    global G,nodes\n",
    "    gp.draw_graph(G,nodes)\n",
    "\n",
    "def draw_min_to_obj():\n",
    "    global G,nodes,from_list,to_list\n",
    "    min_ways = gp.read_dijkstra_csv('dijkstra1')\n",
    "    min_ways.update(gp.read_dijkstra_csv('dijkstra2'))\n",
    "    min_oneways1 = gp.search_min_oneways(min_ways,from_list,to_list)\n",
    "    gp.draw_ways_on_graph(G,nodes,min_oneways1)\n",
    "\n",
    "def draw_min_from_obj():\n",
    "    global G,nodes,from_list,to_list\n",
    "    min_ways = gp.read_dijkstra_csv('dijkstra1')\n",
    "    min_ways.update(gp.read_dijkstra_csv('dijkstra2'))\n",
    "    min_oneways2 = gp.search_min_oneways(min_ways,to_list,from_list)\n",
    "    gp.draw_ways_on_graph(G,nodes,min_oneways2)\n",
    "\n",
    "def draw_min_there_and_back():\n",
    "    global G,nodes,from_list,to_list\n",
    "    min_ways = gp.read_dijkstra_csv('dijkstra1')\n",
    "    min_ways.update(gp.read_dijkstra_csv('dijkstra2'))\n",
    "    min_ways_there_and_back = gp.search_min_ways_there_and_back(min_ways,from_list,to_list)\n",
    "    gp.draw_ways_on_graph(G,nodes,min_ways_there_and_back)\n",
    "\n",
    "def draw_close_to_obj():\n",
    "    global G,nodes,from_list,to_list\n",
    "    min_ways = gp.read_dijkstra_csv('dijkstra1')\n",
    "    min_ways.update(gp.read_dijkstra_csv('dijkstra2'))\n",
    "    near_ways1 = gp.search_near_ways(min_ways,distance,from_list,to_list)\n",
    "    gp.draw_ways_on_graph(G,nodes,near_ways1)\n",
    "    \n",
    "def draw_close_from_obj():\n",
    "    global G,nodes,from_list,to_list\n",
    "    min_ways = gp.read_dijkstra_csv('dijkstra1')\n",
    "    min_ways.update(gp.read_dijkstra_csv('dijkstra2'))\n",
    "    near_ways2 = gp.search_near_ways(min_ways,distance,from_list,to_list)\n",
    "    gp.draw_ways_on_graph(G,nodes,near_ways2)\n",
    "\n",
    "def draw_close_there_and_back():\n",
    "    global G,nodes,from_list,to_list\n",
    "    min_ways = gp.read_dijkstra_csv('dijkstra1')\n",
    "    min_ways.update(gp.read_dijkstra_csv('dijkstra2'))\n",
    "    near_ways_there_and_back = gp.search_near_ways_there_and_back(min_ways,distance,from_list,to_list)\n",
    "    gp.draw_ways_on_graph(G,nodes,near_ways_there_and_back)\n",
    "\n",
    "def draw_minmax_to_obj():\n",
    "    global G,nodes,from_list,to_list\n",
    "    min_ways = gp.read_dijkstra_csv('dijkstra1')\n",
    "    min_ways.update(gp.read_dijkstra_csv('dijkstra2'))\n",
    "    minmax_way1 = gp.search_minmax_way(min_ways,from_list,to_list)\n",
    "    gp.draw_ways_on_graph(G,nodes,minmax_way1)\n",
    "\n",
    "def draw_minmax_from_obj():\n",
    "    global G,nodes,from_list,to_list\n",
    "    min_ways = gp.read_dijkstra_csv('dijkstra1')\n",
    "    min_ways.update(gp.read_dijkstra_csv('dijkstra2'))\n",
    "    minmax_way2 = gp.search_minmax_way(min_ways,from_list,to_list)\n",
    "    gp.draw_ways_on_graph(G,nodes,minmax_way2)\n",
    "\n",
    "def draw_minmax_there_and_back():\n",
    "    global G,nodes,from_list,to_list\n",
    "    min_ways = gp.read_dijkstra_csv('dijkstra1')\n",
    "    min_ways.update(gp.read_dijkstra_csv('dijkstra2'))\n",
    "    minmax_way_there_and_back = gp.search_minmax_way_there_and_back(min_ways,from_list,to_list)\n",
    "    gp.draw_ways_on_graph(G,nodes,minmax_way_there_and_back)\n",
    "\n",
    "def draw_min_distance():\n",
    "    global G,nodes,from_list,to_list\n",
    "    min_ways = gp.read_dijkstra_csv('dijkstra1')\n",
    "    min_ways.update(gp.read_dijkstra_csv('dijkstra2'))\n",
    "    min_distance_to_node,min_distance,min_distance_way = gp.search_min_distance_to_node(min_ways,from_list,to_list,sum)\n",
    "    gp.draw_ways_on_graph(G,nodes,min_distance_way)\n",
    "\n",
    "def draw_min_weight():\n",
    "    global G,nodes,from_list,to_list\n",
    "    min_ways = gp.read_dijkstra_csv('dijkstra1')\n",
    "    min_ways.update(gp.read_dijkstra_csv('dijkstra2'))\n",
    "    min_weight_to_node,min_weight,min_weight_way = gp.search_min_weight_to_node(min_ways,from_list,to_list,sum)\n",
    "    gp.draw_ways_on_graph(G,nodes,min_weight_way)"
   ]
  },
  {
   "cell_type": "code",
   "execution_count": 7,
   "metadata": {},
   "outputs": [],
   "source": [
    "#widgets description\n",
    "\n",
    "\n",
    "upload = widgets.FileUpload(\n",
    "    accept='',  # Accepted file extension e.g. '.txt', '.pdf', 'image/*', 'image/*,.pdf'\n",
    "    multiple=False  # True to accept multiple files upload else False\n",
    ")\n",
    "\n",
    "def get_content_from_file(upload_widget):\n",
    "    uploaded_filename = next(iter(upl.value))\n",
    "    content = upl.value[uploaded_filename]['content']\n",
    "    return content\n",
    "\n",
    "tasks = [widgets.interactive(draw_clear_graph,{'manual': True,'manual_name':'Clear graph'}),\n",
    "        widgets.interactive(draw_min_to_obj,{'manual': True,'manual_name':'Closest objects'}),\n",
    "        widgets.interactive(draw_min_from_obj,{'manual': True,'manual_name':'Closest houses'}),\n",
    "        widgets.interactive(draw_min_there_and_back,{'manual': True,'manual_name':'Closest there and back'}),\n",
    "        widgets.interactive(draw_close_to_obj,{'manual': True,'manual_name':'Objects in range'},distance=(5,40)),\n",
    "        widgets.interactive(draw_close_from_obj,{'manual': True,'manual_name':'Houses in range'},distance=(5,40)),\n",
    "        widgets.interactive(draw_close_there_and_back,{'manual': True,'manual_name':'There and back in range'},distance=(5,40)),\n",
    "        widgets.interactive(draw_minmax_to_obj,{'manual': True,'manual_name':'Minmax to object'}),\n",
    "        widgets.interactive(draw_minmax_from_obj,{'manual': True,'manual_name':'Minmax to house'}),\n",
    "        widgets.interactive(draw_minmax_there_and_back,{'manual': True,'manual_name':'Minmax There and back'}),\n",
    "        widgets.interactive(draw_min_distance,{'manual': True,'manual_name':'Minimal distance'}),\n",
    "        widgets.interactive(draw_min_weight,{'manual': True,'manual_name':'Minimal weight'})]\n",
    "\n",
    "titles = ['Clear Graph',\n",
    "         'Minimal distance to object', 'Minimal distance from object','Minimal distance there and back',\n",
    "         'Objects in range', 'Houses in range', 'There and back in range',\n",
    "         'MinMax distance to object', 'MinMax distance from object', 'MinMax distance there and back',\n",
    "         'Object with minimal distance','Object with minimal weight']"
   ]
  },
  {
   "cell_type": "code",
   "execution_count": 8,
   "metadata": {},
   "outputs": [],
   "source": [
    "tab = widgets.Tab()\n",
    "tab.children = tasks\n",
    "for i in range(len(tasks)):\n",
    "    tab.set_title(i, titles[i])"
   ]
  },
  {
   "cell_type": "code",
   "execution_count": 9,
   "metadata": {},
   "outputs": [],
   "source": [
    "def choose_new_object():\n",
    "    global chosen_obj, obj_id\n",
    "    chosen_obj = sample(obj_id, 1)[0]\n",
    "def choose_new_houses():\n",
    "    global chosen_houses, houses_id\n",
    "    chosen_houses = sample(houses_id, 50)\n",
    "def calc_cluster_matrix():\n",
    "    global G,chosen_houses, matrix\n",
    "    print('start')\n",
    "    matrix = gp.get_cluster_matrix(G,chosen_houses)\n",
    "    print('fifnsh')"
   ]
  },
  {
   "cell_type": "code",
   "execution_count": 10,
   "metadata": {},
   "outputs": [],
   "source": [
    "rand_obj = widgets.interactive(choose_new_object,{'manual': True,'manual_name':'New object'})\n",
    "rand_houses = widgets.interactive(choose_new_houses,{'manual': True,'manual_name':'New houses'})\n",
    "reculc_matrix = widgets.interactive(calc_cluster_matrix,{'manual': True,'manual_name':'Recalculate matrix'})"
   ]
  },
  {
   "cell_type": "code",
   "execution_count": 11,
   "metadata": {},
   "outputs": [],
   "source": [
    "def tree_from_obj():\n",
    "    global G, nodes, chosen_obj,chosen_houses\n",
    "    tree_from_med, tree_length, tree_min_length = gp.get_tree_and_sum(G, str(chosen_obj), chosen_houses)\n",
    "    gp.draw_ways_on_graph(G, nodes, tree_from_med)\n",
    "    print('Общая длина дерева:',tree_length,'Cумма кратчайших расстояний:', tree_min_length)"
   ]
  },
  {
   "cell_type": "code",
   "execution_count": 12,
   "metadata": {},
   "outputs": [],
   "source": [
    "tree_from_obj_btn = widgets.interactive(tree_from_obj,{'manual': True,'manual_name':'Tree from object'})"
   ]
  },
  {
   "cell_type": "code",
   "execution_count": 13,
   "metadata": {},
   "outputs": [],
   "source": [
    "def dendrogram():\n",
    "    global matrix, cluster_cash\n",
    "    cluster_cash, dn = gp.get_cluster_cash_and_dendrogram(matrix)"
   ]
  },
  {
   "cell_type": "code",
   "execution_count": 14,
   "metadata": {},
   "outputs": [],
   "source": [
    "dendrogram_btn = widgets.interactive(dendrogram,{'manual': True,'manual_name':'Dendrogram'})"
   ]
  },
  {
   "cell_type": "code",
   "execution_count": 15,
   "metadata": {},
   "outputs": [],
   "source": [
    "def clusters_info_task():\n",
    "    global G,cluster_cash, chosen_houses, nodes, chosen_obj, clusters_info_2, clusters_info_3,clusters_info_5\n",
    "    clusters_info_2, clusters_info_3,clusters_info_5 = gp.get_clusters_info_task(G,cluster_cash, chosen_houses, nodes, chosen_obj)"
   ]
  },
  {
   "cell_type": "code",
   "execution_count": 16,
   "metadata": {},
   "outputs": [],
   "source": [
    "cluster_info = widgets.interactive(clusters_info_task,{'manual': True,'manual_name':'Caalculate clusters'})"
   ]
  },
  {
   "cell_type": "code",
   "execution_count": 17,
   "metadata": {},
   "outputs": [],
   "source": [
    "def tree_from_cluster_k2():\n",
    "    global G,clusters_info, chosen_obj, clusters_info_2, clusters_info_3,clusters_info_5, nodes\n",
    "    tree_to_centroids_2, tree_to_centroids_sum_2, tree_to_centroids_min_sum_2 = gp.count_centroids_tree_from_cluster(G,clusters_info_2, chosen_obj)\n",
    "    gp.draw_ways_on_graph(G, nodes, tree_to_centroids_2, way_color='r')\n",
    "    print('Общая длина дерева:',tree_to_centroids_sum_2,'Cумма кратчайших расстояний:', tree_to_centroids_min_sum_2)\n",
    "    \n",
    "def tree_from_cluster_k3():\n",
    "    global G,clusters_info, chosen_obj, clusters_info_2, clusters_info_3,clusters_info_5, nodes\n",
    "    tree_to_centroids_3, tree_to_centroids_sum_3, tree_to_centroids_min_sum_3 = gp.count_centroids_tree_from_cluster(G,clusters_info_3, chosen_obj)\n",
    "    gp.draw_ways_on_graph(G, nodes, tree_to_centroids_3, way_color='r')\n",
    "    print('Общая длина дерева:',tree_to_centroids_sum_3,'Cумма кратчайших расстояний:', tree_to_centroids_min_sum_3)\n",
    "    \n",
    "def tree_from_cluster_k5():\n",
    "    global G,clusters_info, chosen_obj, clusters_info_2, clusters_info_3,clusters_info_5, nodes\n",
    "    tree_to_centroids_5, tree_to_centroids_sum_5, tree_to_centroids_min_sum_5 = gp.count_centroids_tree_from_cluster(G,clusters_info_5, chosen_obj)\n",
    "    gp.draw_ways_on_graph(G, nodes, tree_to_centroids_5, way_color='r')\n",
    "    print('Общая длина дерева:',tree_to_centroids_sum_5,'Cумма кратчайших расстояний:', tree_to_centroids_min_sum_5)"
   ]
  },
  {
   "cell_type": "code",
   "execution_count": 18,
   "metadata": {},
   "outputs": [],
   "source": [
    "tree_btn2 = widgets.interactive(tree_from_cluster_k2,{'manual': True,'manual_name':'Trees on k=2'})\n",
    "tree_btn3 = widgets.interactive(tree_from_cluster_k3,{'manual': True,'manual_name':'Trees on k=3'})\n",
    "tree_btn5 = widgets.interactive(tree_from_cluster_k5,{'manual': True,'manual_name':'Trees on k=5'})"
   ]
  },
  {
   "cell_type": "code",
   "execution_count": 19,
   "metadata": {},
   "outputs": [],
   "source": [
    "def drow_cluster_k2():\n",
    "    global G,clusters_info, clusters_info_2, clusters_info_3,clusters_info_5, nodes\n",
    "    gp.draw_clusters(G,nodes,clusters_info_2)\n",
    "    \n",
    "def drow_cluster_k3():\n",
    "    global G,clusters_info, clusters_info_2, clusters_info_3,clusters_info_5, nodes\n",
    "    gp.draw_clusters(G,nodes,clusters_info_3)\n",
    "    \n",
    "def drow_cluster_k5():\n",
    "    global G,clusters_info, clusters_info_2, clusters_info_3,clusters_info_5, nodes\n",
    "    gp.draw_clusters(G,nodes,clusters_info_5)"
   ]
  },
  {
   "cell_type": "code",
   "execution_count": 20,
   "metadata": {},
   "outputs": [],
   "source": [
    "cluster_btn2 = widgets.interactive(drow_cluster_k2,{'manual': True,'manual_name':'Clusters on k=2'})\n",
    "cluster_btn3 = widgets.interactive(drow_cluster_k3,{'manual': True,'manual_name':'Clusters on k=3'})\n",
    "cluster_btn5 = widgets.interactive(drow_cluster_k5,{'manual': True,'manual_name':'Clusters on k=5'})"
   ]
  },
  {
   "cell_type": "code",
   "execution_count": 21,
   "metadata": {},
   "outputs": [],
   "source": [
    "preps = widgets.HBox([rand_obj,rand_houses,reculc_matrix])"
   ]
  },
  {
   "cell_type": "code",
   "execution_count": 22,
   "metadata": {},
   "outputs": [],
   "source": [
    "tasks = [tree_from_obj_btn,\n",
    "        dendrogram_btn]\n",
    "\n",
    "titles = ['Tree','Dendrogramm']\n",
    "\n",
    "cluster_tab1 = widgets.Tab()\n",
    "cluster_tab1.children = tasks\n",
    "for i in range(len(tasks)):\n",
    "    cluster_tab1.set_title(i, titles[i])"
   ]
  },
  {
   "cell_type": "code",
   "execution_count": 23,
   "metadata": {},
   "outputs": [],
   "source": [
    "tasks = [cluster_btn2,\n",
    "        tree_btn2]\n",
    "titles = ['clusters','tree']\n",
    "cluster_tab2 = widgets.Tab()\n",
    "cluster_tab2.children = tasks\n",
    "for i in range(len(tasks)):\n",
    "    cluster_tab2.set_title(i, titles[i])\n",
    "    \n",
    "tasks = [cluster_btn3,\n",
    "        tree_btn3]\n",
    "titles = ['clusters','tree']\n",
    "cluster_tab3 = widgets.Tab()\n",
    "cluster_tab3.children = tasks\n",
    "for i in range(len(tasks)):\n",
    "    cluster_tab3.set_title(i, titles[i])\n",
    "    \n",
    "tasks = [cluster_btn5,\n",
    "        tree_btn5]\n",
    "titles = ['clusters','tree']\n",
    "cluster_tab5 = widgets.Tab()\n",
    "cluster_tab5.children = tasks\n",
    "for i in range(len(tasks)):\n",
    "    cluster_tab5.set_title(i, titles[i])\n",
    "\n",
    "tasks = [cluster_tab2,\n",
    "        cluster_tab3,\n",
    "        cluster_tab5]\n",
    "titles = ['2','3','5']\n",
    "cluster_tabs = widgets.Tab()\n",
    "cluster_tabs.children = tasks\n",
    "for i in range(len(tasks)):\n",
    "    cluster_tabs.set_title(i, titles[i])"
   ]
  },
  {
   "cell_type": "code",
   "execution_count": 24,
   "metadata": {
    "scrolled": false
   },
   "outputs": [
    {
     "data": {
      "application/vnd.jupyter.widget-view+json": {
       "model_id": "9806ecd5a02b431fa8580ba6fb76022d",
       "version_major": 2,
       "version_minor": 0
      },
      "text/plain": [
       "VBox(children=(HBox(children=(Label(value='1REQUIRED:'), interactive(children=(Dropdown(description='obj', opt…"
      ]
     },
     "metadata": {},
     "output_type": "display_data"
    }
   ],
   "source": [
    "widgets.VBox([widgets.HBox([widgets.Label(value='1REQUIRED:'),w]),\n",
    "              params,\n",
    "              tab,\n",
    "              widgets.HBox([widgets.Label(value='2REQUIRED:'),preps]),\n",
    "              tree_from_obj_btn,\n",
    "              widgets.HBox([widgets.Label(value='3REQUIRED:'),dendrogram_btn]),\n",
    "              widgets.HBox([widgets.Label(value='4REQUIRED:'),cluster_info]),\n",
    "              cluster_tabs])"
   ]
  },
  {
   "cell_type": "code",
   "execution_count": null,
   "metadata": {},
   "outputs": [],
   "source": []
  }
 ],
 "metadata": {
  "kernelspec": {
   "display_name": "Python 3",
   "language": "python",
   "name": "python3"
  },
  "language_info": {
   "codemirror_mode": {
    "name": "ipython",
    "version": 3
   },
   "file_extension": ".py",
   "mimetype": "text/x-python",
   "name": "python",
   "nbconvert_exporter": "python",
   "pygments_lexer": "ipython3",
   "version": "3.8.3"
  }
 },
 "nbformat": 4,
 "nbformat_minor": 4
}
