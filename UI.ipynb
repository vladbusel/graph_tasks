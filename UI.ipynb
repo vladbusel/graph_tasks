{
 "cells": [
  {
   "cell_type": "code",
   "execution_count": 2,
   "metadata": {},
   "outputs": [],
   "source": [
    "import ipywidgets as widgets\n",
    "import graph_processing as gp\n"
   ]
  },
  {
   "cell_type": "code",
   "execution_count": 21,
   "metadata": {},
   "outputs": [],
   "source": [
    "#widgets description\n",
    "\n",
    "\n",
    "upload = widgets.FileUpload(\n",
    "    accept='',  # Accepted file extension e.g. '.txt', '.pdf', 'image/*', 'image/*,.pdf'\n",
    "    multiple=False  # True to accept multiple files upload else False\n",
    ")\n",
    "\n",
    "def get_content_from_file(upload_widget):\n",
    "    uploaded_filename = next(iter(upl.value))\n",
    "    content = upl.value[uploaded_filename]['content']\n",
    "    return content\n",
    "\n",
    "tasks = [widgets.interactive(gp.draw_clear_graph,{'manual': True}),\n",
    "        widgets.interactive(gp.draw_min_to_obj,{'manual': True}, h_count=(10,100),obj_count=(1,10), obj_weight=(1.0, 2.0, 0.1)),\n",
    "        widgets.interactive(gp.draw_min_from_obj,{'manual': True}, h_count=(10,100),obj_count=(1,10), obj_weight=(1.0, 2.0, 0.1)),\n",
    "        widgets.interactive(gp.draw_min_there_and_back,{'manual': True}, h_count=(10,100),obj_count=(1,10), obj_weight=(1.0, 2.0, 0.1)),\n",
    "        widgets.interactive(gp.draw_close_to_obj,{'manual': True}, h_count=(10,100),obj_count=(1,10), obj_weight=(1.0, 2.0, 0.1),distance=(5,30)),\n",
    "        widgets.interactive(gp.draw_close_from_obj,{'manual': True}, h_count=(10,100),obj_count=(1,10), obj_weight=(1.0, 2.0, 0.1),distance=(5,30)),\n",
    "        widgets.interactive(gp.draw_close_there_and_back,{'manual': True}, h_count=(10,100),obj_count=(1,10), obj_weight=(1.0, 2.0, 0.1),distance=(5,30)),\n",
    "        widgets.interactive(gp.draw_minmax_to_obj,{'manual': True}, h_count=(10,100),obj_count=(1,10), obj_weight=(1.0, 2.0, 0.1)),\n",
    "        widgets.interactive(gp.draw_minmax_from_obj,{'manual': True}, h_count=(10,100),obj_count=(1,10), obj_weight=(1.0, 2.0, 0.1)),\n",
    "        widgets.interactive(gp.draw_minmax_there_and_back,{'manual': True}, h_count=(10,100),obj_count=(1,10), obj_weight=(1.0, 2.0, 0.1)),\n",
    "        widgets.interactive(gp.draw_min_distance,{'manual': True}, h_count=(10,100),obj_count=(1,10), obj_weight=(1.0, 2.0, 0.1)),\n",
    "        widgets.interactive(gp.draw_min_weight,{'manual': True}, h_count=(10,100),obj_count=(1,10), obj_weight=(1.0, 2.0, 0.1))]\n",
    "\n",
    "titles = ['Clear Graph',\n",
    "         'Minimal distance to object', 'Minimal distance from object','Minimal distance there and back',\n",
    "         'Objects in range', 'Houses in range', 'There and back in range',\n",
    "         'MinMax distance to object', 'MinMax distance from object', 'MinMax distance there and back',\n",
    "         'Object with minimal distance','Object with minimal weight']"
   ]
  },
  {
   "cell_type": "code",
   "execution_count": 23,
   "metadata": {},
   "outputs": [],
   "source": [
    "#Grids\n",
    "\n",
    "#Header\n",
    "items = [upload, widgets.Label(value=\"This is a Graph Project\")]\n",
    "header_box = widgets.HBox(items)\n",
    "\n",
    "#Params\n",
    "tab = widgets.Tab()\n",
    "tab.children = tasks\n",
    "for i in range(len(tasks)):\n",
    "    tab.set_title(i, titles[i])"
   ]
  },
  {
   "cell_type": "code",
   "execution_count": 24,
   "metadata": {},
   "outputs": [
    {
     "data": {
      "application/vnd.jupyter.widget-view+json": {
       "model_id": "374085c719ef4447999f307e00298b0d",
       "version_major": 2,
       "version_minor": 0
      },
      "text/plain": [
       "AppLayout(children=(HBox(children=(FileUpload(value={}, description='Upload'), Label(value='This is a Graph Pr…"
      ]
     },
     "metadata": {},
     "output_type": "display_data"
    }
   ],
   "source": [
    "widgets.AppLayout(header=header_box,\n",
    "          left_sidebar=None,\n",
    "          center=tab,\n",
    "          right_sidebar=None,\n",
    "          footer=None)"
   ]
  },
  {
   "cell_type": "code",
   "execution_count": 20,
   "metadata": {},
   "outputs": [],
   "source": [
    "#maybe use it as log\n",
    "int_range = widgets.IntSlider()\n",
    "output2 = widgets.Output()\n",
    "\n",
    "\n",
    "\n",
    "def on_value_change(change):\n",
    "    with output2:\n",
    "        print(change['new'])\n",
    "\n",
    "int_range.observe(on_value_change, names='value')\n",
    "w = widgets.VBox([int_range, output2])"
   ]
  },
  {
   "cell_type": "code",
   "execution_count": null,
   "metadata": {},
   "outputs": [],
   "source": []
  }
 ],
 "metadata": {
  "kernelspec": {
   "display_name": "Python 3",
   "language": "python",
   "name": "python3"
  },
  "language_info": {
   "codemirror_mode": {
    "name": "ipython",
    "version": 3
   },
   "file_extension": ".py",
   "mimetype": "text/x-python",
   "name": "python",
   "nbconvert_exporter": "python",
   "pygments_lexer": "ipython3",
   "version": "3.8.3"
  }
 },
 "nbformat": 4,
 "nbformat_minor": 4
}
