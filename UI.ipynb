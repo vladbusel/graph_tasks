{
 "cells": [
  {
   "cell_type": "code",
   "execution_count": 1,
   "metadata": {},
   "outputs": [],
   "source": [
    "import ipywidgets as widgets\n",
    "import functools\n",
    "from random import random, sample\n",
    "import graph_processing as gp\n",
    "\n",
    "G,houses_id,obj_id,from_list,to_list,nodes = [],[],[],[],[],[]\n",
    "chosen_obj,chosen_houses = [],[]\n",
    "matrix = []\n",
    "cluster_cash = []\n",
    "clusters_info_2, clusters_info_3,clusters_info_5 = [],[],[]"
   ]
  },
  {
   "cell_type": "code",
   "execution_count": 2,
   "metadata": {},
   "outputs": [],
   "source": [
    "def load_object(obj,osm_file='orig_graph.osm'):\n",
    "    global G,houses_id,obj_id,nodes\n",
    "    print('loading')\n",
    "    G,houses_id,obj_id,nodes = gp.create_graph_from_osm(obj,osm_file)\n",
    "    gp.draw_graph(G,nodes)"
   ]
  },
  {
   "cell_type": "code",
   "execution_count": 3,
   "metadata": {},
   "outputs": [],
   "source": [
    "w = widgets.interactive(load_object,{'manual': True},obj=['medicine','firewatch', 'market'])"
   ]
  },
  {
   "cell_type": "code",
   "execution_count": 4,
   "metadata": {},
   "outputs": [],
   "source": [
    "def run_culc(h_count,obj_count,obj_weight):\n",
    "    global G,houses_id,obj_id,from_list,to_list\n",
    "    gp.set_weights(G,obj_id,obj_weight)\n",
    "    from_list = sample(houses_id, h_count)\n",
    "    to_list = sample(obj_id, obj_count)\n",
    "    print('start')\n",
    "    gp.write_dijkstra_csv(G,'dijkstra1',from_list,to_list)\n",
    "    gp.write_dijkstra_csv(G,'dijkstra2',to_list,from_list)\n",
    "    print('calculated')"
   ]
  },
  {
   "cell_type": "code",
   "execution_count": 5,
   "metadata": {},
   "outputs": [],
   "source": [
    "params = widgets.interactive(run_culc,{'manual': True},h_count = (10,100),obj_count = (1,20),obj_weight=(1.0,2.0))"
   ]
  },
  {
   "cell_type": "code",
   "execution_count": 6,
   "metadata": {},
   "outputs": [],
   "source": [
    "def draw_clear_graph():\n",
    "    global G,nodes\n",
    "    gp.draw_graph(G,nodes)\n",
    "\n",
    "def draw_min_to_obj():\n",
    "    global G,nodes,from_list,to_list\n",
    "    min_ways = gp.read_dijkstra_csv('dijkstra1')\n",
    "    min_ways.update(gp.read_dijkstra_csv('dijkstra2'))\n",
    "    min_oneways1 = gp.search_min_oneways(min_ways,from_list,to_list)\n",
    "    gp.draw_ways_on_graph(G,nodes,min_oneways1)\n",
    "\n",
    "def draw_min_from_obj():\n",
    "    global G,nodes,from_list,to_list\n",
    "    min_ways = gp.read_dijkstra_csv('dijkstra1')\n",
    "    min_ways.update(gp.read_dijkstra_csv('dijkstra2'))\n",
    "    min_oneways2 = gp.search_min_oneways(min_ways,to_list,from_list)\n",
    "    gp.draw_ways_on_graph(G,nodes,min_oneways2)\n",
    "\n",
    "def draw_min_there_and_back():\n",
    "    global G,nodes,from_list,to_list\n",
    "    min_ways = gp.read_dijkstra_csv('dijkstra1')\n",
    "    min_ways.update(gp.read_dijkstra_csv('dijkstra2'))\n",
    "    min_ways_there_and_back = gp.search_min_ways_there_and_back(min_ways,from_list,to_list)\n",
    "    gp.draw_ways_on_graph(G,nodes,min_ways_there_and_back)\n",
    "\n",
    "def draw_close_to_obj():\n",
    "    global G,nodes,from_list,to_list\n",
    "    min_ways = gp.read_dijkstra_csv('dijkstra1')\n",
    "    min_ways.update(gp.read_dijkstra_csv('dijkstra2'))\n",
    "    near_ways1 = gp.search_near_ways(min_ways,distance,from_list,to_list)\n",
    "    gp.draw_ways_on_graph(G,nodes,near_ways1)\n",
    "    \n",
    "def draw_close_from_obj():\n",
    "    global G,nodes,from_list,to_list\n",
    "    min_ways = gp.read_dijkstra_csv('dijkstra1')\n",
    "    min_ways.update(gp.read_dijkstra_csv('dijkstra2'))\n",
    "    near_ways2 = gp.search_near_ways(min_ways,distance,from_list,to_list)\n",
    "    gp.draw_ways_on_graph(G,nodes,near_ways2)\n",
    "\n",
    "def draw_close_there_and_back():\n",
    "    global G,nodes,from_list,to_list\n",
    "    min_ways = gp.read_dijkstra_csv('dijkstra1')\n",
    "    min_ways.update(gp.read_dijkstra_csv('dijkstra2'))\n",
    "    near_ways_there_and_back = gp.search_near_ways_there_and_back(min_ways,distance,from_list,to_list)\n",
    "    gp.draw_ways_on_graph(G,nodes,near_ways_there_and_back)\n",
    "\n",
    "def draw_minmax_to_obj():\n",
    "    global G,nodes,from_list,to_list\n",
    "    min_ways = gp.read_dijkstra_csv('dijkstra1')\n",
    "    min_ways.update(gp.read_dijkstra_csv('dijkstra2'))\n",
    "    minmax_way1 = gp.search_minmax_way(min_ways,from_list,to_list)\n",
    "    gp.draw_ways_on_graph(G,nodes,minmax_way1)\n",
    "\n",
    "def draw_minmax_from_obj():\n",
    "    global G,nodes,from_list,to_list\n",
    "    min_ways = gp.read_dijkstra_csv('dijkstra1')\n",
    "    min_ways.update(gp.read_dijkstra_csv('dijkstra2'))\n",
    "    minmax_way2 = gp.search_minmax_way(min_ways,from_list,to_list)\n",
    "    gp.draw_ways_on_graph(G,nodes,minmax_way2)\n",
    "\n",
    "def draw_minmax_there_and_back():\n",
    "    global G,nodes,from_list,to_list\n",
    "    min_ways = gp.read_dijkstra_csv('dijkstra1')\n",
    "    min_ways.update(gp.read_dijkstra_csv('dijkstra2'))\n",
    "    minmax_way_there_and_back = gp.search_minmax_way_there_and_back(min_ways,from_list,to_list)\n",
    "    gp.draw_ways_on_graph(G,nodes,minmax_way_there_and_back)\n",
    "\n",
    "def draw_min_distance():\n",
    "    global G,nodes,from_list,to_list\n",
    "    min_ways = gp.read_dijkstra_csv('dijkstra1')\n",
    "    min_ways.update(gp.read_dijkstra_csv('dijkstra2'))\n",
    "    min_distance_to_node,min_distance,min_distance_way = gp.search_min_distance_to_node(min_ways,from_list,to_list,sum)\n",
    "    gp.draw_ways_on_graph(G,nodes,min_distance_way)\n",
    "\n",
    "def draw_min_weight():\n",
    "    global G,nodes,from_list,to_list\n",
    "    min_ways = gp.read_dijkstra_csv('dijkstra1')\n",
    "    min_ways.update(gp.read_dijkstra_csv('dijkstra2'))\n",
    "    min_weight_to_node,min_weight,min_weight_way = gp.search_min_weight_to_node(min_ways,from_list,to_list,sum)\n",
    "    gp.draw_ways_on_graph(G,nodes,min_weight_way)"
   ]
  },
  {
   "cell_type": "code",
   "execution_count": 7,
   "metadata": {},
   "outputs": [],
   "source": [
    "#widgets description\n",
    "\n",
    "\n",
    "upload = widgets.FileUpload(\n",
    "    accept='',  # Accepted file extension e.g. '.txt', '.pdf', 'image/*', 'image/*,.pdf'\n",
    "    multiple=False  # True to accept multiple files upload else False\n",
    ")\n",
    "\n",
    "def get_content_from_file(upload_widget):\n",
    "    uploaded_filename = next(iter(upl.value))\n",
    "    content = upl.value[uploaded_filename]['content']\n",
    "    return content\n",
    "\n",
    "tasks = [widgets.interactive(draw_clear_graph,{'manual': True}),\n",
    "        widgets.interactive(draw_min_to_obj,{'manual': True}),\n",
    "        widgets.interactive(draw_min_from_obj,{'manual': True}),\n",
    "        widgets.interactive(draw_min_there_and_back,{'manual': True}),\n",
    "        widgets.interactive(draw_close_to_obj,{'manual': True},distance=(5,40)),\n",
    "        widgets.interactive(draw_close_from_obj,{'manual': True},distance=(5,40)),\n",
    "        widgets.interactive(draw_close_there_and_back,{'manual': True},distance=(5,40)),\n",
    "        widgets.interactive(draw_minmax_to_obj,{'manual': True}),\n",
    "        widgets.interactive(draw_minmax_from_obj,{'manual': True}),\n",
    "        widgets.interactive(draw_minmax_there_and_back,{'manual': True}),\n",
    "        widgets.interactive(draw_min_distance,{'manual': True}),\n",
    "        widgets.interactive(draw_min_weight,{'manual': True})]\n",
    "\n",
    "titles = ['Clear Graph',\n",
    "         'Minimal distance to object', 'Minimal distance from object','Minimal distance there and back',\n",
    "         'Objects in range', 'Houses in range', 'There and back in range',\n",
    "         'MinMax distance to object', 'MinMax distance from object', 'MinMax distance there and back',\n",
    "         'Object with minimal distance','Object with minimal weight']"
   ]
  },
  {
   "cell_type": "code",
   "execution_count": 8,
   "metadata": {},
   "outputs": [],
   "source": [
    "tab = widgets.Tab()\n",
    "tab.children = tasks\n",
    "for i in range(len(tasks)):\n",
    "    tab.set_title(i, titles[i])"
   ]
  },
  {
   "cell_type": "code",
   "execution_count": 29,
   "metadata": {},
   "outputs": [],
   "source": [
    "def choose_new_object():\n",
    "    global chosen_obj, obj_id\n",
    "    chosen_obj = sample(obj_id, 1)[0]\n",
    "def choose_new_houses():\n",
    "    global chosen_houses, houses_id\n",
    "    chosen_houses = sample(houses_id, 50)\n",
    "def calc_cluster_matrix():\n",
    "    global G,chosen_houses, matrix\n",
    "    print('start')\n",
    "    matrix = gp.get_cluster_matrix(G,chosen_houses)\n",
    "    print('fifnsh')"
   ]
  },
  {
   "cell_type": "code",
   "execution_count": 30,
   "metadata": {},
   "outputs": [],
   "source": [
    "rand_obj = widgets.interactive(choose_new_object,{'manual': True})\n",
    "rand_houses = widgets.interactive(choose_new_houses,{'manual': True})\n",
    "reculc_matrix = widgets.interactive(calc_cluster_matrix,{'manual': True})"
   ]
  },
  {
   "cell_type": "code",
   "execution_count": 11,
   "metadata": {},
   "outputs": [],
   "source": [
    "def tree_from_obj():\n",
    "    global G, nodes, chosen_obj,chosen_houses\n",
    "    tree_from_med, tree_length, tree_min_length = gp.get_tree_and_sum(G, str(chosen_obj), chosen_houses)\n",
    "    gp.draw_ways_on_graph(G, nodes, tree_from_med)\n",
    "    print(tree_length, tree_min_length)"
   ]
  },
  {
   "cell_type": "code",
   "execution_count": 12,
   "metadata": {},
   "outputs": [],
   "source": [
    "tree_from_obj_btn = widgets.interactive(tree_from_obj,{'manual': True})"
   ]
  },
  {
   "cell_type": "code",
   "execution_count": 13,
   "metadata": {},
   "outputs": [],
   "source": [
    "def dendrogram():\n",
    "    global matrix, cluster_cash\n",
    "    cluster_cash, dn = gp.get_cluster_cash_and_dendrogram(matrix)"
   ]
  },
  {
   "cell_type": "code",
   "execution_count": 14,
   "metadata": {},
   "outputs": [],
   "source": [
    "dendrogram_btn = widgets.interactive(dendrogram,{'manual': True})"
   ]
  },
  {
   "cell_type": "code",
   "execution_count": 15,
   "metadata": {},
   "outputs": [],
   "source": [
    "def clusters_info_task():\n",
    "    global cluster_cash, chosen_houses, nodes, chosen_obj, clusters_info_2, clusters_info_3,clusters_info_5\n",
    "    clusters_info_2, clusters_info_3,clusters_info_5 = gp.get_clusters_info_task(cluster_cash, chosen_houses, nodes, chosen_obj)"
   ]
  },
  {
   "cell_type": "code",
   "execution_count": 16,
   "metadata": {},
   "outputs": [],
   "source": [
    "cluster_info = widgets.interactive(clusters_info_task,{'manual': True})"
   ]
  },
  {
   "cell_type": "code",
   "execution_count": 17,
   "metadata": {},
   "outputs": [],
   "source": [
    "def tree_from_cluster():\n",
    "    global G,clusters_info, chosen_obj, clusters_info_2, clusters_info_3,clusters_info_5, nodes\n",
    "    tree_to_centroids_5, tree_to_centroids_sum_5, tree_to_centroids_min_sum_5 = count_centroids_tree_from_cluster(clusters_info_5, chosen_obj)\n",
    "    gp.draw_ways_on_graph(G, nodes, tree_to_centroids_5, way_color='r')\n",
    "    print(tree_to_centroids_sum_5, tree_to_centroids_min_sum_5)"
   ]
  },
  {
   "cell_type": "code",
   "execution_count": 18,
   "metadata": {},
   "outputs": [],
   "source": [
    "tree_btn = widgets.interactive(tree_from_cluster,{'manual': True})"
   ]
  },
  {
   "cell_type": "code",
   "execution_count": 19,
   "metadata": {
    "collapsed": true
   },
   "outputs": [
    {
     "data": {
      "application/vnd.jupyter.widget-view+json": {
       "model_id": "9de2871c326d433989ed3498dda02abf",
       "version_major": 2,
       "version_minor": 0
      },
      "text/plain": [
       "VBox(children=(interactive(children=(Dropdown(description='obj', options=('medicine', 'firewatch', 'market'), …"
      ]
     },
     "metadata": {},
     "output_type": "display_data"
    }
   ],
   "source": [
    "widgets.VBox([w,params,tab])"
   ]
  },
  {
   "cell_type": "code",
   "execution_count": 31,
   "metadata": {},
   "outputs": [
    {
     "data": {
      "application/vnd.jupyter.widget-view+json": {
       "model_id": "801d5f157df345ada704763e95858b14",
       "version_major": 2,
       "version_minor": 0
      },
      "text/plain": [
       "interactive(children=(Button(description='Run Interact', style=ButtonStyle()), Output()), _dom_classes=('widge…"
      ]
     },
     "metadata": {},
     "output_type": "display_data"
    }
   ],
   "source": [
    "rand_obj"
   ]
  },
  {
   "cell_type": "code",
   "execution_count": 32,
   "metadata": {},
   "outputs": [
    {
     "data": {
      "application/vnd.jupyter.widget-view+json": {
       "model_id": "b04f22acc2a242efb37ae86e7a08ef9f",
       "version_major": 2,
       "version_minor": 0
      },
      "text/plain": [
       "interactive(children=(Button(description='Run Interact', style=ButtonStyle()), Output()), _dom_classes=('widge…"
      ]
     },
     "metadata": {},
     "output_type": "display_data"
    }
   ],
   "source": [
    "rand_houses"
   ]
  },
  {
   "cell_type": "code",
   "execution_count": 22,
   "metadata": {},
   "outputs": [
    {
     "data": {
      "application/vnd.jupyter.widget-view+json": {
       "model_id": "8b69132d422145cd8712f0f12028b2b4",
       "version_major": 2,
       "version_minor": 0
      },
      "text/plain": [
       "interactive(children=(Button(description='Run Interact', style=ButtonStyle()), Output()), _dom_classes=('widge…"
      ]
     },
     "metadata": {},
     "output_type": "display_data"
    }
   ],
   "source": [
    "reculc_matrix"
   ]
  },
  {
   "cell_type": "code",
   "execution_count": 23,
   "metadata": {
    "collapsed": true
   },
   "outputs": [
    {
     "data": {
      "application/vnd.jupyter.widget-view+json": {
       "model_id": "8480f62208e841d3b5fddfe05d288736",
       "version_major": 2,
       "version_minor": 0
      },
      "text/plain": [
       "interactive(children=(Button(description='Run Interact', style=ButtonStyle()), Output()), _dom_classes=('widge…"
      ]
     },
     "metadata": {},
     "output_type": "display_data"
    }
   ],
   "source": [
    "tree_from_obj_btn"
   ]
  },
  {
   "cell_type": "code",
   "execution_count": 33,
   "metadata": {},
   "outputs": [
    {
     "name": "stdout",
     "output_type": "stream",
     "text": [
      "50\n",
      "47\n"
     ]
    }
   ],
   "source": [
    "print(len(matrix))\n",
    "print(len(matrix[0]))"
   ]
  },
  {
   "cell_type": "code",
   "execution_count": 24,
   "metadata": {},
   "outputs": [
    {
     "data": {
      "application/vnd.jupyter.widget-view+json": {
       "model_id": "b733a5eb092b4d4c9eb75099bb8b8702",
       "version_major": 2,
       "version_minor": 0
      },
      "text/plain": [
       "interactive(children=(Button(description='Run Interact', style=ButtonStyle()), Output()), _dom_classes=('widge…"
      ]
     },
     "metadata": {},
     "output_type": "display_data"
    }
   ],
   "source": [
    "dendrogram_btn"
   ]
  },
  {
   "cell_type": "code",
   "execution_count": null,
   "metadata": {},
   "outputs": [],
   "source": []
  }
 ],
 "metadata": {
  "kernelspec": {
   "display_name": "Python 3",
   "language": "python",
   "name": "python3"
  },
  "language_info": {
   "codemirror_mode": {
    "name": "ipython",
    "version": 3
   },
   "file_extension": ".py",
   "mimetype": "text/x-python",
   "name": "python",
   "nbconvert_exporter": "python",
   "pygments_lexer": "ipython3",
   "version": "3.8.3"
  }
 },
 "nbformat": 4,
 "nbformat_minor": 4
}
