{
 "cells": [
  {
   "cell_type": "code",
   "execution_count": 49,
   "metadata": {},
   "outputs": [],
   "source": [
    "import ipywidgets as widgets\n",
    "import functools\n",
    "from random import random, sample\n",
    "import graph_processing as gp\n",
    "G,houses_id,obj_id,from_list,to_list,nodes = [],[],[],[],[],[]"
   ]
  },
  {
   "cell_type": "code",
   "execution_count": 50,
   "metadata": {},
   "outputs": [],
   "source": [
    "def load_object(obj,osm_file='orig_graph.osm'):\n",
    "    global G,houses_id,obj_id,nodes\n",
    "    print('loading')\n",
    "    G,houses_id,obj_id,nodes = gp.create_graph_from_osm(obj,osm_file)\n",
    "    gp.draw_graph(G,nodes)"
   ]
  },
  {
   "cell_type": "code",
   "execution_count": 51,
   "metadata": {},
   "outputs": [],
   "source": [
    "w = widgets.interactive(load_object,{'manual': True},obj=['medicine','firewatch', 'market'])"
   ]
  },
  {
   "cell_type": "code",
   "execution_count": 52,
   "metadata": {},
   "outputs": [],
   "source": [
    "def run_culc(h_count,obj_count,obj_weight):\n",
    "    global G,houses_id,obj_id,from_list,to_list\n",
    "    gp.set_weights(G,obj_id,obj_weight)\n",
    "    from_list = sample(houses_id, h_count)\n",
    "    to_list = sample(obj_id, obj_count)\n",
    "    print('start')\n",
    "    gp.write_dijkstra_csv(G,'dijkstra1',from_list,to_list)\n",
    "    gp.write_dijkstra_csv(G,'dijkstra2',to_list,from_list)\n",
    "    print('calculated')"
   ]
  },
  {
   "cell_type": "code",
   "execution_count": 53,
   "metadata": {},
   "outputs": [],
   "source": [
    "params = widgets.interactive(run_culc,{'manual': True},h_count = (10,100),obj_count = (1,20),obj_weight=(1.0,2.0))"
   ]
  },
  {
   "cell_type": "code",
   "execution_count": 54,
   "metadata": {},
   "outputs": [],
   "source": [
    "def draw_clear_graph():\n",
    "    global G,nodes\n",
    "    gp.draw_graph(G,nodes)\n",
    "\n",
    "def draw_min_to_obj():\n",
    "    global G,nodes,from_list,to_list\n",
    "    min_ways = gp.read_dijkstra_csv('dijkstra1')\n",
    "    min_ways.update(gp.read_dijkstra_csv('dijkstra2'))\n",
    "    min_oneways1 = gp.search_min_oneways(min_ways,from_list,to_list)\n",
    "    gp.draw_ways_on_graph(G,nodes,min_oneways1)\n",
    "\n",
    "def draw_min_from_obj():\n",
    "    global G,nodes,from_list,to_list\n",
    "    min_ways = gp.read_dijkstra_csv('dijkstra1')\n",
    "    min_ways.update(gp.read_dijkstra_csv('dijkstra2'))\n",
    "    min_oneways2 = gp.search_min_oneways(min_ways,to_list,from_list)\n",
    "    gp.draw_ways_on_graph(G,nodes,min_oneways2)\n",
    "\n",
    "def draw_min_there_and_back():\n",
    "    global G,nodes,from_list,to_list\n",
    "    min_ways = gp.read_dijkstra_csv('dijkstra1')\n",
    "    min_ways.update(gp.read_dijkstra_csv('dijkstra2'))\n",
    "    min_ways_there_and_back = gp.search_min_ways_there_and_back(min_ways,from_list,to_list)\n",
    "    gp.draw_ways_on_graph(G,nodes,min_ways_there_and_back)\n",
    "\n",
    "def draw_close_to_obj():\n",
    "    global G,nodes,from_list,to_list\n",
    "    min_ways = gp.read_dijkstra_csv('dijkstra1')\n",
    "    min_ways.update(gp.read_dijkstra_csv('dijkstra2'))\n",
    "    near_ways1 = gp.search_near_ways(min_ways,distance,from_list,to_list)\n",
    "    gp.draw_ways_on_graph(G,nodes,near_ways1)\n",
    "    \n",
    "def draw_close_from_obj():\n",
    "    global G,nodes,from_list,to_list\n",
    "    min_ways = gp.read_dijkstra_csv('dijkstra1')\n",
    "    min_ways.update(gp.read_dijkstra_csv('dijkstra2'))\n",
    "    near_ways2 = gp.search_near_ways(min_ways,distance,from_list,to_list)\n",
    "    gp.draw_ways_on_graph(G,nodes,near_ways2)\n",
    "\n",
    "def draw_close_there_and_back():\n",
    "    global G,nodes,from_list,to_list\n",
    "    min_ways = gp.read_dijkstra_csv('dijkstra1')\n",
    "    min_ways.update(gp.read_dijkstra_csv('dijkstra2'))\n",
    "    near_ways_there_and_back = gp.search_near_ways_there_and_back(min_ways,distance,from_list,to_list)\n",
    "    gp.draw_ways_on_graph(G,nodes,near_ways_there_and_back)\n",
    "\n",
    "def draw_minmax_to_obj():\n",
    "    global G,nodes,from_list,to_list\n",
    "    min_ways = gp.read_dijkstra_csv('dijkstra1')\n",
    "    min_ways.update(gp.read_dijkstra_csv('dijkstra2'))\n",
    "    minmax_way1 = gp.search_minmax_way(min_ways,from_list,to_list)\n",
    "    gp.draw_ways_on_graph(G,nodes,minmax_way1)\n",
    "\n",
    "def draw_minmax_from_obj():\n",
    "    global G,nodes,from_list,to_list\n",
    "    min_ways = gp.read_dijkstra_csv('dijkstra1')\n",
    "    min_ways.update(gp.read_dijkstra_csv('dijkstra2'))\n",
    "    minmax_way2 = gp.search_minmax_way(min_ways,from_list,to_list)\n",
    "    gp.draw_ways_on_graph(G,nodes,minmax_way2)\n",
    "\n",
    "def draw_minmax_there_and_back():\n",
    "    global G,nodes,from_list,to_list\n",
    "    min_ways = gp.read_dijkstra_csv('dijkstra1')\n",
    "    min_ways.update(gp.read_dijkstra_csv('dijkstra2'))\n",
    "    minmax_way_there_and_back = gp.search_minmax_way_there_and_back(min_ways,from_list,to_list)\n",
    "    gp.draw_ways_on_graph(G,nodes,minmax_way_there_and_back)\n",
    "\n",
    "def draw_min_distance():\n",
    "    global G,nodes,from_list,to_list\n",
    "    min_ways = gp.read_dijkstra_csv('dijkstra1')\n",
    "    min_ways.update(gp.read_dijkstra_csv('dijkstra2'))\n",
    "    min_distance_to_node,min_distance,min_distance_way = gp.search_min_distance_to_node(min_ways,from_list,to_list,sum)\n",
    "    gp.draw_ways_on_graph(G,nodes,min_distance_way)\n",
    "\n",
    "def draw_min_weight():\n",
    "    global G,nodes,from_list,to_list\n",
    "    min_ways = gp.read_dijkstra_csv('dijkstra1')\n",
    "    min_ways.update(gp.read_dijkstra_csv('dijkstra2'))\n",
    "    min_weight_to_node,min_weight,min_weight_way = gp.search_min_weight_to_node(min_ways,from_list,to_list,sum)\n",
    "    gp.draw_ways_on_graph(G,nodes,min_weight_way)"
   ]
  },
  {
   "cell_type": "code",
   "execution_count": 55,
   "metadata": {},
   "outputs": [],
   "source": [
    "#widgets description\n",
    "\n",
    "\n",
    "upload = widgets.FileUpload(\n",
    "    accept='',  # Accepted file extension e.g. '.txt', '.pdf', 'image/*', 'image/*,.pdf'\n",
    "    multiple=False  # True to accept multiple files upload else False\n",
    ")\n",
    "\n",
    "def get_content_from_file(upload_widget):\n",
    "    uploaded_filename = next(iter(upl.value))\n",
    "    content = upl.value[uploaded_filename]['content']\n",
    "    return content\n",
    "\n",
    "tasks = [widgets.interactive(draw_clear_graph,{'manual': True}),\n",
    "        widgets.interactive(draw_min_to_obj,{'manual': True}),\n",
    "        widgets.interactive(draw_min_from_obj,{'manual': True}),\n",
    "        widgets.interactive(draw_min_there_and_back,{'manual': True}),\n",
    "        widgets.interactive(draw_close_to_obj,{'manual': True},distance=(5,40)),\n",
    "        widgets.interactive(draw_close_from_obj,{'manual': True},distance=(5,40)),\n",
    "        widgets.interactive(draw_close_there_and_back,{'manual': True},distance=(5,40)),\n",
    "        widgets.interactive(draw_minmax_to_obj,{'manual': True}),\n",
    "        widgets.interactive(draw_minmax_from_obj,{'manual': True}),\n",
    "        widgets.interactive(draw_minmax_there_and_back,{'manual': True}),\n",
    "        widgets.interactive(draw_min_distance,{'manual': True}),\n",
    "        widgets.interactive(draw_min_weight,{'manual': True})]\n",
    "\n",
    "titles = ['Clear Graph',\n",
    "         'Minimal distance to object', 'Minimal distance from object','Minimal distance there and back',\n",
    "         'Objects in range', 'Houses in range', 'There and back in range',\n",
    "         'MinMax distance to object', 'MinMax distance from object', 'MinMax distance there and back',\n",
    "         'Object with minimal distance','Object with minimal weight']"
   ]
  },
  {
   "cell_type": "code",
   "execution_count": 61,
   "metadata": {},
   "outputs": [],
   "source": [
    "tab = widgets.Tab()\n",
    "tab.children = tasks\n",
    "for i in range(len(tasks)):\n",
    "    tab.set_title(i, titles[i])"
   ]
  },
  {
   "cell_type": "code",
   "execution_count": 63,
   "metadata": {},
   "outputs": [
    {
     "data": {
      "application/vnd.jupyter.widget-view+json": {
       "model_id": "9326b0cd3f7d492bad265a30816168c3",
       "version_major": 2,
       "version_minor": 0
      },
      "text/plain": [
       "VBox(children=(interactive(children=(Dropdown(description='obj', options=('medicine', 'firewatch', 'market'), …"
      ]
     },
     "metadata": {},
     "output_type": "display_data"
    }
   ],
   "source": [
    "widgets.VBox([w,params,tab])"
   ]
  },
  {
   "cell_type": "code",
   "execution_count": null,
   "metadata": {},
   "outputs": [],
   "source": []
  }
 ],
 "metadata": {
  "kernelspec": {
   "display_name": "Python 3",
   "language": "python",
   "name": "python3"
  },
  "language_info": {
   "codemirror_mode": {
    "name": "ipython",
    "version": 3
   },
   "file_extension": ".py",
   "mimetype": "text/x-python",
   "name": "python",
   "nbconvert_exporter": "python",
   "pygments_lexer": "ipython3",
   "version": "3.8.3"
  }
 },
 "nbformat": 4,
 "nbformat_minor": 4
}
