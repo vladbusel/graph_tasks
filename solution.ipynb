{
 "cells": [
  {
   "cell_type": "code",
   "execution_count": 1,
   "metadata": {
    "scrolled": true
   },
   "outputs": [
    {
     "data": {
      "text/plain": [
       "'0.12.1'"
      ]
     },
     "execution_count": 1,
     "metadata": {},
     "output_type": "execute_result"
    }
   ],
   "source": [
    "import osmnx as ox\n",
    "ox.__version__"
   ]
  },
  {
   "cell_type": "code",
   "execution_count": 2,
   "metadata": {
    "scrolled": true
   },
   "outputs": [],
   "source": [
    "ox.utils.config(all_oneway=False)"
   ]
  },
  {
   "cell_type": "code",
   "execution_count": 3,
   "metadata": {},
   "outputs": [],
   "source": [
    "ox.utils.config(all_oneway=True)\n",
    "G = ox.graph_from_place('Volgograd', network_type='drive', simplify = False)\n",
    "G = ox.project_graph(G)\n",
    "# fig, ax = ox.plot_graph(G)"
   ]
  },
  {
   "cell_type": "code",
   "execution_count": 4,
   "metadata": {},
   "outputs": [],
   "source": [
    "# ox.save_load.save_as_osm(G,node_tags=['highway'], node_attrs=['id', 'lat', 'lon'], edge_tags=['highway', 'lanes', 'maxspeed', 'oneway'], edge_attrs=['id'], oneway=False, merge_edges=True, edge_tag_aggs=None, filename='graph.osm', folder=None)"
   ]
  },
  {
   "cell_type": "code",
   "execution_count": 5,
   "metadata": {},
   "outputs": [],
   "source": [
    "G_simp = ox.simplify.simplify_graph(G)\n",
    "G_simp = ox.project_graph(G_simp)"
   ]
  },
  {
   "cell_type": "code",
   "execution_count": 6,
   "metadata": {},
   "outputs": [],
   "source": [
    "G_ox = ox.core.graph_from_file('graph.osm',  simplify=False, retain_all=True)\n",
    "G_ox = ox.project_graph(G_ox)"
   ]
  },
  {
   "cell_type": "code",
   "execution_count": 7,
   "metadata": {},
   "outputs": [],
   "source": [
    "import csv\n",
    "from lxml import etree as et\n",
    "from math import sin, cos, sqrt, atan2, radians\n",
    "import matplotlib.pyplot as plt\n",
    "import networkx as nx\n",
    "from random import choices, random\n",
    "import networkx as nx"
   ]
  },
  {
   "cell_type": "code",
   "execution_count": 8,
   "metadata": {},
   "outputs": [],
   "source": [
    "def readAdjMatrix(path_doc):\n",
    "    with open(path_doc,'r') as f:\n",
    "        G = nx.DiGraph()\n",
    "        lines = f.readlines()\n",
    "        nlist = lines[0][1:].split(',')\n",
    "        G.add_nodes_from(nlist)\n",
    "        lines = lines[1:]\n",
    "        elist = []\n",
    "        a = True\n",
    "        l = len(nlist)\n",
    "        a *= (l == len(lines))\n",
    "        for i in range(len(lines)):\n",
    "            _from, weights = lines[i].split(',')[0], list(map(int,lines[i].split(',')[1:]))\n",
    "            a = (l == len(weights))\n",
    "            for j in range(len(weights)):\n",
    "                elist.append((_from,nlist[j],{'weight': weights[j]}))\n",
    "        G.add_edges_from(elist)\n",
    "        print(a)\n",
    "        return G"
   ]
  },
  {
   "cell_type": "code",
   "execution_count": 9,
   "metadata": {},
   "outputs": [],
   "source": [
    "f = open('100houses.txt', 'r')\n",
    "houses_id = [house[:-1] for house in f.readlines()]\n",
    "f.close()\n",
    "f = open('10med.txt', 'r')\n",
    "med_id = [med[:-1] for med in f.readlines()]\n",
    "f.close()"
   ]
  },
  {
   "cell_type": "code",
   "execution_count": 10,
   "metadata": {},
   "outputs": [],
   "source": [
    "nodes_id = [node for node in G_ox.nodes]\n",
    "nodes_data = G_ox.nodes(data=True)\n",
    "\n",
    "def distance(node1,node2):\n",
    "    R = 6373.0\n",
    "    lon1 = radians(nodes_data[int(node1)]['x'])#lon\n",
    "    lat1 = radians(nodes_data[int(node1)]['y'])#lat\n",
    "    lon2 = radians(nodes_data[int(node2)]['x'])\n",
    "    lat2 = radians(nodes_data[int(node2)]['y'])\n",
    "    \n",
    "    dlon = lon2 - lon1\n",
    "    dlat = lat2 - lat1\n",
    "\n",
    "    a = sin(dlat / 2)**2 + cos(lat1) * cos(lat2) * sin(dlon / 2)**2\n",
    "    c = 2 * atan2(sqrt(a), sqrt(1 - a))\n",
    "\n",
    "    distance = R * c\n",
    "    return distance\n",
    "\n",
    "def nearest_node_id(node_a_id,nodes_id, pass_list = []):\n",
    "    copy_id = nodes_id\n",
    "    min_dist = float('inf')\n",
    "    if pass_list.count(node_a_id) == 0:\n",
    "        pass_list.append(node_a_id)\n",
    "    for elem in pass_list:\n",
    "        while copy_id.count(elem) > 0:\n",
    "            copy_id.remove(elem)\n",
    "    for node_b_id in copy_id:\n",
    "        d = distance(node_a_id,node_b_id)\n",
    "        if d < min_dist:\n",
    "            min_dist = d\n",
    "            nni = node_b_id\n",
    "    return [nni, min_dist]"
   ]
  },
  {
   "cell_type": "code",
   "execution_count": 11,
   "metadata": {
    "scrolled": true
   },
   "outputs": [
    {
     "name": "stdout",
     "output_type": "stream",
     "text": [
      "40767\n",
      "85096\n",
      "85316\n"
     ]
    }
   ],
   "source": [
    "#Добавим сначала то, что есть в графе, потом дополним\n",
    "osm_file = 'graph.osm'\n",
    "G = nx.DiGraph()\n",
    "context = et.iterparse(osm_file, events=('end',), tag='node')\n",
    "nodes = []\n",
    "for event, elem in context:\n",
    "    nodes.append(elem.get('id'))\n",
    "    elem.clear()\n",
    "    while elem.getprevious() is not None:\n",
    "        del elem.getparent()[0]\n",
    "del context\n",
    "G.add_nodes_from(nodes)\n",
    "for h in houses_id:\n",
    "    G.nodes[h]['building'] = 'house'\n",
    "for m in med_id:\n",
    "    G.nodes[m]['building'] = 'hospital'\n",
    "print(G.number_of_nodes())\n",
    "\n",
    "context = et.iterparse(osm_file,events=('end',),tag='way')\n",
    "edges = []\n",
    "for event, elem in context:\n",
    "    oneway = 0\n",
    "    #Определим свойства\n",
    "    for child in elem.iterchildren('tag'):\n",
    "        key = child.get('k')      \n",
    "        #Возможно, дорога односторонняя\n",
    "        if key == 'oneway' and child.get('v') == 'yes':\n",
    "            oneway = 1\n",
    "    #Узнаем, какие вершины состоят в пути\n",
    "    nodes_list = []\n",
    "    for child in elem.iterchildren('nd'):\n",
    "        _id = child.get('ref')\n",
    "        nodes_list.append(_id)\n",
    "    #Добавляем ребра с весами в список смежности\n",
    "    if oneway == 1:\n",
    "        for i in range(len(nodes_list)-1):\n",
    "            #Добавляем вершины\n",
    "            from_node, to_node = nodes_list[i:i+2]\n",
    "            if (from_node == '5283937166' and to_node == '5283937738') or (from_node == '5283937738' and to_node == '5283937166'):\n",
    "                print('!!!')\n",
    "            d = distance(from_node, to_node)\n",
    "            edges.append((from_node, to_node, {'weight': d}))\n",
    "    else:\n",
    "        for i in range(len(nodes_list)-1):\n",
    "            from_node, to_node = nodes_list[i:i+2]\n",
    "            if (from_node == '5283937166' and to_node == '5283937738') or (from_node == '5283937738' and to_node == '5283937166'):\n",
    "                print('!!!')\n",
    "            d = distance(from_node, to_node)\n",
    "            edges.append((from_node, to_node, {'weight': d}))\n",
    "            edges.append((to_node, from_node, {'weight': d}))\n",
    "    elem.clear()\n",
    "    while elem.getprevious() is not None:\n",
    "        del elem.getparent()[0]\n",
    "del context\n",
    "\n",
    "G.add_edges_from(edges)\n",
    "print(G.number_of_edges())\n",
    "\n",
    "nodes_id = [str(node) for node in G_ox.nodes]\n",
    "nodes_data = G_ox.nodes(data=True)\n",
    "#Добавим ребра к домам и больницам\n",
    "nearest_nodes_id = []\n",
    "houses = []\n",
    "for h_id in houses_id:\n",
    "    nni, min_dist = nearest_node_id(h_id,nodes_id,houses_id+med_id)\n",
    "    w = 1 + random()\n",
    "    nearest_nodes_id.append((nni, h_id, {'weight': min_dist*w}))\n",
    "    nearest_nodes_id.append((h_id, nni, {'weight': min_dist*w}))\n",
    "    houses.append(str(nni))\n",
    "        \n",
    "med = []\n",
    "copy_id = nodes_id   \n",
    "for m_id in med_id:\n",
    "    nni, min_dist = nearest_node_id(m_id,nodes_id,houses_id+med_id)\n",
    "    w = 1 + random()\n",
    "    nearest_nodes_id.append((nni, m_id, {'weight': min_dist*w}))\n",
    "    nearest_nodes_id.append((m_id, nni, {'weight': min_dist*w}))\n",
    "    med.append(str(nni))\n",
    "    \n",
    "G.add_edges_from(nearest_nodes_id)\n",
    "print(G.number_of_edges())"
   ]
  },
  {
   "cell_type": "code",
   "execution_count": 12,
   "metadata": {},
   "outputs": [],
   "source": [
    "#Создадим список смежности\n",
    "nx.readwrite.adjlist.write_adjlist(G,'adj_list.csv')"
   ]
  },
  {
   "cell_type": "code",
   "execution_count": 13,
   "metadata": {},
   "outputs": [],
   "source": [
    "#Список с весами\n",
    "with open('adj_list2.csv','w',newline='') as csv_file:\n",
    "    csv_file.write('from_id to_id,edge_weight\\n')\n",
    "    for _from in list(G.nodes):\n",
    "        s = str(_from)\n",
    "        for _to in G.successors(_from):\n",
    "            s = s + ' ' + str(_to) + ',' + str(G[_from][_to]['weight'])\n",
    "        csv_file.write(s + '\\n')"
   ]
  },
  {
   "cell_type": "code",
   "execution_count": 14,
   "metadata": {},
   "outputs": [],
   "source": [
    "#Создадим матрицу смежности\n",
    "#nx.linalg.graphmatrix.adjacency_matrix(G)\n",
    "# adj_matrix = nx.to_pandas_adjacency(G)"
   ]
  },
  {
   "cell_type": "code",
   "execution_count": 15,
   "metadata": {
    "scrolled": true
   },
   "outputs": [],
   "source": [
    "# adj_matrix.to_csv('adj_matrix.csv')"
   ]
  },
  {
   "cell_type": "code",
   "execution_count": 16,
   "metadata": {},
   "outputs": [],
   "source": [
    "# matrix = adj_matrix.values\n",
    "# print(matrix)"
   ]
  },
  {
   "cell_type": "code",
   "execution_count": 17,
   "metadata": {},
   "outputs": [],
   "source": [
    "class MinNodeHeap:\n",
    "\n",
    "    def __init__(self,g={}):\n",
    "        self.heap = []\n",
    "        self.size = 0\n",
    "        self.g = g\n",
    "\n",
    "    def left_index(self,i):\n",
    "        return 2*i+1\n",
    "\n",
    "    def right_index(self,i):\n",
    "        return 2*i+2\n",
    "\n",
    "    def parent_index(self,i):\n",
    "        return (i-1)//2\n",
    "\n",
    "    def min_heapify(self,i):\n",
    "        l = self.left_index(i)\n",
    "        r = self.right_index(i)\n",
    "\n",
    "        if l < self.size and self.g[self.heap[l]]['weight'] < self.g[self.heap[i]]['weight']:\n",
    "            smallest = l\n",
    "        else:\n",
    "            smallest = i\n",
    "        if r < self.size and self.g[self.heap[r]]['weight'] < self.g[self.heap[smallest]]['weight']:\n",
    "            smallest = r\n",
    "        if smallest != i:\n",
    "            self.g[self.heap[i]]['index'], self.g[self.heap[smallest]]['index'] = self.g[self.heap[smallest]]['index'], self.g[self.heap[i]]['index']           \n",
    "            self.heap[i], self.heap[smallest] = self.heap[smallest], self.heap[i]\n",
    "            self.min_heapify(smallest)\n",
    "\n",
    "    def build_min_heap(self,_NodeView):\n",
    "        self.heap = [None for i in range(len(_NodeView))]\n",
    "        for elem in self.g.keys():\n",
    "            self.heap[self.g[elem]['index']] = elem\n",
    "#         self.heap = list(_NodeView)\n",
    "        self.size = len(_NodeView)\n",
    "#         for i in range(len(_NodeView)//2,-1,-1):\n",
    "#             self.min_heapify(i)\n",
    "            \n",
    "    def extract_min(self):\n",
    "        if self.size < 1:\n",
    "            return None\n",
    "        _min = self.heap[0]\n",
    "        self.g[self.heap[self.size-1]]['index'] = self.g[self.heap[0]]['index']\n",
    "        self.heap[0] = self.heap[self.size-1]      \n",
    "        self.size -= 1\n",
    "        self.min_heapify(0)\n",
    "        return _min\n",
    "    \n",
    "    def decrease_key(self,_id,key):\n",
    "        i = self.g[_id]['index']\n",
    "        if key > self.g[_id]['weight']:\n",
    "            raise KeyError\n",
    "        self.g[_id]['weight'] = key\n",
    "        while (i > 0) and (self.g[self.heap[self.parent_index(i)]]['weight'] > self.g[self.heap[i]]['weight']):\n",
    "            self.g[self.heap[self.parent_index(i)]]['index'], self.g[self.heap[i]]['index'] = self.g[self.heap[i]]['index'], self.g[self.heap[self.parent_index(i)]]['index']\n",
    "            self.heap[self.parent_index(i)], self.heap[i] = self.heap[i], self.heap[self.parent_index(i)]\n",
    "            i = self.parent_index(i)\n",
    "\n",
    "def initialize_single_sourse(G,_from):\n",
    "    g = {}\n",
    "    nodes_list = list(G.nodes).copy()\n",
    "    nodes_list.remove(_from)\n",
    "    for v_id, i in zip(nodes_list,range(1,len(G.nodes))):\n",
    "        g[v_id] = {'way': [], 'weight':float('inf'), 'index':i}\n",
    "    g[_from] = {'way':[_from], 'weight':0, 'index':0}\n",
    "    return g\n",
    "\n",
    "def relax(G,min_heap,_from,_to):\n",
    "    if min_heap.g[_to]['weight'] > min_heap.g[_from]['weight'] + G[_from][_to]['weight']:\n",
    "        key = min_heap.g[_from]['weight'] + G[_from][_to]['weight']\n",
    "        min_heap.decrease_key(_to,key)\n",
    "        min_heap.g[_to]['way'] = (min_heap.g[_from]['way']).copy()\n",
    "        min_heap.g[_to]['way'].append(_to)\n",
    "        \n",
    "def dijkstra(G,_from,to_list = list(G.nodes)):\n",
    "    g = initialize_single_sourse(G,_from)\n",
    "    finish = 0\n",
    "    nodes = MinNodeHeap(g)\n",
    "    nodes.build_min_heap(G.nodes)\n",
    "    while nodes.size > 0 and finish < len(to_list):\n",
    "        u = nodes.extract_min()\n",
    "        if to_list.count(u) > 0:\n",
    "            finish += 1\n",
    "        for v in G.successors(u):\n",
    "            relax(G,nodes,u,v)\n",
    "    return g"
   ]
  },
  {
   "cell_type": "code",
   "execution_count": 18,
   "metadata": {},
   "outputs": [],
   "source": [
    "with open('ways_from_houses.txt','w',newline='') as f:\n",
    "    f.write('from_id,to_id,way_weight,way\\n')\n",
    "    for h_id in houses_id:\n",
    "        a = dijkstra(G,h_id,med_id)\n",
    "        for m_id in med_id:\n",
    "            s = h_id + ',' + m_id + ',' + str(a[m_id]['weight'])\n",
    "            if a[m_id]['way'] != '':\n",
    "                way = ','.join(a[m_id]['way'])\n",
    "                s = s + ',' + way\n",
    "            f.write(s + '\\n')\n",
    "\n",
    "with open('ways_from_med.txt','w',newline='') as f:  \n",
    "    f.write('from_id,to_id,way_weight,way\\n')\n",
    "    for m_id in med_id:        \n",
    "        a = dijkstra(G,m_id,houses_id)\n",
    "        for h_id in houses_id:                \n",
    "            s = m_id + ',' + h_id + ',' + str(a[h_id]['weight'])\n",
    "            if a[h_id]['way'] != '':\n",
    "                way = ','.join(a[h_id]['way'])\n",
    "                s = s + ',' + way\n",
    "            f.write(s + '\\n')\n",
    "\n",
    "\n",
    "min_ways = {}         \n",
    "with open('ways_from_med.txt','r') as f:\n",
    "    lines = f.readlines()\n",
    "    lines = lines[1:] \n",
    "    for line in lines:\n",
    "        split_line = line.split(',')\n",
    "        _from = split_line[0]\n",
    "        _to = split_line[1]\n",
    "        weight = float(split_line[2])                \n",
    "        if weight != float('inf'):\n",
    "            way = list(map(int,split_line[4:-1]))\n",
    "        else:\n",
    "            way = []           \n",
    "        if min_ways.get(_from) == None:\n",
    "            min_ways[_from] = {_to:{'weight':weight,'way':way}}\n",
    "        else:\n",
    "            min_ways[_from][_to] = {'weight':weight,'way':way}\n",
    "            \n",
    "with open('ways_from_houses.txt','r') as f:  \n",
    "    lines = f.readlines()\n",
    "    lines = lines[1:]\n",
    "    for line in lines:\n",
    "        split_line = line.split(',')\n",
    "        _from = split_line[0]\n",
    "        _to = split_line[1]\n",
    "        weight = float(split_line[2])                \n",
    "        if weight != float('inf'):\n",
    "            way = list(map(int,split_line[4:-1]))\n",
    "        else: \n",
    "            way = []           \n",
    "        if min_ways.get(_from) == None:\n",
    "            min_ways[_from] = {_to:{'weight':weight,'way':way}}\n",
    "        else:\n",
    "            min_ways[_from][_to] = {'weight':weight,'way':way}"
   ]
  },
  {
   "cell_type": "code",
   "execution_count": 19,
   "metadata": {},
   "outputs": [],
   "source": [
    "#Из больниц в ближайшие дома\n",
    "min_way = {}\n",
    "for _from in med_id:\n",
    "    for _to in houses_id:      \n",
    "        if min_way.get(_from) == None:\n",
    "            min_way[_from] = {'to':_to,'weight':min_ways[_from][_to]['weight'],'way':min_ways[_from][_to]['way']}\n",
    "        elif min_way[_from]['weight'] > min_ways[_from][_to]['weight']:\n",
    "            min_way[_from]['to'] = _to\n",
    "            min_way[_from]['weight'] = min_ways[_from][_to]['weight']\n",
    "            min_way[_from]['way'] =  min_ways[_from][_to]['way']\n",
    "\n",
    "ways = []            \n",
    "with open('shortest_ways_from_med.txt','w',newline='') as f:  \n",
    "    f.write('from_id,to_id,way_weight\\n')\n",
    "    s = ''\n",
    "    for h_id in min_way.keys():\n",
    "        s = s + h_id + ',' + min_way[h_id]['to'] + ',' + str(min_way[h_id]['weight'])+'\\n'\n",
    "        if min_way[h_id]['weight'] != float('inf'):\n",
    "            ways.append(min_way[h_id]['way'])\n",
    "    f.write(s)\n",
    "    "
   ]
  },
  {
   "cell_type": "code",
   "execution_count": 20,
   "metadata": {},
   "outputs": [],
   "source": [
    "#1.1.a\n",
    "#Из домов в ближайшие больницы\n",
    "min_way = {}\n",
    "for _from in houses_id:\n",
    "    for _to in med_id:      \n",
    "        if min_way.get(_from) == None:\n",
    "            min_way[_from] = {'to':_to,'weight':min_ways[_from][_to]['weight'],'way':min_ways[_from][_to]['way']}\n",
    "        elif min_way[_from]['weight'] > min_ways[_from][_to]['weight']:\n",
    "            min_way[_from]['to'] = _to\n",
    "            min_way[_from]['weight'] = min_ways[_from][_to]['weight']\n",
    "            min_way[_from]['way'] =  min_ways[_from][_to]['way']\n",
    "\n",
    "ways = []            \n",
    "with open('shortest_ways_from_houses.txt','w',newline='') as f:  \n",
    "    f.write('from_id,to_id,way_weight\\n')\n",
    "    s = ''\n",
    "    for h_id in min_way.keys():\n",
    "        s = s + h_id + ',' + min_way[h_id]['to'] + ',' + str(min_way[h_id]['weight'])+'\\n'\n",
    "        if min_way[h_id]['weight'] != float('inf'):\n",
    "            ways.append(min_way[h_id]['way'])\n",
    "    f.write(s)"
   ]
  },
  {
   "cell_type": "code",
   "execution_count": 21,
   "metadata": {},
   "outputs": [],
   "source": [
    "#Туда-обратно, начиная с домов\n",
    "min_way = {}\n",
    "for _from in houses_id:\n",
    "    for _to in med_id:      \n",
    "        if min_way.get(_from) == None:\n",
    "            min_way[_from] = {'to':_to,'weight':min_ways[_from][_to]['weight'] + min_ways[_to][_from]['weight'],'way':min_ways[_from][_to]['way'],'way_back':min_ways[_to][_from]['way']}\n",
    "        elif min_way[_from]['weight'] > min_ways[_from][_to]['weight'] + min_ways[_to][_from]['weight']:\n",
    "            min_way[_from]['to'] = _to\n",
    "            min_way[_from]['weight'] = min_ways[_from][_to]['weight'] + min_ways[_to][_from]['weight']\n",
    "            min_way[_from]['way'] =  min_ways[_from][_to]['way']\n",
    "            min_way[_from]['way_back'] = min_ways[_to][_from]['way']\n",
    "\n",
    "ways = []            \n",
    "with open('shortest_ways_from_houses_and_back.txt','w',newline='') as f:  \n",
    "    f.write('from_id,to_id,way_weight\\n')\n",
    "    s = ''\n",
    "    for h_id in min_way.keys():\n",
    "        s = s + h_id + ',' + min_way[h_id]['to'] + ',' + str(min_way[h_id]['weight'])+'\\n'\n",
    "        if min_way[h_id]['weight'] != float('inf'):\n",
    "            ways.append(min_way[h_id]['way'])\n",
    "            ways.append(min_way[h_id]['way_back'])\n",
    "    f.write(s)"
   ]
  },
  {
   "cell_type": "code",
   "execution_count": 35,
   "metadata": {},
   "outputs": [
    {
     "ename": "AttributeError",
     "evalue": "'NoneType' object has no attribute 'values'",
     "output_type": "error",
     "traceback": [
      "\u001b[1;31m---------------------------------------------------------------------------\u001b[0m",
      "\u001b[1;31mAttributeError\u001b[0m                            Traceback (most recent call last)",
      "\u001b[1;32m<ipython-input-35-1bba3bb31a43>\u001b[0m in \u001b[0;36m<module>\u001b[1;34m\u001b[0m\n\u001b[1;32m----> 1\u001b[1;33m \u001b[0mox\u001b[0m\u001b[1;33m.\u001b[0m\u001b[0mplot_graph_routes\u001b[0m\u001b[1;33m(\u001b[0m\u001b[0mG_ox\u001b[0m\u001b[1;33m,\u001b[0m \u001b[0mways\u001b[0m\u001b[1;33m)\u001b[0m\u001b[1;33m\u001b[0m\u001b[1;33m\u001b[0m\u001b[0m\n\u001b[0m",
      "\u001b[1;32mC:\\Conda\\envs\\test_env\\lib\\site-packages\\osmnx\\plot.py\u001b[0m in \u001b[0;36mplot_graph_routes\u001b[1;34m(G, routes, bbox, fig_height, fig_width, margin, bgcolor, axis_off, show, save, close, file_format, filename, dpi, annotate, node_color, node_size, node_alpha, node_edgecolor, node_zorder, edge_color, edge_linewidth, edge_alpha, use_geom, orig_dest_points, route_color, route_linewidth, route_alpha, orig_dest_node_alpha, orig_dest_node_size, orig_dest_node_color, orig_dest_point_color)\u001b[0m\n\u001b[0;32m    753\u001b[0m     \u001b[0mlines\u001b[0m \u001b[1;33m=\u001b[0m \u001b[1;33m[\u001b[0m\u001b[1;33m]\u001b[0m\u001b[1;33m\u001b[0m\u001b[1;33m\u001b[0m\u001b[0m\n\u001b[0;32m    754\u001b[0m     \u001b[1;32mfor\u001b[0m \u001b[0mroute\u001b[0m \u001b[1;32min\u001b[0m \u001b[0mroutes\u001b[0m\u001b[1;33m:\u001b[0m\u001b[1;33m\u001b[0m\u001b[1;33m\u001b[0m\u001b[0m\n\u001b[1;32m--> 755\u001b[1;33m         \u001b[0mlines\u001b[0m\u001b[1;33m.\u001b[0m\u001b[0mextend\u001b[0m\u001b[1;33m(\u001b[0m\u001b[0mnode_list_to_coordinate_lines\u001b[0m\u001b[1;33m(\u001b[0m\u001b[0mG\u001b[0m\u001b[1;33m,\u001b[0m \u001b[0mroute\u001b[0m\u001b[1;33m,\u001b[0m \u001b[0muse_geom\u001b[0m\u001b[1;33m)\u001b[0m\u001b[1;33m)\u001b[0m\u001b[1;33m\u001b[0m\u001b[1;33m\u001b[0m\u001b[0m\n\u001b[0m\u001b[0;32m    756\u001b[0m \u001b[1;33m\u001b[0m\u001b[0m\n\u001b[0;32m    757\u001b[0m     \u001b[1;31m# add the lines to the axis as a linecollection\u001b[0m\u001b[1;33m\u001b[0m\u001b[1;33m\u001b[0m\u001b[1;33m\u001b[0m\u001b[0m\n",
      "\u001b[1;32mC:\\Conda\\envs\\test_env\\lib\\site-packages\\osmnx\\plot.py\u001b[0m in \u001b[0;36mnode_list_to_coordinate_lines\u001b[1;34m(G, node_list, use_geom)\u001b[0m\n\u001b[0;32m    470\u001b[0m     \u001b[1;32mfor\u001b[0m \u001b[0mu\u001b[0m\u001b[1;33m,\u001b[0m \u001b[0mv\u001b[0m \u001b[1;32min\u001b[0m \u001b[0medge_nodes\u001b[0m\u001b[1;33m:\u001b[0m\u001b[1;33m\u001b[0m\u001b[1;33m\u001b[0m\u001b[0m\n\u001b[0;32m    471\u001b[0m         \u001b[1;31m# if there are parallel edges, select the shortest in length\u001b[0m\u001b[1;33m\u001b[0m\u001b[1;33m\u001b[0m\u001b[1;33m\u001b[0m\u001b[0m\n\u001b[1;32m--> 472\u001b[1;33m         \u001b[0mdata\u001b[0m \u001b[1;33m=\u001b[0m \u001b[0mmin\u001b[0m\u001b[1;33m(\u001b[0m\u001b[0mG\u001b[0m\u001b[1;33m.\u001b[0m\u001b[0mget_edge_data\u001b[0m\u001b[1;33m(\u001b[0m\u001b[0mu\u001b[0m\u001b[1;33m,\u001b[0m \u001b[0mv\u001b[0m\u001b[1;33m)\u001b[0m\u001b[1;33m.\u001b[0m\u001b[0mvalues\u001b[0m\u001b[1;33m(\u001b[0m\u001b[1;33m)\u001b[0m\u001b[1;33m,\u001b[0m \u001b[0mkey\u001b[0m\u001b[1;33m=\u001b[0m\u001b[1;32mlambda\u001b[0m \u001b[0mx\u001b[0m\u001b[1;33m:\u001b[0m \u001b[0mx\u001b[0m\u001b[1;33m[\u001b[0m\u001b[1;34m'length'\u001b[0m\u001b[1;33m]\u001b[0m\u001b[1;33m)\u001b[0m\u001b[1;33m\u001b[0m\u001b[1;33m\u001b[0m\u001b[0m\n\u001b[0m\u001b[0;32m    473\u001b[0m \u001b[1;33m\u001b[0m\u001b[0m\n\u001b[0;32m    474\u001b[0m         \u001b[1;31m# if it has a geometry attribute (ie, a list of line segments)\u001b[0m\u001b[1;33m\u001b[0m\u001b[1;33m\u001b[0m\u001b[1;33m\u001b[0m\u001b[0m\n",
      "\u001b[1;31mAttributeError\u001b[0m: 'NoneType' object has no attribute 'values'"
     ]
    },
    {
     "data": {
      "image/png": "[encoded data removed]",
      "text/plain": [
       "<Figure size 345.501x432 with 1 Axes>"
      ]
     },
     "metadata": {},
     "output_type": "display_data"
    }
   ],
   "source": [
    "ox.plot_graph_routes(G_ox, ways)"
   ]
  },
  {
   "cell_type": "code",
   "execution_count": 22,
   "metadata": {},
   "outputs": [],
   "source": [
    "max_weight = 10 #км"
   ]
  },
  {
   "cell_type": "code",
   "execution_count": 23,
   "metadata": {},
   "outputs": [],
   "source": [
    "#1.1.b\n",
    "near_ways = []\n",
    "with open('ways_from_houses.txt','r') as f:  \n",
    "    next(f)\n",
    "    for line in f:\n",
    "        split_line = line.split(',')\n",
    "        _from = split_line[0]\n",
    "        _to = split_line[1]\n",
    "        weight = float(split_line[2])\n",
    "        if weight != float('inf'):\n",
    "            way = list(map(int,split_line[4:-1]))\n",
    "        else: \n",
    "            way = []  \n",
    "        if weight < max_weight:\n",
    "            near_ways.append([_from,_to,weight,way])\n",
    "\n",
    "ways= []\n",
    "with open('near_houses.txt','w',newline='') as f:  \n",
    "    f.write('from_id,to_id,weight\\n')\n",
    "    s = ''\n",
    "    for way in near_ways:\n",
    "        s = s + way[0] + ',' + way[1] + ',' + str(way[2]) +'\\n'\n",
    "        if way[2] != float('inf'):\n",
    "            ways.append(way[3])\n",
    "    f.write(s)"
   ]
  },
  {
   "cell_type": "code",
   "execution_count": 24,
   "metadata": {},
   "outputs": [],
   "source": [
    "near_ways = []\n",
    "with open('ways_from_med.txt','r') as f:  \n",
    "    next(f)\n",
    "    for line in f:\n",
    "        split_line = line.split(',')\n",
    "        _from = split_line[0]\n",
    "        _to = split_line[1]\n",
    "        weight = float(split_line[2])\n",
    "        if weight != float('inf'):\n",
    "            way = list(map(int,split_line[4:-1]))\n",
    "        else: \n",
    "            way = []  \n",
    "        if weight < max_weight:\n",
    "            near_ways.append([_from,_to,weight,way])\n",
    "\n",
    "with open('near_med.txt','w',newline='') as f:  \n",
    "    f.write('from_id,to_id,weight\\n')\n",
    "    s = ''\n",
    "    for way in near_ways:\n",
    "        s = s + way[0] + ',' + way[1] + ',' + str(way[2]) +'\\n'\n",
    "        if way[2] != float('inf'):\n",
    "            ways.append(way[3])\n",
    "    f.write(s)"
   ]
  },
  {
   "cell_type": "code",
   "execution_count": 25,
   "metadata": {},
   "outputs": [],
   "source": [
    "near_ways = []\n",
    "for _from in houses_id:\n",
    "    for _to in med_id:\n",
    "        weight = min_ways[_from][_to]['weight'] + min_ways[_to][_from]['weight']\n",
    "        if weight < max_weight:\n",
    "            near_ways.append([_from, _to, weight, min_ways[_from][_to]['way'], min_ways[_to][_from]['way']])\n",
    "            \n",
    "\n",
    "ways = []\n",
    "with open('near_med.txt','w',newline='') as f:\n",
    "    f.write('med_id, house_id,weight\\n')\n",
    "    s = ''\n",
    "    for way in near_ways:\n",
    "        s = s + way[0] + ',' + way[1] + ',' + str(way[2]) +'\\n'\n",
    "        ways.append(way[3])\n",
    "        ways.append(way[4])\n",
    "    f.write(s)"
   ]
  },
  {
   "cell_type": "code",
   "execution_count": 26,
   "metadata": {},
   "outputs": [],
   "source": [
    "#1.2\n",
    "#Определить, какой из объектов расположен так, что время/расстояние между ним и\n",
    "#самым дальним домом минимально (“туда”, “обратно”, “туда и обратно”)\n",
    "minmax_way = {'weight':float('inf')}\n",
    "for m_id in med_id:\n",
    "    weight = 0\n",
    "    for h_id in houses_id:\n",
    "        if min_ways[m_id][h_id]['weight'] > weight and min_ways[m_id][h_id]['weight'] != float('inf'):\n",
    "            _to = h_id\n",
    "            weight = min_ways[m_id][h_id]['weight']\n",
    "    if weight < minmax_way['weight']:\n",
    "        minmax_way['weight'] = weight\n",
    "        minmax_way['from'] = m_id\n",
    "        minmax_way['to'] = _to\n",
    "        minmax_way['way'] = min_ways[m_id][_to]['way']"
   ]
  },
  {
   "cell_type": "code",
   "execution_count": 27,
   "metadata": {},
   "outputs": [],
   "source": [
    "minmax_way = {'weight':float('inf')}\n",
    "\n",
    "for m_id in med_id:\n",
    "    weight = 0\n",
    "    for h_id in houses_id:\n",
    "        w0 = min_ways[m_id][h_id]['weight'] + min_ways[h_id][m_id]['weight']\n",
    "        if w0 != float('inf') and w0 > weight:\n",
    "            _to = h_id\n",
    "            weight = w0\n",
    "    if weight < minmax_way['weight']:\n",
    "        min_way['weight'] = weight\n",
    "        min_way['med'] = m_id\n",
    "        min_way['house'] = _to"
   ]
  },
  {
   "cell_type": "code",
   "execution_count": 28,
   "metadata": {},
   "outputs": [
    {
     "data": {
      "text/plain": [
       "'4649529194'"
      ]
     },
     "execution_count": 28,
     "metadata": {},
     "output_type": "execute_result"
    }
   ],
   "source": [
    "#1.3\n",
    "#Для какого объекта инфраструктуры сумма кратчайших расстояний от него до всех домов минимальна\n",
    "min_sum = float('inf')\n",
    "for m_id in med_id:\n",
    "    _sum = 0\n",
    "    for h_id in houses_id:\n",
    "        #Пока что есть пути с inf\n",
    "        if min_ways[m_id][h_id]['weight'] != float('inf'):\n",
    "            _sum += min_ways[m_id][h_id]['weight']\n",
    "    if _sum < min_sum:\n",
    "        min_sum = _sum\n",
    "        _from = m_id\n",
    "\n",
    "ways = []\n",
    "for h_id in houses_id:\n",
    "    if min_ways[_from][h_id]['weight'] != float('inf'):\n",
    "        ways.append(min_ways[_from][h_id]['way'])\n",
    "_from"
   ]
  },
  {
   "cell_type": "code",
   "execution_count": 29,
   "metadata": {},
   "outputs": [
    {
     "data": {
      "text/plain": [
       "'4649529194'"
      ]
     },
     "execution_count": 29,
     "metadata": {},
     "output_type": "execute_result"
    }
   ],
   "source": [
    "1.4\n",
    "#Для какого объекта инфраструктуры построенное дерево кратчайших путей имеет минимальный вес.\n",
    "min_sum = float('inf')\n",
    "for m_id in med_id:\n",
    "    _sum = 0\n",
    "    edges_set = set()\n",
    "    for h_id in houses_id:\n",
    "        #Пока что есть пути с inf\n",
    "        if min_ways[m_id][h_id]['weight'] != float('inf'):\n",
    "            edges_set.add(m_id + ' ' + h_id)\n",
    "    for elem in list(edges_set):\n",
    "        i,j = elem.split(' ')\n",
    "        _sum += min_ways[i][j]['weight']\n",
    "    if _sum < min_sum:\n",
    "        min_sum = _sum\n",
    "        _from = m_id\n",
    "\n",
    "ways = []\n",
    "for h_id in houses_id:\n",
    "    if min_ways[_from][h_id]['weight'] != float('inf'):\n",
    "        ways.append(min_ways[_from][h_id]['way'])\n",
    "_from"
   ]
  },
  {
   "cell_type": "code",
   "execution_count": 30,
   "metadata": {},
   "outputs": [],
   "source": [
    "def get_edge_weight(edge, tree):\n",
    "    prev_weight = float(tree[edge['from']]['weight'])\n",
    "    post_weight = float(tree[edge['to']]['weight'])\n",
    "    return post_weight - prev_weight"
   ]
  },
  {
   "cell_type": "code",
   "execution_count": 31,
   "metadata": {},
   "outputs": [],
   "source": [
    "import math\n",
    "def get_tree_and_sum(G, _from, target_list):\n",
    "    tree = dijkstra(G, _from, target_list)\n",
    "    filtered_tree = {k:v for k,v in tree.items() if not math.isinf(v[\"weight\"]) and k in target_list}\n",
    "    tree_sum = sum(list(map(lambda x: x['weight'], list(filtered_tree.values()))))\n",
    "    \n",
    "    edge_set = list()\n",
    "    for target in filtered_tree:\n",
    "        node_list = filtered_tree[target]['way']\n",
    "        for node_number in range(len(node_list)-2):           \n",
    "            new_edge = {\"from\": node_list[node_number], \"to\": node_list[node_number + 1]}\n",
    "            if new_edge not in edge_set:\n",
    "                edge_set.append(new_edge)\n",
    "    tree_small_sum = sum(list(map(lambda x: get_edge_weight(x, tree), edge_set)))\n",
    "    return filtered_tree, tree_sum, tree_small_sum\n",
    "\n",
    "keikfdgikdng = [str(val)for val in nodes_id]\n",
    "temp_tree, temp_tree_sum, temp_tree_small_sum = get_tree_and_sum(G, str(med_id[0]), nodes_id[20:50])\n",
    "\n",
    "# print(temp_tree_sum)\n",
    "# print(temp_tree_small_sum)"
   ]
  },
  {
   "cell_type": "code",
   "execution_count": 32,
   "metadata": {},
   "outputs": [],
   "source": [
    "G_d = ox.graph_from_place('Volgograd', network_type='drive', simplify = False)"
   ]
  },
  {
   "cell_type": "code",
   "execution_count": 34,
   "metadata": {},
   "outputs": [
    {
     "ename": "AttributeError",
     "evalue": "'NoneType' object has no attribute 'values'",
     "output_type": "error",
     "traceback": [
      "\u001b[1;31m---------------------------------------------------------------------------\u001b[0m",
      "\u001b[1;31mAttributeError\u001b[0m                            Traceback (most recent call last)",
      "\u001b[1;32m<ipython-input-34-434cf3c98f00>\u001b[0m in \u001b[0;36m<module>\u001b[1;34m\u001b[0m\n\u001b[0;32m      2\u001b[0m \u001b[0mroutes_temp_2\u001b[0m \u001b[1;33m=\u001b[0m \u001b[0mlist\u001b[0m\u001b[1;33m(\u001b[0m\u001b[0mmap\u001b[0m\u001b[1;33m(\u001b[0m\u001b[1;32mlambda\u001b[0m \u001b[0mx\u001b[0m\u001b[1;33m:\u001b[0m \u001b[1;33m[\u001b[0m\u001b[0mint\u001b[0m\u001b[1;33m(\u001b[0m\u001b[0mvalue\u001b[0m\u001b[1;33m)\u001b[0m \u001b[1;32mfor\u001b[0m \u001b[0mvalue\u001b[0m \u001b[1;32min\u001b[0m \u001b[0mx\u001b[0m\u001b[1;33m]\u001b[0m\u001b[1;33m[\u001b[0m\u001b[1;36m3\u001b[0m\u001b[1;33m:\u001b[0m\u001b[1;33m-\u001b[0m\u001b[1;36m5\u001b[0m\u001b[1;33m]\u001b[0m\u001b[1;33m,\u001b[0m \u001b[0mroutes_temp\u001b[0m\u001b[1;33m)\u001b[0m\u001b[1;33m)\u001b[0m\u001b[1;33m\u001b[0m\u001b[1;33m\u001b[0m\u001b[0m\n\u001b[0;32m      3\u001b[0m \u001b[1;33m\u001b[0m\u001b[0m\n\u001b[1;32m----> 4\u001b[1;33m \u001b[0mfig\u001b[0m\u001b[1;33m,\u001b[0m \u001b[0max\u001b[0m \u001b[1;33m=\u001b[0m \u001b[0mox\u001b[0m\u001b[1;33m.\u001b[0m\u001b[0mplot_graph_routes\u001b[0m\u001b[1;33m(\u001b[0m\u001b[0mG_ox\u001b[0m\u001b[1;33m,\u001b[0m \u001b[0mroutes_temp_2\u001b[0m\u001b[1;33m)\u001b[0m\u001b[1;33m\u001b[0m\u001b[1;33m\u001b[0m\u001b[0m\n\u001b[0m\u001b[0;32m      5\u001b[0m \u001b[1;31m# fig, ax = ox.plot_graph(G)\u001b[0m\u001b[1;33m\u001b[0m\u001b[1;33m\u001b[0m\u001b[1;33m\u001b[0m\u001b[0m\n",
      "\u001b[1;32mC:\\Conda\\envs\\test_env\\lib\\site-packages\\osmnx\\plot.py\u001b[0m in \u001b[0;36mplot_graph_routes\u001b[1;34m(G, routes, bbox, fig_height, fig_width, margin, bgcolor, axis_off, show, save, close, file_format, filename, dpi, annotate, node_color, node_size, node_alpha, node_edgecolor, node_zorder, edge_color, edge_linewidth, edge_alpha, use_geom, orig_dest_points, route_color, route_linewidth, route_alpha, orig_dest_node_alpha, orig_dest_node_size, orig_dest_node_color, orig_dest_point_color)\u001b[0m\n\u001b[0;32m    753\u001b[0m     \u001b[0mlines\u001b[0m \u001b[1;33m=\u001b[0m \u001b[1;33m[\u001b[0m\u001b[1;33m]\u001b[0m\u001b[1;33m\u001b[0m\u001b[1;33m\u001b[0m\u001b[0m\n\u001b[0;32m    754\u001b[0m     \u001b[1;32mfor\u001b[0m \u001b[0mroute\u001b[0m \u001b[1;32min\u001b[0m \u001b[0mroutes\u001b[0m\u001b[1;33m:\u001b[0m\u001b[1;33m\u001b[0m\u001b[1;33m\u001b[0m\u001b[0m\n\u001b[1;32m--> 755\u001b[1;33m         \u001b[0mlines\u001b[0m\u001b[1;33m.\u001b[0m\u001b[0mextend\u001b[0m\u001b[1;33m(\u001b[0m\u001b[0mnode_list_to_coordinate_lines\u001b[0m\u001b[1;33m(\u001b[0m\u001b[0mG\u001b[0m\u001b[1;33m,\u001b[0m \u001b[0mroute\u001b[0m\u001b[1;33m,\u001b[0m \u001b[0muse_geom\u001b[0m\u001b[1;33m)\u001b[0m\u001b[1;33m)\u001b[0m\u001b[1;33m\u001b[0m\u001b[1;33m\u001b[0m\u001b[0m\n\u001b[0m\u001b[0;32m    756\u001b[0m \u001b[1;33m\u001b[0m\u001b[0m\n\u001b[0;32m    757\u001b[0m     \u001b[1;31m# add the lines to the axis as a linecollection\u001b[0m\u001b[1;33m\u001b[0m\u001b[1;33m\u001b[0m\u001b[1;33m\u001b[0m\u001b[0m\n",
      "\u001b[1;32mC:\\Conda\\envs\\test_env\\lib\\site-packages\\osmnx\\plot.py\u001b[0m in \u001b[0;36mnode_list_to_coordinate_lines\u001b[1;34m(G, node_list, use_geom)\u001b[0m\n\u001b[0;32m    470\u001b[0m     \u001b[1;32mfor\u001b[0m \u001b[0mu\u001b[0m\u001b[1;33m,\u001b[0m \u001b[0mv\u001b[0m \u001b[1;32min\u001b[0m \u001b[0medge_nodes\u001b[0m\u001b[1;33m:\u001b[0m\u001b[1;33m\u001b[0m\u001b[1;33m\u001b[0m\u001b[0m\n\u001b[0;32m    471\u001b[0m         \u001b[1;31m# if there are parallel edges, select the shortest in length\u001b[0m\u001b[1;33m\u001b[0m\u001b[1;33m\u001b[0m\u001b[1;33m\u001b[0m\u001b[0m\n\u001b[1;32m--> 472\u001b[1;33m         \u001b[0mdata\u001b[0m \u001b[1;33m=\u001b[0m \u001b[0mmin\u001b[0m\u001b[1;33m(\u001b[0m\u001b[0mG\u001b[0m\u001b[1;33m.\u001b[0m\u001b[0mget_edge_data\u001b[0m\u001b[1;33m(\u001b[0m\u001b[0mu\u001b[0m\u001b[1;33m,\u001b[0m \u001b[0mv\u001b[0m\u001b[1;33m)\u001b[0m\u001b[1;33m.\u001b[0m\u001b[0mvalues\u001b[0m\u001b[1;33m(\u001b[0m\u001b[1;33m)\u001b[0m\u001b[1;33m,\u001b[0m \u001b[0mkey\u001b[0m\u001b[1;33m=\u001b[0m\u001b[1;32mlambda\u001b[0m \u001b[0mx\u001b[0m\u001b[1;33m:\u001b[0m \u001b[0mx\u001b[0m\u001b[1;33m[\u001b[0m\u001b[1;34m'length'\u001b[0m\u001b[1;33m]\u001b[0m\u001b[1;33m)\u001b[0m\u001b[1;33m\u001b[0m\u001b[1;33m\u001b[0m\u001b[0m\n\u001b[0m\u001b[0;32m    473\u001b[0m \u001b[1;33m\u001b[0m\u001b[0m\n\u001b[0;32m    474\u001b[0m         \u001b[1;31m# if it has a geometry attribute (ie, a list of line segments)\u001b[0m\u001b[1;33m\u001b[0m\u001b[1;33m\u001b[0m\u001b[1;33m\u001b[0m\u001b[0m\n",
      "\u001b[1;31mAttributeError\u001b[0m: 'NoneType' object has no attribute 'values'"
     ]
    },
    {
     "data": {
      "image/png": "[encoded data removed]",
      "text/plain": [
       "<Figure size 345.501x432 with 1 Axes>"
      ]
     },
     "metadata": {},
     "output_type": "display_data"
    }
   ],
   "source": [
    "routes_temp = [temp_tree[key]['way'] for key in temp_tree]\n",
    "routes_temp_2 = list(map(lambda x: [int(value) for value in x][3:-5], routes_temp))\n",
    "\n",
    "fig, ax = ox.plot_graph_routes(G_ox, routes_temp_2)\n",
    "# fig, ax = ox.plot_graph(G)"
   ]
  },
  {
   "cell_type": "code",
   "execution_count": null,
   "metadata": {},
   "outputs": [],
   "source": [
    "from scipy.cluster.hierarchy import dendrogram, linkage\n",
    "from matplotlib import pyplot as plt"
   ]
  },
  {
   "cell_type": "code",
   "execution_count": null,
   "metadata": {},
   "outputs": [],
   "source": [
    "import math\n",
    "import collections\n",
    "matrix = []\n",
    "for house_id in houses_id:\n",
    "    pre_vector = dijkstra(G, house_id, houses_id)\n",
    "    filtered_vector = {k:v for k,v in pre_vector.items() if not math.isinf(v[\"weight\"]) and k in houses_id}\n",
    "    sorted_vector = collections.OrderedDict(sorted(filtered_vector.items()))\n",
    "    vector = list(map(lambda x: x['weight'], list(sorted_vector.values())))\n",
    "    matrix.append(vector)"
   ]
  },
  {
   "cell_type": "code",
   "execution_count": null,
   "metadata": {},
   "outputs": [],
   "source": []
  },
  {
   "cell_type": "code",
   "execution_count": null,
   "metadata": {},
   "outputs": [],
   "source": [
    "def cluster_to_id_list(cluster_index, cluster_cash, list_id, count_of_values):\n",
    "    cluster_indexes = [cluster_index]\n",
    "    while len(list(filter(lambda x: x > count_of_values, cluster_indexes))) > 0:\n",
    "        cluster_to_open = list(filter(lambda x: x >= count_of_values, cluster_indexes))\n",
    "        \n",
    "        for cluster in cluster_to_open:\n",
    "            cluster_indexes.remove(cluster)\n",
    "            cluster_indexes.append(cluster_cash[int(cluster) - count_of_values, 0] )\n",
    "            cluster_indexes.append(cluster_cash[int(cluster) - count_of_values, 1] )\n",
    "            \n",
    "    return list(map(lambda x: int(list_id[int(x)]), cluster_indexes))    "
   ]
  },
  {
   "cell_type": "code",
   "execution_count": null,
   "metadata": {},
   "outputs": [],
   "source": [
    "def get_centroid_coords(cluster_nodes):\n",
    "    x = sum(list(map(lambda x: x['x'], cluster_nodes))) / len(cluster_nodes)\n",
    "    y = sum(list(map(lambda x: x['y'], cluster_nodes))) / len(cluster_nodes)\n",
    "    return y, x"
   ]
  },
  {
   "cell_type": "code",
   "execution_count": null,
   "metadata": {},
   "outputs": [],
   "source": [
    "kek = dijkstra(G, houses_id[-10], houses_id)\n",
    "lol_kek = {k:v for k,v in kek.items() if not math.isinf(v[\"weight\"]) and k in houses_id}\n",
    "\n",
    "for k,v in lol_kek.items():\n",
    "    print(kek[k])\n",
    "    print(k)"
   ]
  },
  {
   "cell_type": "code",
   "execution_count": null,
   "metadata": {},
   "outputs": [],
   "source": [
    "for i in range(99):\n",
    "    if len(matrix[i]) != 100:\n",
    "        matrix.remove(matrix[i])\n",
    "        for j in len(matrix):\n",
    "            matrix[j].remove(matrix[j][i])\n",
    "print(len(matrix))"
   ]
  },
  {
   "cell_type": "code",
   "execution_count": null,
   "metadata": {},
   "outputs": [],
   "source": [
    "import numpy as np\n",
    "matrix_np = np.array(matrix)\n",
    "cluster_cash = linkage(matrix_np, 'complete')\n",
    "fig = plt.figure(figsize=(25, 20))\n",
    "dn = dendrogram(cluster_cash)"
   ]
  },
  {
   "cell_type": "code",
   "execution_count": null,
   "metadata": {},
   "outputs": [],
   "source": [
    "# first_cluster = cluster_cash[-1,0] \n",
    "# second_cluster = cluster_cash[-1,1] \n",
    "\n",
    "# third_cluster = cluster_cash[-2,0] \n",
    "# fourth_cluster = cluster_cash[-2,1]\n",
    "\n",
    "# fifth_cluster = cluster_cash[-3,1]\n"
   ]
  },
  {
   "cell_type": "code",
   "execution_count": null,
   "metadata": {},
   "outputs": [],
   "source": [
    "def get_cluster_info (cluster_index, cluster_cash, cluster_items_id, nodes_data):    \n",
    "    cluster_nodes = cluster_to_id_list(cluster_index, cluster_cash, cluster_items_id, len(cluster_cash) + 1)\n",
    "    str_cluster_nodes = list(map(lambda x: str(x),cluster_nodes))\n",
    "    list_with_coords = list(map(lambda x: {'x': float(nodes_data[int(x)]['x']), 'y': float(nodes_data[int(x)]['y'])} ,cluster_nodes))\n",
    "    centroid = get_centroid_coords(list_with_coords)\n",
    "    centroid_id = ox.get_nearest_node(G_ox, centroid, method='euclidean')\n",
    "    tree, tree_sum, tree_min_sum = get_tree_and_sum(G, str(centroid_id), str_cluster_nodes)\n",
    "    return {'tree': tree, 'tree_sum':tree_sum, 'tree_min_sum':tree_min_sum, 'centroid_id':centroid_id, 'nodes': str_cluster_nodes}"
   ]
  },
  {
   "cell_type": "code",
   "execution_count": null,
   "metadata": {},
   "outputs": [],
   "source": [
    "def open_next_cluster(cluster_cash, clusters, count_of_values):\n",
    "    cluster_to_open = max(clusters)\n",
    "    clusters.remove(cluster_to_open)\n",
    "    clusters.append(cluster_cash[int(cluster_to_open) - count_of_values, 0] )\n",
    "    clusters.append(cluster_cash[int(cluster_to_open) - count_of_values, 1] )\n",
    "    return clusters"
   ]
  },
  {
   "cell_type": "code",
   "execution_count": null,
   "metadata": {},
   "outputs": [],
   "source": [
    "clusters = [int(cluster_cash[-1,0]), int(cluster_cash[-1,1])]\n",
    "cluters_info_2 = list(map(lambda x: get_cluster_info(x, cluster_cash, houses_id, nodes_data), clusters))\n"
   ]
  },
  {
   "cell_type": "code",
   "execution_count": null,
   "metadata": {},
   "outputs": [],
   "source": [
    "clusters = open_next_cluster(cluster_cash, clusters, 100)\n",
    "cluters_info_3 = list(map(lambda x: get_cluster_info(x, cluster_cash, houses_id, nodes_data), clusters))"
   ]
  },
  {
   "cell_type": "code",
   "execution_count": null,
   "metadata": {},
   "outputs": [],
   "source": [
    "clusters = open_next_cluster(cluster_cash, clusters, 100)\n",
    "clusters = open_next_cluster(cluster_cash, clusters, 100)\n",
    "\n",
    "cluters_info_5 = list(map(lambda x: get_cluster_info(x, cluster_cash, houses_id, nodes_data), clusters))"
   ]
  },
  {
   "cell_type": "code",
   "execution_count": null,
   "metadata": {
    "scrolled": true
   },
   "outputs": [],
   "source": [
    "from functools import reduce\n",
    "\n",
    "routes_clusters_str = reduce(lambda x,y: x + y, list(map(lambda x: [v['way'] for k,v in x['tree'].items()], cluters_info_2)))\n",
    "routes_clusters = list(map(lambda x: list(map(lambda y: int(y), x)), routes_clusters_str))\n",
    "routes_clisters_filtered = list(filter(lambda x: len(x) > 1, routes_clusters))\n",
    "\n",
    "for cluster in cluters_info_3:\n",
    "    print(len(cluster['tree']))\n",
    "# fig, ax = ox.plot_graph_routes(G_ox, routes_clisters_filtered)\n",
    "# tets_node =  cluters_info_5[0]['nodes'][0]\n",
    "etokomfo = cluters_info_2[0]['tree'][str(tets_node)]['way'][3:-4]\n",
    "for val in etokomfo:\n",
    "    if val in houses_id:\n",
    "        print(val)\n",
    "# lol = list(map(lambda y: int(y), etokomfo))\n",
    "# fig, ax = ox.plot_graph_route(G_ox, lol)"
   ]
  },
  {
   "cell_type": "code",
   "execution_count": null,
   "metadata": {},
   "outputs": [],
   "source": [
    "for i in cluters_info_2:\n",
    "    print(len(i['tree']))"
   ]
  },
  {
   "cell_type": "code",
   "execution_count": null,
   "metadata": {},
   "outputs": [],
   "source": []
  },
  {
   "cell_type": "code",
   "execution_count": null,
   "metadata": {},
   "outputs": [],
   "source": [
    "# kek = [cluters_info_5[1]]\n",
    "# routes_clusters_str = reduce(lambda x,y: x + y, list(map(lambda x: [v['way'] for k,v in x['tree'].items()], kek)))\n",
    "# routes_clusters = list(map(lambda x: list(map(lambda y: int(y), x))[1:-1], routes_clusters_str))\n",
    "# routes_clisters_filtered = list(filter(lambda x: len(x) > 1, routes_clusters))\n",
    "# fig, ax = ox.plot_graph_routes(G_ox, routes_clisters_filtered)"
   ]
  }
 ],
 "metadata": {
  "kernelspec": {
   "display_name": "Python 3",
   "language": "python",
   "name": "python3"
  },
  "language_info": {
   "codemirror_mode": {
    "name": "ipython",
    "version": 3
   },
   "file_extension": ".py",
   "mimetype": "text/x-python",
   "name": "python",
   "nbconvert_exporter": "python",
   "pygments_lexer": "ipython3",
   "version": "3.8.2"
  }
 },
 "nbformat": 4,
 "nbformat_minor": 4
}
