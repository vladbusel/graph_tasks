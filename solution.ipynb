{
 "cells": [
  {
   "cell_type": "code",
   "execution_count": 1,
   "metadata": {
    "scrolled": true
   },
   "outputs": [
    {
     "data": {
      "text/plain": [
       "'0.12.1'"
      ]
     },
     "execution_count": 1,
     "metadata": {},
     "output_type": "execute_result"
    }
   ],
   "source": [
    "import osmnx as ox\n",
    "ox.__version__"
   ]
  },
  {
   "cell_type": "code",
   "execution_count": 2,
   "metadata": {
    "scrolled": true
   },
   "outputs": [],
   "source": [
    "ox.utils.config(all_oneway=False)"
   ]
  },
  {
   "cell_type": "code",
   "execution_count": 3,
   "metadata": {},
   "outputs": [],
   "source": [
    "G_d = ox.graph_from_place('Volgograd', network_type='drive', simplify = False)\n",
    "G_d = ox.project_graph(G_d)\n",
    "# fig, ax = ox.plot_graph(G)"
   ]
  },
  {
   "cell_type": "code",
   "execution_count": 4,
   "metadata": {},
   "outputs": [],
   "source": [
    "# len(G.nodes)"
   ]
  },
  {
   "cell_type": "code",
   "execution_count": 5,
   "metadata": {},
   "outputs": [],
   "source": [
    "# len(G.edges)"
   ]
  },
  {
   "cell_type": "code",
   "execution_count": 6,
   "metadata": {},
   "outputs": [],
   "source": [
    "# G_simp = ox.simplify.simplify_graph(G)"
   ]
  },
  {
   "cell_type": "code",
   "execution_count": 7,
   "metadata": {},
   "outputs": [],
   "source": [
    "# G_simp = ox.project_graph(G_simp)\n",
    "# fig, ax = ox.plot_graph(G_simp)"
   ]
  },
  {
   "cell_type": "code",
   "execution_count": 8,
   "metadata": {},
   "outputs": [],
   "source": [
    "# len(G_simp.nodes)"
   ]
  },
  {
   "cell_type": "code",
   "execution_count": 9,
   "metadata": {},
   "outputs": [],
   "source": [
    "# len(G_simp.edges)"
   ]
  },
  {
   "cell_type": "code",
   "execution_count": 10,
   "metadata": {
    "scrolled": true
   },
   "outputs": [],
   "source": [
    "# ox.save_load.save_as_osm(G,node_tags=['highway'], node_attrs=['id', 'lat', 'lon'], edge_tags=['highway', 'lanes', 'maxspeed', 'oneway'], edge_attrs=['id'], oneway=False, merge_edges=True, edge_tag_aggs=None, filename='graph.osm', folder=None)"
   ]
  },
  {
   "cell_type": "code",
   "execution_count": 11,
   "metadata": {},
   "outputs": [],
   "source": [
    "ox.utils.config(all_oneway=False)"
   ]
  },
  {
   "cell_type": "code",
   "execution_count": 12,
   "metadata": {},
   "outputs": [],
   "source": [
    "G_ox = ox.core.graph_from_file('graph.osm',  simplify=False, retain_all=True)"
   ]
  },
  {
   "cell_type": "code",
   "execution_count": 13,
   "metadata": {},
   "outputs": [],
   "source": [
    "G_ox = ox.project_graph(G_ox)\n",
    "# fig, ax = ox.plot_graph(G_ox)"
   ]
  },
  {
   "cell_type": "code",
   "execution_count": 14,
   "metadata": {},
   "outputs": [
    {
     "data": {
      "text/plain": [
       "40767"
      ]
     },
     "execution_count": 14,
     "metadata": {},
     "output_type": "execute_result"
    }
   ],
   "source": [
    "len(G_ox.nodes)"
   ]
  },
  {
   "cell_type": "code",
   "execution_count": 15,
   "metadata": {},
   "outputs": [
    {
     "data": {
      "text/plain": [
       "85090"
      ]
     },
     "execution_count": 15,
     "metadata": {},
     "output_type": "execute_result"
    }
   ],
   "source": [
    "len(G_ox.edges)"
   ]
  },
  {
   "cell_type": "code",
   "execution_count": 16,
   "metadata": {
    "scrolled": true
   },
   "outputs": [],
   "source": [
    "# print([node for node, data in G_ox.nodes(data=True)].count(5244338902))"
   ]
  },
  {
   "cell_type": "code",
   "execution_count": 17,
   "metadata": {},
   "outputs": [],
   "source": [
    "nodes_id = [node for node in G_ox.nodes]"
   ]
  },
  {
   "cell_type": "code",
   "execution_count": 18,
   "metadata": {},
   "outputs": [],
   "source": [
    "nodes_data = G_ox.nodes(data=True)"
   ]
  },
  {
   "cell_type": "code",
   "execution_count": 19,
   "metadata": {},
   "outputs": [
    {
     "data": {
      "text/plain": [
       "{'y': 5401682.772721899,\n",
       " 'x': 455351.7276346223,\n",
       " 'osmid': 1688220386,\n",
       " 'highway': 'nan',\n",
       " 'lon': 44.3924047,\n",
       " 'lat': 48.7665496}"
      ]
     },
     "execution_count": 19,
     "metadata": {},
     "output_type": "execute_result"
    }
   ],
   "source": [
    "nodes_data[1688220386]"
   ]
  },
  {
   "cell_type": "code",
   "execution_count": 20,
   "metadata": {},
   "outputs": [],
   "source": [
    "import networkx as nx"
   ]
  },
  {
   "cell_type": "code",
   "execution_count": 21,
   "metadata": {},
   "outputs": [],
   "source": [
    "import csv\n",
    "from lxml import etree as et\n",
    "from random import choices, random"
   ]
  },
  {
   "cell_type": "code",
   "execution_count": 22,
   "metadata": {},
   "outputs": [
    {
     "name": "stdout",
     "output_type": "stream",
     "text": [
      "100\n",
      "10\n"
     ]
    }
   ],
   "source": [
    "f = open('100houses.txt', 'r')\n",
    "houses_id = [house[:-1] for house in f.readlines()]\n",
    "f.close()\n",
    "f = open('10med.txt', 'r')\n",
    "med_id = [med[:-1] for med in f.readlines()]\n",
    "f.close()\n",
    "print(len(houses_id))\n",
    "print(len(med_id))"
   ]
  },
  {
   "cell_type": "code",
   "execution_count": 23,
   "metadata": {},
   "outputs": [
    {
     "data": {
      "text/plain": [
       "'5308930859'"
      ]
     },
     "execution_count": 23,
     "metadata": {},
     "output_type": "execute_result"
    }
   ],
   "source": [
    "houses_id[0]"
   ]
  },
  {
   "cell_type": "code",
   "execution_count": 24,
   "metadata": {},
   "outputs": [
    {
     "data": {
      "text/plain": [
       "40767"
      ]
     },
     "execution_count": 24,
     "metadata": {},
     "output_type": "execute_result"
    }
   ],
   "source": [
    "#Добавим сначала то, что есть в графе, потом дополним\n",
    "\n",
    "osm_file = 'graph.osm'\n",
    "G = nx.DiGraph()\n",
    "context = et.iterparse(osm_file, events=('end',), tag='node')\n",
    "nodes = []\n",
    "for event, elem in context:\n",
    "    nodes.append(elem.get('id'))\n",
    "    elem.clear()\n",
    "    while elem.getprevious() is not None:\n",
    "        del elem.getparent()[0]\n",
    "del context\n",
    "G.add_nodes_from(nodes)\n",
    "for h in houses_id:\n",
    "    G.nodes[h]['building'] = 'house'\n",
    "for m in med_id:\n",
    "    G.nodes[m]['building'] = 'hospital'\n",
    "G.number_of_nodes()"
   ]
  },
  {
   "cell_type": "code",
   "execution_count": 25,
   "metadata": {},
   "outputs": [],
   "source": [
    "def distance(node1,node2):\n",
    "    x1 = nodes_data[int(node1)]['x']\n",
    "    y1 = nodes_data[int(node1)]['y']\n",
    "    x2 = nodes_data[int(node2)]['x']\n",
    "    y2 = nodes_data[int(node2)]['y']\n",
    "    distance = ((x1-x2)**2 + (y1-y2)**2)**0.5\n",
    "    return distance"
   ]
  },
  {
   "cell_type": "code",
   "execution_count": 26,
   "metadata": {
    "scrolled": true
   },
   "outputs": [
    {
     "data": {
      "text/plain": [
       "90150"
      ]
     },
     "execution_count": 26,
     "metadata": {},
     "output_type": "execute_result"
    }
   ],
   "source": [
    "context = et.iterparse(osm_file,events=('end',),tag='way')\n",
    "edges = []\n",
    "for event, elem in context:\n",
    "    oneway = 0\n",
    "    #Определим свойства\n",
    "    for child in elem.iterchildren('tag'):\n",
    "        key = child.get('k')      \n",
    "        #Возможно, дорога односторонняя\n",
    "        if key == 'oneway' and child.get('v') == 'yes':\n",
    "            oneway = 1\n",
    "    #Узнаем, какие вершины состоят в пути\n",
    "    nodes_list = []\n",
    "    for child in elem.iterchildren('nd'):\n",
    "        _id = child.get('ref')\n",
    "        nodes_list.append(child.get('ref'))\n",
    "    #Добавляем ребра с весами в список смежности\n",
    "    for i in range(len(nodes_list)-1):\n",
    "        from_node, to_node = nodes_list[i:i+2]\n",
    "        d = distance(from_node, to_node)\n",
    "        edges.append((from_node, to_node, {'weight': d}))\n",
    "        edges.append((to_node, from_node, {'weight': d}))\n",
    "    elem.clear()\n",
    "    while elem.getprevious() is not None:\n",
    "        del elem.getparent()[0]\n",
    "del context\n",
    "\n",
    "G.add_edges_from(edges)\n",
    "G.number_of_edges()"
   ]
  },
  {
   "cell_type": "code",
   "execution_count": 27,
   "metadata": {},
   "outputs": [],
   "source": [
    "nodes_id = [str(node) for node in G_ox.nodes]\n",
    "nodes_data = G_ox.nodes(data=True)"
   ]
  },
  {
   "cell_type": "code",
   "execution_count": 28,
   "metadata": {},
   "outputs": [
    {
     "data": {
      "text/plain": [
       "1"
      ]
     },
     "execution_count": 28,
     "metadata": {},
     "output_type": "execute_result"
    }
   ],
   "source": [
    "nodes_id.count(houses_id[1])"
   ]
  },
  {
   "cell_type": "code",
   "execution_count": 29,
   "metadata": {},
   "outputs": [
    {
     "data": {
      "text/plain": [
       "220"
      ]
     },
     "execution_count": 29,
     "metadata": {},
     "output_type": "execute_result"
    }
   ],
   "source": [
    "#Добавим ребра к домам и больницам\n",
    "nearest_nodes_id = []\n",
    "copy_id = nodes_id\n",
    "for h_id in houses_id:\n",
    "    nni = '' #nearest_node_id\n",
    "    min_dist = float('inf')\n",
    "    while copy_id.count(h_id) > 0:\n",
    "        copy_id.remove(h_id)\n",
    "    for node_id in copy_id:\n",
    "        d = distance(h_id,node_id)\n",
    "        if d < min_dist:\n",
    "            min_dist = d\n",
    "            nni = node_id\n",
    "    w = 1 + random()\n",
    "    nearest_nodes_id.append((nni, h_id, {'weight': min_dist*w}))\n",
    "    nearest_nodes_id.append((h_id, nni, {'weight': min_dist*w}))\n",
    "        \n",
    "\n",
    "copy_id = nodes_id   \n",
    "for m_id in med_id:\n",
    "    nni = '' #nearest_node_id\n",
    "    min_dist = float('inf')\n",
    "    while copy_id.count(m_id) > 0:\n",
    "        copy_id.remove(m_id)\n",
    "    for node_id in copy_id:\n",
    "        d = distance(m_id,node_id)\n",
    "        if d < min_dist:\n",
    "            min_dist = d\n",
    "            nni = node_id\n",
    "    w = 1 + random()\n",
    "    nearest_nodes_id.append((nni, m_id, {'weight': min_dist*w}))\n",
    "    nearest_nodes_id.append((m_id, nni, {'weight': min_dist*w}))\n",
    "len(nearest_nodes_id)"
   ]
  },
  {
   "cell_type": "code",
   "execution_count": 30,
   "metadata": {
    "scrolled": true
   },
   "outputs": [
    {
     "data": {
      "text/plain": [
       "90370"
      ]
     },
     "execution_count": 30,
     "metadata": {},
     "output_type": "execute_result"
    }
   ],
   "source": [
    "G.add_edges_from(nearest_nodes_id)\n",
    "\n",
    "G.number_of_edges()"
   ]
  },
  {
   "cell_type": "code",
   "execution_count": 31,
   "metadata": {},
   "outputs": [],
   "source": [
    "#Создадим список смежности\n",
    "# nx.readwrite.adjlist.write_adjlist(G,'adj_list.csv')"
   ]
  },
  {
   "cell_type": "code",
   "execution_count": 32,
   "metadata": {},
   "outputs": [],
   "source": [
    "# with open('adj_list2.csv','w',newline='') as csv_file:\n",
    "#     csv_file.write('from_id to_id,edge_weight\\n')\n",
    "#     for _from in list(G.nodes):\n",
    "#         s = str(_from)\n",
    "#         for _to in G.successors(_from):\n",
    "#             s = s + ' ' + str(_to) + ',' + str(G[_from][_to]['weight'])\n",
    "#         csv_file.write(s + '\\n')\n"
   ]
  },
  {
   "cell_type": "code",
   "execution_count": 33,
   "metadata": {},
   "outputs": [],
   "source": [
    "#nx.linalg.graphmatrix.adjacency_matrix(G)"
   ]
  },
  {
   "cell_type": "code",
   "execution_count": 34,
   "metadata": {},
   "outputs": [],
   "source": [
    "# #Создадим матрицу смежности\n",
    "# adj_matrix = nx.to_pandas_adjacency(G)\n",
    "# adj_matrix.to_csv('adj_matrix.csv')"
   ]
  },
  {
   "cell_type": "code",
   "execution_count": 35,
   "metadata": {},
   "outputs": [],
   "source": [
    "# print(adj_matrix)"
   ]
  },
  {
   "cell_type": "code",
   "execution_count": 36,
   "metadata": {},
   "outputs": [],
   "source": [
    "# matrix = adj_matrix.values\n",
    "# print(matrix)"
   ]
  },
  {
   "cell_type": "code",
   "execution_count": 37,
   "metadata": {},
   "outputs": [],
   "source": [
    "class MinNodeHeap:\n",
    "\n",
    "    def __init__(self,g={}):\n",
    "        self.heap = []\n",
    "        self.size = 0\n",
    "        self.g = g\n",
    "\n",
    "    def left_index(self,i):\n",
    "        return 2*i+1\n",
    "\n",
    "    def right_index(self,i):\n",
    "        return 2*i+2\n",
    "\n",
    "    def parent_index(self,i):\n",
    "        return (i-1)//2\n",
    "\n",
    "    def min_heapify(self,i):\n",
    "        l = self.left_index(i)\n",
    "        r = self.right_index(i)\n",
    "\n",
    "        if l < self.size and self.g[self.heap[l]]['weight'] < self.g[self.heap[i]]['weight']:\n",
    "            smallest = l\n",
    "        else:\n",
    "            smallest = i\n",
    "        if r < self.size and self.g[self.heap[r]]['weight'] < self.g[self.heap[smallest]]['weight']:\n",
    "            smallest = r\n",
    "        if smallest != i:\n",
    "            self.g[self.heap[i]]['index'], self.g[self.heap[smallest]]['index'] = self.g[self.heap[smallest]]['index'], self.g[self.heap[i]]['index']           \n",
    "            self.heap[i], self.heap[smallest] = self.heap[smallest], self.heap[i]\n",
    "            self.min_heapify(smallest)\n",
    "\n",
    "    def build_min_heap(self,_NodeView):\n",
    "        self.heap = [None for i in range(len(_NodeView))]\n",
    "        for elem in self.g.keys():\n",
    "            self.heap[self.g[elem]['index']] = elem\n",
    "#         self.heap = list(_NodeView)\n",
    "        self.size = len(_NodeView)\n",
    "#         for i in range(len(_NodeView)//2,-1,-1):\n",
    "#             self.min_heapify(i)\n",
    "            \n",
    "    def extract_min(self):\n",
    "        if self.size < 1:\n",
    "            return None\n",
    "        _min = self.heap[0]\n",
    "        self.g[self.heap[self.size-1]]['index'] = self.g[self.heap[0]]['index']\n",
    "        self.heap[0] = self.heap[self.size-1]      \n",
    "        self.size -= 1\n",
    "        self.min_heapify(0)\n",
    "        return _min\n",
    "    \n",
    "    def decrease_key(self,_id,key):\n",
    "        i = self.g[_id]['index']\n",
    "        if key > self.g[_id]['weight']:\n",
    "            raise KeyError\n",
    "        self.g[_id]['weight'] = key\n",
    "        while (i > 0) and (self.g[self.heap[self.parent_index(i)]]['weight'] > self.g[self.heap[i]]['weight']):\n",
    "            self.g[self.heap[self.parent_index(i)]]['index'], self.g[self.heap[i]]['index'] = self.g[self.heap[i]]['index'], self.g[self.heap[self.parent_index(i)]]['index']\n",
    "            self.heap[self.parent_index(i)], self.heap[i] = self.heap[i], self.heap[self.parent_index(i)]\n",
    "            i = self.parent_index(i)\n"
   ]
  },
  {
   "cell_type": "code",
   "execution_count": 38,
   "metadata": {},
   "outputs": [],
   "source": [
    "def initialize_single_sourse(G,_from):\n",
    "    g = {}\n",
    "    nodes_list = list(G.nodes).copy()\n",
    "    nodes_list.remove(_from)\n",
    "    for v_id, i in zip(nodes_list,range(1,len(G.nodes))):\n",
    "        g[v_id] = {'way': [], 'weight':float('inf'), 'index':i}\n",
    "    g[_from] = {'way':[_from], 'weight':0, 'index':0}\n",
    "    return g\n",
    "\n",
    "def relax(G,min_heap,_from,_to):\n",
    "    if min_heap.g[_to]['weight'] > min_heap.g[_from]['weight'] + G[_from][_to]['weight']:\n",
    "        key = min_heap.g[_from]['weight'] + G[_from][_to]['weight']\n",
    "        min_heap.decrease_key(_to,key)\n",
    "        min_heap.g[_to]['way'] = (min_heap.g[_from]['way']).copy()\n",
    "        min_heap.g[_to]['way'].append(_to)\n",
    "        \n",
    "def dijkstra(G,_from,to_list):\n",
    "    g = initialize_single_sourse(G,_from)\n",
    "    finish = 0\n",
    "    nodes = MinNodeHeap(g)\n",
    "    nodes.build_min_heap(G.nodes)\n",
    "    while nodes.size > 0 and finish < len(to_list):\n",
    "        u = nodes.extract_min()\n",
    "        if to_list.count(u) > 0:\n",
    "            finish += 1\n",
    "        for v in G.successors(u):\n",
    "            relax(G,nodes,u,v)\n",
    "    return g\n"
   ]
  },
  {
   "cell_type": "code",
   "execution_count": 39,
   "metadata": {},
   "outputs": [],
   "source": [
    "# ok = nx.DiGraph()\n",
    "# ok.add_nodes_from(['2', '1', '3', '4', '5', '6'])\n",
    "# to_list = ['4','2']\n",
    "# ok.add_edges_from([('1','2', {'weight': 1}), ('1','3', {'weight': 2}), ('3','4', {'weight': 5}), ('4','5', {'weight': 6}), ('5','6', {'weight': 10}), ('2','7', {'weight': 100}), ('7','8', {'weight': 3})])"
   ]
  },
  {
   "cell_type": "code",
   "execution_count": 40,
   "metadata": {
    "scrolled": true
   },
   "outputs": [],
   "source": [
    "# g = initialize_single_sourse(ok, '1')\n",
    "# finish = 0\n",
    "# nodes = MinNodeHeap(g)\n",
    "# nodes.build_min_heap(ok.nodes)\n",
    "# while nodes.size > 0 and finish < len(to_list):\n",
    "#     u = nodes.extract_min()\n",
    "#     if to_list.count(u) > 0:\n",
    "#         finish += 1\n",
    "#     for v in ok.successors(u):\n",
    "#         relax(ok,nodes,u,v)  \n",
    "# g"
   ]
  },
  {
   "cell_type": "code",
   "execution_count": 41,
   "metadata": {},
   "outputs": [],
   "source": [
    "# d = dijkstra(ok,'1',['2','4'])\n",
    "# d"
   ]
  },
  {
   "cell_type": "code",
   "execution_count": 42,
   "metadata": {},
   "outputs": [],
   "source": [
    "# a = dijkstra(G,houses_id[0],med_id)\n",
    "# (a)"
   ]
  },
  {
   "cell_type": "code",
   "execution_count": 43,
   "metadata": {},
   "outputs": [],
   "source": [
    "# #Запустим Дейкстру от всех домов и больниц, сохраним результаты для выполнения заданий\n",
    "# houses_res = []\n",
    "# for h_id in houses_id:\n",
    "#     houses_res.append(dijkstra(G,h_id,med_id))\n",
    "# med_res = []\n",
    "# for m_id in med_id:\n",
    "#     houses_res.append(dijkstra(G,m_id,houses_id))\n",
    "# #15 минут работы"
   ]
  },
  {
   "cell_type": "code",
   "execution_count": 44,
   "metadata": {},
   "outputs": [],
   "source": [
    "# #Вариант с записью на диск работает дольше, но его нужно выполнить 1 раз\n",
    "# with open('ways_from_houses.txt','w',newline='') as f:\n",
    "#     f.write('from_id,to_id,way_weight,way\\n')\n",
    "#     for h_id in houses_id:\n",
    "#         a = dijkstra(G,h_id,med_id)\n",
    "#         for m_id in med_id:\n",
    "#             s = h_id + ',' + m_id + ',' + str(a[m_id]['weight'])\n",
    "#             if a[m_id]['way'] != '':\n",
    "#                 way = ','.join(a[m_id]['way'])\n",
    "#                 s = s + ',' + way\n",
    "#             f.write(s + '\\n')\n"
   ]
  },
  {
   "cell_type": "code",
   "execution_count": 45,
   "metadata": {},
   "outputs": [],
   "source": [
    "# with open('ways_from_med.txt','w',newline='') as f:  \n",
    "#     f.write('from_id,to_id,way_weight,way\\n')\n",
    "#     for m_id in med_id:        \n",
    "#         a = dijkstra(G,m_id,houses_id)\n",
    "#         for h_id in houses_id:                \n",
    "#             s = m_id + ',' + h_id + ',' + str(a[h_id]['weight'])\n",
    "#             if a[h_id]['way'] != '':\n",
    "#                 way = ','.join(a[h_id]['way'])\n",
    "#                 s = s + ',' + way\n",
    "#             f.write(s + '\\n')\n"
   ]
  },
  {
   "cell_type": "code",
   "execution_count": 46,
   "metadata": {},
   "outputs": [],
   "source": [
    "# G['5308930859']"
   ]
  },
  {
   "cell_type": "code",
   "execution_count": 47,
   "metadata": {},
   "outputs": [],
   "source": [
    "# min_ways = {}\n",
    "# with open('ways_from_houses.txt','r') as f:  \n",
    "#     next(f)\n",
    "#     for line in f:\n",
    "#         split_line = line.split(',')\n",
    "#         _from = split_line[0]\n",
    "#         _to = split_line[1]\n",
    "#         weight = split_line[2]\n",
    "#         if min_ways.get(_from) == None:\n",
    "#             min_ways[_from] = {'to':_to,'weight':weight}\n",
    "#         elif min_ways[_from]['weight'] > weight:\n",
    "#             min_ways[_from]['weight'] = weight\n",
    "#             min_ways[_from]['to'] = _to\n",
    "\n",
    "# with open('shortest_ways_from_houses.txt','w',newline='') as f:  \n",
    "#     f.write('from_id,to_id,way_weight\\n')\n",
    "#     s = ''\n",
    "#     for h_id in min_ways.keys():\n",
    "#         s = s + h_id + ',' + min_ways[h_id]['to'] + ',' + min_ways[h_id]['weight']+'\\n'\n",
    "#     f.write(s)"
   ]
  },
  {
   "cell_type": "code",
   "execution_count": 48,
   "metadata": {},
   "outputs": [],
   "source": [
    "# min_ways = {}\n",
    "# with open('ways_from_med.txt','r') as f:  \n",
    "#     next(f)\n",
    "#     for line in f:\n",
    "#         split_line = line.split(',')\n",
    "#         _from = split_line[0]\n",
    "#         _to = split_line[1]\n",
    "#         weight = split_line[2]\n",
    "#         if min_ways.get(_from) == None:\n",
    "#             min_ways[_from] = {'to':_to,'weight':weight}\n",
    "#         elif min_ways[_from]['weight'] > weight:\n",
    "#             min_ways[_from]['weight'] = weight\n",
    "#             min_ways[_from]['to'] = _to\n",
    "                                 \n",
    "# with open('shortest_ways_from_med.txt','w',newline='') as f:  \n",
    "#     f.write('from_id,to_id,way_weight\\n')\n",
    "#     s = ''\n",
    "#     for h_id in min_ways.keys():\n",
    "#         s = s + h_id + ',' + min_ways[h_id]['to'] + ',' + min_ways[h_id]['weight']+'\\n'\n",
    "#     f.write(s)\n",
    "        "
   ]
  },
  {
   "cell_type": "code",
   "execution_count": 49,
   "metadata": {},
   "outputs": [],
   "source": [
    "# with open('ways_from_med.txt','r') as f:\n",
    "#     lines = f.readlines()\n",
    "#     lines = lines[1:]\n",
    "#     med_lines = []\n",
    "#     for elem in lines:\n",
    "#         split_line = elem.split(',')\n",
    "#         med_lines.append(split_line)\n",
    "#     med_dict = {}\n",
    "#     for elem in med_lines:\n",
    "#         med_dict[elem[0]] = {}\n",
    "#         med_dict[elem[0]][elem[1]] = elem[2]\n",
    "        \n",
    "# with open('ways_from_houses.txt','r') as f:  \n",
    "#     lines = f.readlines()\n",
    "#     lines = lines[1:]\n",
    "#     houses_lines = []\n",
    "#     for elem in lines:\n",
    "#         split_line = elem.split(',')\n",
    "#         houses_lines.append(split_line)\n",
    "#     houses_dict = {}\n",
    "#     for elem in houses_lines:\n",
    "#         houses_dict[elem[0]] = {}\n",
    "#         houses_dict[elem[0]][elem[1]] = elem[2]\n",
    "\n",
    "# min_way = {'med': '','house': '','weight': float('inf')}\n",
    "# for m in med_id:\n",
    "#     for h in houses_id:  \n",
    "#         print(med_dict)\n",
    "#         if min_way['weight'] > med_dict[m][h] + houses_dict[h][m]:\n",
    "#             min_way['weight'] = med_dict[m][h] + houses_dict[h][m]\n",
    "#             min_way['med'] = m\n",
    "#             min_way['house'] = h\n",
    "        \n",
    "# print(min_way)"
   ]
  },
  {
   "cell_type": "code",
   "execution_count": 50,
   "metadata": {},
   "outputs": [],
   "source": [
    "# max_weight = 10000"
   ]
  },
  {
   "cell_type": "code",
   "execution_count": 51,
   "metadata": {},
   "outputs": [],
   "source": [
    "# ways = []\n",
    "# with open('ways_from_houses.txt','r') as f:  \n",
    "#     next(f)\n",
    "#     for line in f:\n",
    "#         split_line = line.split(',')\n",
    "#         _from = split_line[0]\n",
    "#         _to = split_line[1]\n",
    "#         weight = split_line[2]\n",
    "#         if weight < max_weight:\n",
    "#             ways.append([_from,_to,weight])\n",
    "\n",
    "# with open('near_houses.txt','w',newline='') as f:  \n",
    "#     f.write('from_id,to_id,weight\\n')\n",
    "#     s = ''\n",
    "#     for way in ways:\n",
    "#         s = s + way[0] + ',' + way[1] + ',' + way[2] +'\\n'\n",
    "#     f.write(s)"
   ]
  },
  {
   "cell_type": "code",
   "execution_count": 52,
   "metadata": {},
   "outputs": [],
   "source": [
    "# ways = []\n",
    "# with open('ways_from_med.txt','r') as f:  \n",
    "#     next(f)\n",
    "#     for line in f:\n",
    "#         split_line = line.split(',')\n",
    "#         _from = split_line[0]\n",
    "#         _to = split_line[1]\n",
    "#         weight = split_line[2]\n",
    "#         if weight < max_weight:\n",
    "#             ways.append([_from,_to,weight])\n",
    "\n",
    "# with open('near_med.txt','w',newline='') as f:  \n",
    "#     f.write('from_id,to_id,weight\\n')\n",
    "#     s = ''\n",
    "#     for way in ways:\n",
    "#         s = s + way[0] + ',' + way[1] + ',' + way[2] +'\\n'\n",
    "#     f.write(s)\n",
    "      "
   ]
  },
  {
   "cell_type": "code",
   "execution_count": 53,
   "metadata": {},
   "outputs": [],
   "source": [
    "# with open('ways_from_med.txt','r') as f:  \n",
    "#     med_lines = [elem.split(',') for elem in f.readlines()[1:]]\n",
    "#     med_dict = {elem[0]:{elem[1]:elem[2]} for elem in med_lines}\n",
    "    \n",
    "# with open('ways_from_houses.txt','r') as f:  \n",
    "#     houses_lines = [elem.split(',') for elem in f.readlines()[1:]]\n",
    "#     houses_dict = {elem[0]:{elem[1]:elem[2]} for elem in houses_lines}                          \n",
    "\n",
    "# ways = []\n",
    "# for m in med_id:\n",
    "#     for h in houses_id:\n",
    "#         if med_dict[m][h] + houses_dict[h][m] < max_weight:\n",
    "#             ways.append([med_dict[m][h] + houses_dict[h][m], m, h])\n",
    "\n",
    "# with open('near_med.txt','w',newline='') as f:\n",
    "#     f.write('med_id, house_id,weight\\n')\n",
    "#     s = ''\n",
    "#     for way in ways:\n",
    "#         s = s + way[0] + ',' + way[1] + ',' + way[2] +'\\n'\n",
    "#     f.write(s)\n",
    "              "
   ]
  },
  {
   "cell_type": "code",
   "execution_count": 54,
   "metadata": {},
   "outputs": [],
   "source": [
    "# #Выбираем минимум из максимумов\n",
    "# minmax_way = {'from':'','to':'','weight':float('inf')}\n",
    "# for m_id in med_id:\n",
    "#     weight = 0\n",
    "#     for h_id in house_id:\n",
    "#         if med_dict[m_id][h_id] > weight:\n",
    "#             weight = med_dict[m_id][h_id]\n",
    "#             _from = m_id\n",
    "#             _to = h_id\n",
    "#     if weight < minmax_way['weight']:\n",
    "#         minmax_way['weight'] = weight\n",
    "#         minmax_way['from'] = _from\n",
    "#         minmax_way['to'] = _to\n"
   ]
  },
  {
   "cell_type": "code",
   "execution_count": 55,
   "metadata": {},
   "outputs": [],
   "source": [
    "# min_sum = float('inf')\n",
    "# _from = ''\n",
    "# for m_id in med_id:\n",
    "#     sum = 0\n",
    "#     for h_id in house_id:        \n",
    "#         sum += med_dict[m_id][h_id]\n",
    "#     if sum < min_sum:\n",
    "#         min_sum = sum\n",
    "#         _from = m_id\n",
    "        "
   ]
  },
  {
   "cell_type": "code",
   "execution_count": 56,
   "metadata": {},
   "outputs": [],
   "source": [
    "# def task1_2():\n",
    "    #Определить, какой из объектов расположен так, что время/расстояние между ним и\n",
    "    #самым дальним домом минимально (“туда”, “обратно”, “туда и обратно”)\n",
    "    "
   ]
  },
  {
   "cell_type": "code",
   "execution_count": 57,
   "metadata": {},
   "outputs": [],
   "source": [
    "# def task1_3():\n",
    "#     #Для какого объекта инфраструктуры сумма кратчайших расстояний от него до всех домов минимальна\n",
    "    "
   ]
  },
  {
   "cell_type": "code",
   "execution_count": 58,
   "metadata": {},
   "outputs": [],
   "source": [
    "def get_edge_weight(edge, tree):\n",
    "    prev_weight = float(tree[edge['from']]['weight'])\n",
    "    post_weight = float(tree[edge['to']]['weight'])\n",
    "    return post_weight - prev_weight"
   ]
  },
  {
   "cell_type": "code",
   "execution_count": 59,
   "metadata": {},
   "outputs": [],
   "source": [
    "import math\n",
    "def get_tree_and_sum(G, _from, target_list):\n",
    "    tree = dijkstra(G, _from, target_list)\n",
    "    filtered_tree = {k:v for k,v in tree.items() if not math.isinf(v[\"weight\"]) and k in target_list}\n",
    "    tree_sum = sum(list(map(lambda x: x['weight'], list(filtered_tree.values()))))\n",
    "    \n",
    "    edge_set = list()\n",
    "    for target in filtered_tree:\n",
    "        node_list = filtered_tree[target]['way']\n",
    "        for node_number in range(len(node_list)-2):           \n",
    "            new_edge = {\"from\": node_list[node_number], \"to\": node_list[node_number + 1]}\n",
    "            if new_edge not in edge_set:\n",
    "                edge_set.append(new_edge)\n",
    "    tree_small_sum = sum(list(map(lambda x: get_edge_weight(x, tree), edge_set)))\n",
    "    return filtered_tree, tree_sum, tree_small_sum\n",
    "\n",
    "# temp_nodes_id = houses_id\n",
    "# temp_med_id = med_id[5]\n",
    "\n",
    "# temp_tree, temp_tree_sum, temp_tree_small_sum = get_tree_and_sum(G,temp_med_id, temp_nodes_id)\n",
    "\n",
    "# print(temp_tree_sum)\n",
    "# print(temp_tree_small_sum)"
   ]
  },
  {
   "cell_type": "code",
   "execution_count": null,
   "metadata": {},
   "outputs": [],
   "source": []
  },
  {
   "cell_type": "code",
   "execution_count": 61,
   "metadata": {},
   "outputs": [],
   "source": [
    "# routes_temp = [temp_tree[key]['way'] for key in temp_tree]\n",
    "# routes_temp_2 = list(map(lambda x: [int(value) for value in x][2:-2], routes_temp))\n",
    "\n",
    "# print(len(routes_temp_2))\n",
    "# fig, ax = ox.plot_graph_routes(G_ox, routes_temp_2)\n",
    "# fig, ax = ox.plot_graph(G)"
   ]
  },
  {
   "cell_type": "code",
   "execution_count": 62,
   "metadata": {},
   "outputs": [],
   "source": [
    "from scipy.cluster.hierarchy import dendrogram, linkage\n",
    "from matplotlib import pyplot as plt"
   ]
  },
  {
   "cell_type": "code",
   "execution_count": 63,
   "metadata": {},
   "outputs": [],
   "source": [
    "import collections\n",
    "matrix = []\n",
    "for house_id in houses_id:\n",
    "    pre_vector = dijkstra(G, house_id, houses_id)\n",
    "    filtered_vector = {k:v for k,v in pre_vector.items() if not math.isinf(v[\"weight\"]) and k in houses_id}\n",
    "    sorted_vector = collections.OrderedDict(sorted(filtered_vector.items()))\n",
    "    vector = list(map(lambda x: x['weight'], list(sorted_vector.values())))\n",
    "    matrix.append(vector)"
   ]
  },
  {
   "cell_type": "code",
   "execution_count": null,
   "metadata": {},
   "outputs": [],
   "source": []
  },
  {
   "cell_type": "code",
   "execution_count": 64,
   "metadata": {},
   "outputs": [],
   "source": [
    "def cluster_to_id_list(cluster_index, cluster_cash, list_id, count_of_values):\n",
    "    cluster_indexes = [cluster_index]\n",
    "    while len(list(filter(lambda x: x > count_of_values, cluster_indexes))) > 0:\n",
    "        \n",
    "        cluster_to_open = list(filter(lambda x: x >= count_of_values, cluster_indexes))\n",
    "        \n",
    "        for cluster in cluster_to_open:\n",
    "            cluster_indexes.remove(cluster)\n",
    "            cluster_indexes.append(cluster_cash[int(cluster) - count_of_values, 0] )\n",
    "            cluster_indexes.append(cluster_cash[int(cluster) - count_of_values, 1] )\n",
    "            \n",
    "    return list(map(lambda x: int(list_id[int(x)]), cluster_indexes))    "
   ]
  },
  {
   "cell_type": "code",
   "execution_count": 65,
   "metadata": {},
   "outputs": [],
   "source": [
    "def get_centroid_coords(cluster_nodes):\n",
    "    x = sum(list(map(lambda x: x['x'], cluster_nodes))) / len(cluster_nodes)\n",
    "    y = sum(list(map(lambda x: x['y'], cluster_nodes))) / len(cluster_nodes)\n",
    "    return y, x"
   ]
  },
  {
   "cell_type": "code",
   "execution_count": 66,
   "metadata": {},
   "outputs": [
    {
     "data": {
      "image/png": "[encoded data removed]",
      "text/plain": [
       "<Figure size 1800x1440 with 1 Axes>"
      ]
     },
     "metadata": {
      "needs_background": "light"
     },
     "output_type": "display_data"
    }
   ],
   "source": [
    "import numpy as np\n",
    "matrix_np = np.array(matrix)\n",
    "cluster_cash = linkage(matrix_np, 'complete')\n",
    "fig = plt.figure(figsize=(25, 20))\n",
    "dn = dendrogram(cluster_cash)"
   ]
  },
  {
   "cell_type": "code",
   "execution_count": 67,
   "metadata": {},
   "outputs": [],
   "source": [
    "first_cluster = cluster_cash[-1,0] \n",
    "second_cluster = cluster_cash[-1,1] \n",
    "\n",
    "third_cluster = cluster_cash[-2,0] \n",
    "fourth_cluster = cluster_cash[-2,1]\n",
    "\n",
    "fifth_cluster = cluster_cash[-3,1]"
   ]
  },
  {
   "cell_type": "code",
   "execution_count": 68,
   "metadata": {},
   "outputs": [],
   "source": [
    "def get_cluster_info (cluster_index, cluster_cash, cluster_items_id, nodes_data):    \n",
    "    cluster_nodes = cluster_to_id_list(cluster_index, cluster_cash, cluster_items_id, len(cluster_items_id))\n",
    "    str_cluster_nodes = list(map(lambda x: str(x),cluster_nodes))\n",
    "    list_with_coords = list(map(lambda x: {'x': float(nodes_data[int(x)]['x']), 'y': float(nodes_data[int(x)]['y'])} ,cluster_nodes))\n",
    "    centroid = get_centroid_coords(list_with_coords)\n",
    "    centroid_id = ox.get_nearest_node(G_ox, centroid, method='euclidean')\n",
    "    tree, tree_sum, tree_min_sum = get_tree_and_sum(G, str(centroid_id), str_cluster_nodes)\n",
    "    return {'tree': tree, 'tree_sum':tree_sum, 'tree_min_sum':tree_min_sum, 'centroid_id':centroid_id}"
   ]
  },
  {
   "cell_type": "code",
   "execution_count": 69,
   "metadata": {},
   "outputs": [],
   "source": [
    "def open_next_cluster(cluster_cash, clusters, count_of_values):\n",
    "    cluster_to_open = max(clusters)\n",
    "    clusters.remove(cluster_to_open)\n",
    "    clusters.append(cluster_cash[int(cluster_to_open) - count_of_values, 0] )\n",
    "    clusters.append(cluster_cash[int(cluster_to_open) - count_of_values, 1] )\n",
    "    return clusters"
   ]
  },
  {
   "cell_type": "code",
   "execution_count": 70,
   "metadata": {},
   "outputs": [],
   "source": [
    "clusters = [int(cluster_cash[-1,0]), int(cluster_cash[-1,1])]\n",
    "cluters_info_2 = list(map(lambda x: get_cluster_info(x, cluster_cash, houses_id, nodes_data), clusters))\n"
   ]
  },
  {
   "cell_type": "code",
   "execution_count": 71,
   "metadata": {},
   "outputs": [],
   "source": [
    "clusters = open_next_cluster(cluster_cash, clusters, 100)\n",
    "cluters_info_3 = list(map(lambda x: get_cluster_info(x, cluster_cash, houses_id, nodes_data), clusters))"
   ]
  },
  {
   "cell_type": "code",
   "execution_count": 72,
   "metadata": {},
   "outputs": [],
   "source": [
    "clusters = open_next_cluster(cluster_cash, clusters, 100)\n",
    "clusters = open_next_cluster(cluster_cash, clusters, 100)\n",
    "\n",
    "cluters_info_5 = list(map(lambda x: get_cluster_info(x, cluster_cash, houses_id, nodes_data), clusters))"
   ]
  },
  {
   "cell_type": "code",
   "execution_count": 73,
   "metadata": {},
   "outputs": [
    {
     "name": "stdout",
     "output_type": "stream",
     "text": [
      "[[1973912143, 1684434964], [1973912143], [5872963445, 5872963409, 5872963393, 5872963389], [5872963445, 5872963409, 5872963393], [5872963445, 5872963409], [5872963445, 5872963409, 5872963413], [5872963445, 5872963409, 5872963497, 5872963493], [5872963445, 5872963409, 5872963497], [5872963445, 5872963409, 5872963393, 5872963389, 5872963521], [5872963445, 5872963409, 5873036994], [5872963445, 5872963409, 5873036994, 5873037058], [5872963445, 5872963409, 5873036994, 5873100371], [5872963445, 5872963409, 5872963393, 5881414604, 5881413440], [5872963445, 5872963409, 5881413468], [5872963445, 5872963409, 5881413468, 5881413472], [5872963445, 5872963409, 5881413468, 5881413484], [5872963445, 5872963409, 5872963393, 5881414604], [5872963445, 5872963409, 5881413468, 5881413484, 5881414664], [5872963445, 5872963409, 5881413468, 5881413484, 5881414672], [5872963445, 5872963409, 5881413468, 5881413484, 5881414804], [5872963445], [5283937202, 5283936970, 5283933990, 1422785012], [5283937202, 5283937166, 1627299857], [5283937202, 5283937166, 1627299857, 1627300624], [5283937202, 5283937166, 1627299857, 1627300624, 2669778038], [5283937202, 3034658769, 3034658765], [5283937202, 3034658769], [5283937202, 5283937166, 5295391944, 5283936373, 5283937182, 5295391928, 5283933239], [5283937202, 5283937166, 5283933243], [5283937202, 5283937166, 5295391944, 5283936373, 5283933548, 5283933468], [5283937202, 5283937166, 5295391944, 5283936373, 5283933548], [5283937202, 5283937166, 5295391944, 5283936373, 5283933548, 5283933552], [5283937202, 5283936970, 5283933990], [5283937202, 5283937166, 5295391944, 5283936373, 5283933548, 5283935077], [5283937202, 5283937166, 5295391944, 5283936373, 5283936702, 5283935413], [5283937202, 5283937166, 5295391944, 5283936373], [5283937202, 5283937166, 5295391944, 5283936373, 5283936702, 5283936688], [5283937202, 5283937166, 5295391944, 5283936373, 5283936702], [5283937202, 5283936970], [5283937202, 5283937166], [5283937202, 5283937166, 5295391944, 5283936373, 5283937182], [5283937202, 5283937166, 5283933243, 5283937438], [5283937202, 5283937166, 5283937738, 5283937474], [5283937202, 5283937166, 5283937738, 5283937502], [5283937202, 5283937166, 5283937738, 5283937502, 5283937658, 5283937510], [5283937202, 5283937166, 5283933243, 5283937832, 5283937622], [5283937202, 5283937166, 5283937738, 5283937502, 5283937658], [5283937202, 5283937166, 5283937738, 5283937722], [5283937202, 5283937166, 5283937738], [5283937202, 5283937166, 5283933243, 5283937832], [5283937202, 5283937166, 5295391944, 5283936373, 5283936702, 5283937864], [5283937202, 5283937166, 5295391944, 5283936373, 5283937182, 5295391928], [5283937202, 5283937166, 5295391944], [5283937202, 5283937166, 5295391944, 5283936373, 5283937182, 5295391956], [5283937202, 5283937166, 5295391944, 5283936373, 5283933548, 5295413100], [5283937202, 5283937166, 5295391944, 5305057837], [5283937202], [419070341, 419070672, 419070457, 6795214368, 419075056, 5882748592, 6795214362, 6795214367, 6795214361, 6795214360, 6724834372, 6724834373, 6724834375, 6724834376, 6724834377, 6724834378, 6795214315, 6795214317, 419075503, 419075396, 1293118351, 419074355, 419074457, 985965411, 1147387135, 419073659, 6848029695, 419073584, 1332033851, 1293102653], [419070341, 419070672, 419070457, 6795214368, 419075056, 6795149868, 419075230, 5882748594, 6724834370, 1293131415], [419070341, 419070672, 419070457, 6795214368, 419075056, 6795149868, 419075230, 419075147, 419075259, 1333626636, 5882748599, 419074371, 6389528617, 419074573, 419074546, 419074534, 419074514, 419074525, 6389528616, 419074263, 6389572376, 6777812845, 6795214351, 1296947459], [419070341, 419070672, 419070457, 6795214368, 419075056, 6795149868, 419075230, 419075147, 419075259, 1333626636, 6795214379, 1333626664, 1333626666, 1333626609, 1401095114, 1333626637, 1296971538], [419070341, 419070672, 419070457, 6795214368, 419075056, 5882748592, 6795214362, 419074988, 6724834374, 6724834380, 419075365, 6795214336, 6795214320, 6795214325, 6795214343, 4846921540, 419074704, 1147387330, 6860789686, 419074870, 6805745156, 419073593, 6860789687, 419073809, 4400925134, 6805745155, 5882819654, 419073964, 419073973, 6389528615, 5882819618, 6802388836, 5882748959, 419072889, 6860946353, 6802388837, 419073180, 6883634583, 3326635583, 419073413, 419078126, 1337853148, 419078088, 419077955, 419077877, 6511094318, 419077606, 6389572337, 6389572342, 1297065337, 6873408390, 419077471, 419077271, 6389572327, 419077165, 6389572325, 419077084, 419076913, 419077029, 419076602, 419076552, 1323498240], [419070341, 419070672, 419070457, 6795214368, 419075056, 5882748592, 6795214362, 419074988, 6724834374, 6724834380, 419075365, 6795214336, 6795214320, 6795214325, 6795214343, 4846921540, 419074704, 1147387330, 6860789686, 419074870, 6805745156, 419073593, 6860789687, 419073809, 4400925134, 6805745155, 5882819654, 419073964, 419073973, 6389528615, 5882819618, 6802388836, 5882748959, 419072889, 6860946353, 6802388837, 419073180, 6883634583, 3326635583, 419073413, 419078126, 1337853148, 419078088, 419077955, 419077877, 6511094318, 419077606, 6389572337, 6389572342, 1297065337, 6873408390, 419077471, 419077271, 6389572327, 419077165, 6389572325, 419077084, 419076913, 419077029, 419076602, 1323498258, 1323498119, 1682971789, 1682971832, 1323498275], [419070341, 419070672, 419070457, 6795214368, 419075056, 5882748592, 6795214362, 419074988, 6724834374, 6724834380, 419075365, 6795214336, 6795214320, 6795214325, 6795214343, 4846921540, 419074704, 1147387330, 6860789686, 419074870, 6805745156, 419073593, 6860789687, 419073809, 4400925134, 6805745155, 5882819654, 419073964, 419073973, 6389528615, 5882819618, 6802388836, 5882748959, 419072889, 6860946353, 6802388837, 419073180, 6883634583, 3326635583, 419073413, 419078126, 1337853148, 419078088, 419077955, 419077877, 419077827, 419077779, 6725674478, 419077608, 419077767, 419077256, 419077355, 1320089162, 419077119, 6835186965, 419076864, 6835186964, 419076473, 419076185, 419075948, 419076074, 419076308, 3218901509, 419076021, 6448516329, 6448516330, 1326686372], [419070341, 419070672, 419070457, 6795214368, 419075056, 5882748592, 6795214362, 419074988, 6724834374, 6724834380, 419075365, 6795214336, 6795214320, 6795214325, 6795214343, 4846921540, 419074704, 1147387330, 6860789686, 419074870, 6805745156, 419073593, 6860789687, 419073809, 4400925134, 6805745155, 5882819654, 419073964, 419073973, 6389528615, 5882819618, 6802388836, 5882748959, 419072889, 6860946353, 6802388837, 419073180, 6883634583, 3326635583, 419073413, 419078126, 1337853148, 419078088, 419077955, 419077877, 419077827, 419077779, 6725674478, 419077608, 419077767, 419077256, 419077355, 1320089162, 419077119, 6835186965, 419076864, 6835186964, 419076473, 419076185, 419075948, 419076074, 419076131, 3218901510, 419075893, 1326686452, 6448516320, 419075753, 1326745914, 419080258, 1326746019], [419070341, 6397229687, 419070292, 6397229691, 1082199119, 6900631349, 1082199085, 6900594411, 1082199051, 1289123558, 1289123553, 5792122387, 5792122386, 419072009, 6869576493, 419071497, 6389528571, 419071702, 6397208650, 419072541, 419072629, 1130866178, 419072666, 5883018917, 419072640, 419071693, 419071776, 4280606764, 419071152, 419070708, 5882667014, 419070778, 419070709, 3807990750, 419070970, 419070923, 419071815, 419070756, 1399783308], [419070341, 6397229687, 419070292, 6397229691, 1082199119, 6900631349, 1082199085, 6900594411, 1082199051, 1289123558, 1289123553, 5792122387, 5792122386, 419072009, 6869576493, 419071497, 6389528571, 419071702, 6397208650, 419072541, 419072629, 1130866178, 419072666, 5883018917, 419072640, 419071693, 419071776, 4280606764, 419071152, 419070708, 5882667014, 419070778, 419070709, 3807990750, 419070970, 419070923, 419071815, 1399783495], [419070341, 419070672, 419070457, 6795214368, 419075056, 6795214376, 419070409, 4763850534, 5703393707, 5703393702, 1401281048], [419070341, 6397229687, 419070292, 6397229690, 1082199031, 419071244, 6900594410, 6900631348, 419070755, 419070992, 419071849, 1289135460, 5792122389, 5792122388, 419071953, 1082199100, 3771382865, 419071399, 1278904904, 1278904916, 419071531, 1278905005, 419071479, 419072528, 419071704, 1278894363, 1278894369, 3660757204, 419072680, 419072146, 419072207, 2068640284, 419068603, 4061333846, 419068430, 419067665, 2068629240, 419067549, 419067598, 1291600701, 1291597517, 419067790, 1291553858, 419067760, 5718423224, 5718423222, 5718423225, 5718423226, 5718423227, 1291553856, 419067719, 5718423228, 5718423229, 4551106677], [419070341, 6397229687, 419070292, 6397229691, 1082199119, 6900631349, 1082199085, 6900594411, 1082199051, 1289123558, 1289123553, 5792122387, 5792122386, 419072009, 1082199062, 6794578325, 419071676, 6795052439, 419072672, 419072134, 419072113, 1278905037, 7305948624, 7305948633, 419068344, 419068081, 419068226, 7305948629, 7305948628, 7305948627, 7305948630, 7305948626, 419068536, 419067755, 4061333627, 419067597, 419067952, 419067943, 419067988, 419068001, 4769943560, 419068008, 6506257311, 419068050, 419067891, 419067927, 419069717, 419069676, 419069539, 419069515, 419069438, 419069399, 419069376, 419070051, 419070020, 419069932, 5756803695, 5756803694, 419069971, 419069871, 419069835, 419069804, 7305948663, 2879027039, 7305948664, 7305948665, 6350202127, 419069775, 6350202122, 419069001, 6350202124, 4682991839], [419070341, 6397229687, 419070292, 6397229691, 1082199119, 6900631349, 1082199085, 6900594411, 1082199051, 1289123558, 1289123553, 5792122387, 5792122386, 419072009, 1082199062, 6794578325, 419071676, 6795052439, 419072672, 419072134, 419072113, 1278905037, 7305948624, 7305948633, 419068344, 419068081, 419068226, 7305948629, 7305948628, 7305948627, 7305948630, 7305948626, 419068536, 419067755, 4061333627, 419067597, 419067952, 419067943, 419067988, 419068001, 4769943560, 419068008, 6506257311, 419068050, 419067891, 419067927, 419069717, 419069676, 419069539, 419069515, 419069438, 419069399, 419069376, 419070051, 419070020, 419069932, 5756803695, 5756803694, 419069971, 419069871, 419069835, 419069804, 6350202126, 6350202125, 6350202120, 6350202123, 5879496459, 6350202119, 5879496458, 6350202098, 6350202102, 5879496457, 5879496465, 6350202105, 5879496456, 5879496450, 6350081828, 5879496455, 6350141337, 4682991991], [419070341, 6397229687, 419070292, 6869552370, 419070215, 1082199132, 5627105327, 6900631352, 419070597, 6397229706, 419070620, 6900631353, 5306375033, 6389589547, 5627105331, 5627105332, 5627105333, 599446096, 6389589550, 1112947301, 6389528551, 419071090, 419071308, 3432054257, 419070796, 1112947343, 1112947344, 1269978072, 1112947369, 1293164800, 5703185431, 1112947333, 419072051, 6389603972, 419071411, 6389603967, 419071529, 419071687, 560537372, 1112947345, 560537366, 419072779, 419072168, 419072254, 7404374460, 6779143820, 419072506, 419072445, 6572507567, 419068292, 6572507569, 419068284, 6572507568, 419068277, 419068285, 3530607789, 5703088852, 419072442, 419068369, 419068611, 419068564, 1282916705, 1282916702, 419068660, 1282916704, 419067712, 419067728, 419067708, 4880357030], [419070341, 6397229687, 419070292, 6397229690, 1082199031, 419071244, 6900594410, 6900631348, 419070755, 419070992, 419071849, 1289135460, 5792122389, 5792122388, 419071953, 1082199100, 3771382865, 419071399, 1278904904, 1278904916, 419071531, 1278905005, 419071479, 419072528, 419071704, 1278894363, 1278894369, 3660757204, 419072680, 419072146, 419072207, 2068640284, 419068603, 4061333846, 419068430, 419067665, 2068629240, 419067549, 419067598, 1291600701, 7305948655, 7305948654, 1291600703, 5031592319], [419070341, 6397229687, 419070292, 6397229691, 1082199119, 6900631349, 1082199085, 6900594411, 1082199051, 1289123558, 1289123553, 5792122387, 5792122386, 419072009, 1082199062, 6794578325, 419071676, 6795052439, 419072672, 419072134, 419072113, 1278905037, 7305948624, 7305948633, 419068344, 419068081, 419068226, 7305948629, 7305948628, 7305948627, 7305948630, 7305948626, 419068536, 419067755, 4061333627, 419067597, 419067952, 419067943, 419067988, 419068001, 4769943560, 419068008, 6506257311, 419068050, 419067891, 419067927, 419069717, 419069676, 419069539, 419069515, 419069438, 419069399, 419069376, 419070051, 419070020, 419069932, 5756803695, 5756803694, 419069971, 419069871, 419069835, 419069804, 6350202126, 6350202175], [1707215098, 1707215070, 419059755, 1707215404, 2703925029, 1707215325, 6379654396, 419059817, 1038130902, 1207492831], [1707215098, 1707215070, 419059755, 1707215404, 2703925029, 1707215325, 6379654396, 419059817, 1707215142, 6379653881, 419059770, 6795878632, 3506732988, 6379654392, 1038130880, 3718759721, 419059255, 1711642697, 1805185199, 419059281, 3718760927, 3475228559, 2933162600, 6379654670, 419059172, 6379654672, 2211013902, 2211013904, 3483566535, 419061698, 3483566537, 419062262, 1707097453, 419062317, 419062074, 3475276327, 6379654680, 419062498, 6379654683, 3832095259, 2873374094, 1341282145, 419062883, 1341282294, 1147410631, 1147409937, 5884170322, 419060246, 3261449241, 3506716352, 5321769213, 419060208, 419060612, 6350751404, 3470812709, 3470812710, 3470812711, 419060443, 6350751397, 419060995, 3174193618, 549266961, 419060823, 3801124425, 3801103128, 2937604950, 3233980044, 419061252, 419064055, 6350751240, 419064156, 6350751239, 2085893966, 6294891495, 419064379, 3590399016, 6294891494, 6294887875, 419064913, 419065077, 419062979, 419062891, 1574278151, 6537095510, 419063226, 6350751185, 1574278185, 1543811433, 1543811435, 1574278216, 1543811453, 1574278221, 3675838165, 419063400, 3675849485, 3675849487, 6537095486, 1557973417, 1539089825, 1557973421, 3675849488, 1658878193, 6350908298, 419063840, 1658878064, 6537095492, 419063771, 1273109286], [1707215098, 1707215070, 419059755, 1707215404, 2703925029, 1707215325, 6379654396, 419059817, 1707215142, 6379653881, 419059770, 6795878632, 3506732988, 6379654392, 1038130880, 3718759721, 419059255, 1711642697, 1805185199, 419059281, 3718760927, 3475228559, 2933162600, 6379654670, 419059172, 6379654672, 2211013902, 2211013904, 3483566535, 419061698, 3483566537, 419062262, 1707097453, 419062317, 419062074, 3475276327, 6379654680, 419062498, 6379654683, 3832095259, 2873374094, 1341282145, 419062883, 1341282294, 1147410631, 1147409937, 5884170322, 419060246, 3261449241, 3506716352, 5321769213, 419060208, 419060612, 6350751404, 3470812709, 3470812710, 3470812711, 419060443, 6350751397, 419060995, 3174193618, 549266961, 419060823, 3801124425, 3801103128, 2937604950, 3233980044, 419061252, 419064055, 6350751240, 419064156, 6350751239, 2085893966, 6294891495, 419064379, 3590399016, 6294891494, 6294887875, 419064913, 419065077, 419062979, 419062891, 1574278151, 6537095510, 419063226, 6350940085, 1546739667, 1546739673, 1539089817, 2351271701, 419063662, 419063664, 419063625, 3755429105, 6350751482, 419063723, 6350751063, 3755424173, 419066902, 419066955, 419066705, 7083850133, 419066559, 6350751058, 1798276710, 1798276784, 1798276713, 419067409, 6350751219, 1797372910, 3118199317, 1797372954, 419066498, 419066507, 1656244775, 4423260377, 2093728492, 1656246848, 1656246843, 1656246847, 1656246851, 1656246867, 1656246873, 1656246901, 1656246839, 1656246853, 5300910035, 419066533, 1656244741, 5300909956, 419066416, 419066514, 419066489, 419066474, 419066460, 1655827590, 1655827305, 419067418, 1655827396, 1656239201, 1655827665, 1655827875, 419067446, 1656244694, 5300909000, 419067487, 1314006013], [1707215098, 1707215070, 419059755, 1707215336, 1707215285, 419059597, 1784399991, 419059386, 419059433, 419059418, 419059314, 1764798107, 3261404587, 419059112, 1707459042, 1707459033, 1764798119, 3718755931, 3718755934, 419061929, 1711642786, 6379654660, 419061987, 3718755943, 3718755946, 4769857824, 2941706447, 3776164436, 419062194, 4175509319, 1778280258, 1557048107, 419062101, 3733977947, 5286588080, 419062565, 1345581498, 419062389, 5286589990, 3733977952, 3733977958, 5306494045, 419062788, 3733977961, 3733977969, 1341282177], [1707215098, 1707215076, 1707215409, 419057662, 419057631, 1359682509, 5626903489, 1711693719, 1359682541], [1707215098, 1707215076, 1707215409, 419057662, 419057631, 1359682509, 5626903489, 5626903490, 5626903491, 5626903492, 5626903493, 5626903494, 5626903495, 1359682572], [1707215098, 1707215070, 419059755, 1707215404, 2703925029, 1707215325, 6379654396, 419059817, 1707215142, 6379653881, 419059770, 6795878632, 3506732988, 6379654392, 1038130880, 3718759721, 419059255, 1711642697, 1805185199, 419059281, 3718760927, 3475228559, 2933162600, 6379654670, 419059172, 6379654672, 2211013902, 2211013904, 3483566535, 419061698, 3483566537, 419062262, 1707097453, 419062317, 419062074, 3475276327, 6379654680, 419062498, 6379654683, 3832095259, 2873374094, 1341282145, 419062883, 1341282294, 1147410631, 1147409937, 5884170322, 419060246, 3261449241, 3506716352, 5321769213, 419060208, 419060612, 6350751404, 3470812709, 3470812710, 3470812711, 419060443, 6350751397, 419060995, 3174193618, 549266961, 419060823, 3801124425, 3801103128, 2937604950, 3233980044, 419061252, 419064055, 6350751240, 419064156, 6350751239, 2085893966, 6294891495, 419064379, 3590399016, 6294891494, 6294887875, 419064913, 419065077, 419062979, 419062891, 419062896, 6537095511, 419063227, 6537095509, 6350751189, 1359688740], [1707215098, 1707215076, 1707215409, 419057662, 419057631, 1359682509, 5626903489, 1711693719, 1711693709, 5626903504, 419058336, 1778280281, 6379654402, 419058395, 419058665, 3850932623, 3844385391, 1121861750, 1121861657, 419058933, 3362989807, 3362989801, 3362989800, 3362989792, 3362989773, 3362989747, 3362989733, 3362989721, 3362989710, 3362989693, 3362989679, 3362989669, 3362989667, 3362989661, 3362989656, 3362989649, 3362989641, 3362989638, 3362989633, 3362989629, 3362989613, 3362989432, 3844499498, 3844499495, 3844499492, 5630340087, 3782296008, 3094134315, 419056941, 419057009, 3362989456, 419057108, 3362989461, 419057079, 3362989467, 1256508503, 419057081, 3362989479, 419057084, 3362989478, 3362989477, 419057087, 419057072, 419057099, 3063886963, 1359721126, 5625571148, 419057107, 6693603364, 1388688857, 419056993, 1710255195, 1779460586, 1267552969, 419057022, 1710255257, 3934629505, 5306532644, 419057030, 419057054, 5625571164, 3938131622, 3844466678, 1782335498, 4476064374, 1889358198, 1706267949, 419056935, 419056939, 3433911869, 1782341455, 419056994, 5811557245, 419056973, 1341009091, 1341009083, 1341009070, 1341009077, 1341009079, 1341009086, 1341009087, 419057407, 419057414, 1371263129], [1707215098, 1707215070, 419059755, 1707215336, 1707215285, 419059597, 1784399991, 419059386, 419059433, 419059418, 419059314, 1764798107, 3261404587, 419059112, 1707459042, 1707459033, 1764798119, 3718755931, 3718755934, 419061929, 3718755944, 3718755947, 1711642752, 6379653843, 419061829, 419061857, 6379653832, 3718755953, 1711642775, 419062279, 1711642796, 6379654661, 419062332, 1711642748, 1038116961, 1038116970, 419062093, 6379654691, 3776163061, 419062602, 419062461, 419062766, 5286599728, 419062639, 5257543959, 3195253062, 419062714, 419060376, 6744519474, 419060620, 419060508, 6399507804, 419060900, 1706043587, 419060821, 1706043693, 419060771, 419061552, 419061450, 419061364, 419061338, 419061351, 419061320, 419061243, 419061227, 419061196, 419061165, 564922625, 3718745050, 3718745051, 564922623, 1130760554, 3401442939, 3401442940, 419064038, 6450268623, 419064080, 419064236, 3401442197, 3401442198, 3401442199, 419064221, 3755485495, 419064229, 419064155, 419064102, 419064110, 1837729104, 419064111, 6450206011, 1705401362, 419064304, 419064341, 419064537, 6450165266, 1798217863, 419064692, 4466364011, 6382846226, 3667576587, 3667576588, 4466364018, 4466364019, 419065041, 6282726462, 6282726463, 5318072339, 4778657142, 419063134, 4778647854, 419063229, 4778657138, 4778631739, 419063219, 419063262, 419063075, 1381478804], [1707215098, 1707215070, 419059755, 1707215404, 2703925029, 1707215325, 6379654396, 419059817, 1038130902, 2941749541, 6379653880, 419059766, 1349171789, 1707215320, 3475212063, 2941762411, 419059393, 6379654393, 1038130872, 2941762414, 3475228556, 3718759719, 419059234, 1711642756, 1805185198, 419059256, 3718760925, 6379654671, 419059157, 6379654673, 3483566534, 419061716, 3483566536, 419062252, 3475276325, 419062333, 1408694637, 3832095257, 6379654681, 419062546, 6379654684, 1417377789, 1341282260, 419062763, 1341282180, 1147410537, 1147410097, 3506716351, 3261449237, 419060368, 3261449240, 419060191, 7118065122, 419060707, 3229765112, 3229827965, 7141605879, 6350751410, 419060255, 6350751409, 7141618546, 7141677086, 3475317874, 6350751414, 419060225, 3475317875, 6852634026, 1589963485, 416334375, 1589963549, 3475323441, 419061030, 4173434805, 419060865, 3710974586, 7260879158, 419061492, 6350751394, 3710174183, 3710174195, 3710974590, 419061247, 3472635057, 6537183992, 419064006, 6537183993, 3033366194, 3030364160, 1382939376], [1707215098, 1707215070, 419059755, 1707215336, 1707215285, 419059597, 1784399991, 419059386, 419059433, 419059418, 419059314, 1764798107, 3261404587, 419059112, 1707459042, 1707459033, 1764798119, 3718755931, 3718755934, 419061929, 3718755944, 3718755947, 1711642752, 6379653843, 419061829, 419061857, 6379653832, 3718755953, 1711642775, 419062279, 1711642796, 6379654661, 419062332, 1711642748, 1038116961, 1038116970, 419062093, 6379654691, 3776163061, 419062602, 419062461, 419062766, 5286599728, 419062639, 5257543959, 3195253062, 419062714, 419060376, 6744519474, 419060620, 419060508, 6399507804, 419060900, 1706043587, 419060821, 1706043693, 419060771, 419061552, 419061450, 419061364, 419061338, 419061351, 419061320, 419061243, 419061227, 419061196, 419061165, 419061126, 3177671269, 1038130879, 3762227637, 3762227636, 419061138, 3177671268, 419061139, 419061140, 419061128, 6537167095, 419061118, 3506711656, 419063993, 1305333853, 5306489935, 3748437886, 3748437892, 419064183, 1400846905, 1085494489, 1649190678, 1649190750, 1707395663, 1649190699, 419064271, 1707395509, 6546786897, 1384815141], [1707215098, 1707215070, 419059755, 1707215336, 1707215285, 419059597, 1784399991, 419059386, 419059433, 419059418, 419059314, 1764798107, 3261404587, 419059112, 1707459042, 1707459033, 1764798119, 3718755931, 3718755934, 419061929, 3718755944, 3718755947, 1711642752, 6379653843, 419061829, 419061857, 6379653832, 3718755953, 1711642775, 419062279, 1711642796, 6379654661, 419062332, 1711642748, 1038116961, 1038116970, 419062093, 6379654691, 3776163061, 419062602, 419062461, 419062766, 5286599728, 419062639, 5257543959, 3195253062, 419062714, 419060376, 6744519474, 419060620, 419060508, 6399507804, 419060900, 1706043587, 419060821, 1706043693, 419060771, 419061552, 419061450, 419061364, 419061338, 419061351, 419061320, 419061243, 419061227, 419061196, 419061165, 564922625, 3718745050, 3718745051, 564922623, 1130760554, 3401442939, 3401442940, 419064038, 6450268623, 419064080, 419064236, 3401442197, 3401442198, 3401442199, 419064221, 6450268647, 1706043627, 419064322, 419064355, 419064370, 6450268656, 1706043738, 419064384, 2365421303, 419064466, 1705401323, 1706043724, 1705401305, 1705401324, 1536407318, 1536407327, 1536407329, 6450268662, 6450268663, 419064693, 3812631750, 5517305949, 1706043752, 3812643486, 3812643487, 419065061, 419065086, 3812643489, 419063009, 419062923, 419063052, 419063062, 419063233, 419063282, 419063215, 419063366, 5477202718, 5477202719, 6382907841, 419063531, 419063516, 1632589023, 2019578992, 419063480, 3206975518, 3206975519, 3312808790, 1121861595, 1121861573, 419063780, 419063851, 419066716, 419066704, 3536187052, 419066646, 3787150357, 3787150363, 3536172876, 419067441, 3536178175, 419067348, 419067218, 419067003, 1246788954, 419065514, 3562662396, 3562660403, 419065398, 6363366660, 419065179, 419066226, 1244731550, 1244731533, 419066087, 419065943, 3333767439, 419065792, 419065724, 419069186, 4093706160, 874449429, 1632589090, 1632589089, 419069370, 1394487277], [1707215098, 1707215076, 1707215409, 419057662, 419057631, 1359682509, 5626903489, 1711693719, 1711693709, 5626903504, 419058336, 1778280281, 6379654402, 419058395, 419058665, 3850932623, 3844385391, 1121861750, 1121861657, 419058933, 3362989807, 3362989801, 3362989800, 3362989792, 3362989763, 3362989752, 3755939312, 3362989728, 3362989714, 3844230622, 3362989705, 3362989699, 3850894735, 3362989689, 3362989677, 3362989665, 3362989660, 3362989655, 3362989650, 3362989644, 3362989639, 3362989636, 3362989631, 3362989627, 3362989611, 5712053431, 3362989430, 3844233348, 5712053438, 3362989409, 3844478051, 7134859604, 419056974, 3362989387, 2262604120, 3097102092, 3362989345, 3362989332, 1782795343, 1782795271, 1782795338, 419057310, 419057140, 419055252, 1269961572, 419055287, 419055597, 1442497775, 3387482546, 1345984833, 1442497752, 1348100596, 1345984808, 1782359376, 419055932, 1442497749, 1779460651, 1341022214, 1782360087, 1345992499, 1782360089, 1345992468, 419055698, 419055728, 2262603949, 2262603948, 419055762, 5799795523, 5774732066, 5774732084, 5774732064, 419056079, 419056074, 419056094, 3323382368, 347711631, 3323382366, 3323382365, 1371203614, 3242674837, 1145509084, 3323369499, 627337851, 3323360183, 1972437849, 419053920, 1145508846, 1077755114, 419053262, 419054704, 1145509114, 3323334963, 419054619, 3323334962, 419054944, 3323325156, 3323325155, 1145509527, 5706750653, 5706750650, 5706750651, 419054759, 1132082351, 2542657786, 5706528368, 419054238, 3511958493, 5706487331, 559726158, 1145509368, 419054407, 419054332, 419054328, 1145509533, 419052331, 3363186032, 3512623074, 419052491, 419052549, 419052548, 419051868, 1121861662, 3512620214, 419051953, 3455114689, 419052135, 419052267, 3858229240, 3455118684, 419053010, 3455118682, 419053086, 419053059, 1607801425, 1607801260, 1615530704, 1615530689, 1615530708, 419053116, 1615530694, 419053110, 1615533966, 1615530710, 1611880290], [1707215098, 1707215070, 419059755, 1707215336, 1707215285, 419059597, 1784399991, 419059386, 419059433, 419059418, 419059314, 1764798107, 3261404587, 419059112, 1707459042, 1707459033, 1764798119, 3718755931, 3718755934, 419061929, 3718755944, 3718755947, 1711642752, 6379653843, 419061829, 419061857, 6379653832, 3718755953, 1711642775, 419062279, 1711642796, 6379654661, 419062332, 1711642748, 1038116961, 1038116970, 419062093, 6379654691, 3776163061, 419062602, 419062461, 419062766, 5286599728, 419062639, 5257543959, 3195253062, 419062714, 419060376, 6744519474, 419060620, 419060508, 6399507804, 419060900, 1706043587, 419060821, 1706043693, 419060771, 419061552, 419061450, 419061364, 419061338, 419061351, 419061320, 419061243, 419061227, 419061196, 419061165, 564922625, 3718745050, 3718745051, 564922623, 1130760554, 3401442939, 3401442940, 419064038, 6450268623, 419064080, 419064236, 3401442197, 3401442198, 3401442199, 419064221, 3755485495, 419064229, 419064155, 419064102, 419064110, 1837729104, 419064111, 6450206011, 1705401362, 419064304, 419064341, 419064537, 1707535704, 1707535720], [1707215098, 1707215076, 1707215409, 419057662, 419057631, 1359682509, 5626903489, 1711693719, 1711693709, 5626903504, 419058336, 1778280281, 6379654402, 419058395, 419058665, 3850932623, 3844385391, 1121861750, 1121861657, 419058933, 3362989807, 3362989801, 3362989800, 3362989792, 3362989763, 3362989752, 3755939312, 3362989728, 3362989714, 3844230622, 3362989705, 3362989699, 3850894735, 3362989689, 3362989677, 3362989665, 3362989660, 3362989655, 3362989650, 3362989644, 3362989639, 3362989636, 3362989631, 3362989627, 3362989611, 5712053431, 3362989430, 3844233348, 5712053438, 3362989409, 3844478051, 7134859604, 419056974, 3362989387, 2262604120, 3097102092, 3362989345, 3362989332, 1782795343, 1782795271, 1782795338, 419057310, 419057313, 419057315, 419057309, 419057324, 419057318, 419057332, 1267552935, 1267552901, 419057280, 419057278, 419057389, 1267552905, 419057298, 1951391089], [1707215098, 1707215076, 1707215409, 419057662, 419057631, 1359682509, 5626903489, 1711693719, 1711693709, 5626903504, 419058336, 1778280281, 6379654402, 419058395, 419058665, 3850932623, 3844385391, 1121861750, 1121861657, 419058933, 3362989807, 3362989801, 3362989800, 3362989792, 3362989763, 3362989752, 3755939312, 3362989728, 3362989714, 3844230622, 3362989705, 3362989699, 3850894735, 3362989689, 3362989677, 3362989665, 3362989660, 3362989655, 3362989650, 3362989644, 3362989639, 3362989636, 3362989631, 3362989627, 3362989611, 5712053431, 3362989430, 3844233348, 5712053438, 3362989409, 3844478051, 7134859604, 419056974, 3362989387, 2262604120, 3097102092, 3362989345, 3362989332, 1782795343, 1782795271, 1782795338, 419057310, 419057140, 419055252, 1269961572, 419055287, 419055597, 1442497775, 3387482546, 1345984833, 1442497752, 1348100596, 1345984808, 1782359376, 419055932, 1442497749, 1779460651, 1341022214, 1782360087, 1345992499, 1782360089, 1345992468, 419055698, 419055728, 2262603949, 2262603948, 419055762, 5799795523, 5774732066, 5774732084, 5774732064, 419056079, 419056074, 419056094, 3323382368, 347711631, 419056120, 3323382367, 2113981932, 3881526421, 3242674840, 3242674838, 419056020, 1344841857, 6422648225, 419053864, 419053827, 419053644, 419053611, 419053551, 419053580, 419053811, 2552067336, 2552067334, 2552067343, 2552658659, 2552067341, 2552067339, 2552067332, 2552067345, 419053655, 2552067330, 419053658, 419053947, 2552658647, 419053331, 419053280, 419053468, 1361119589, 419053456, 6681856005, 6681856006, 6681856004, 6681856007, 6681856009, 6681856008, 6681856010, 6681856011, 2546744583, 6681856012, 6681856013, 419053427, 2546744604, 419053411, 2546744616, 2546744603, 419053391, 419054723, 419054561, 419054642, 419054665, 2546451515], [1707215098, 1707215076, 1707215409, 419057662, 419057631, 1359682509, 5626903489, 1711693719, 1711693709, 5626903504, 419058336, 1778280281, 6379654402, 419058395, 419058665, 3850932623, 3844385391, 1121861750, 1121861657, 419058933, 3362989807, 3362989801, 3362989800, 3362989792, 3362989763, 3362989752, 3755939312, 3362989728, 3362989714, 3844230622, 3362989705, 3362989699, 3850894735, 3362989689, 3362989677, 3362989665, 3362989660, 3362989655, 3362989650, 3362989644, 3362989639, 3362989636, 3362989631, 3362989627, 3362989611, 5712053431, 3362989430, 3844233348, 5712053438, 3362989409, 3844478051, 7134859604, 419056974, 3362989387, 2262604120, 3097102092, 3362989345, 3362989332, 1782795343, 1782795271, 1782795338, 419057310, 419057140, 419055252, 1269961572, 419055287, 419055597, 1442497775, 3387482546, 1345984833, 1442497752, 1348100596, 1345984808, 1782359376, 419055932, 1442497749, 1779460651, 1341022214, 1782360087, 1345992499, 1782360089, 1345992468, 419055698, 419055728, 2262603949, 2262603948, 419055762, 5799795523, 5774732066, 5774732084, 5774732064, 419056079, 419056074, 419056094, 3323382368, 347711631, 419056120, 3323382369, 7218008799, 419056115, 2582496959, 419056076, 2582488525, 2582488558, 2582488404, 2582488368, 2582488520, 2582488346, 2582488512, 2582488366, 2582488518, 2582488469, 2582488570, 2582488438, 2582488409, 2582488357, 2582488511, 1344841853, 419056177, 419056135, 419056136, 419055964, 419056185, 419056132, 2582517629, 2582517635, 2582517655, 2582517632, 1229605591, 1229605677, 1229605337, 1229605598, 1229605507, 1230499768, 1230499718, 1230499767, 1230499921, 1230500035, 1230499869, 1230499877, 1230499916, 1230499898, 1230500100, 1230500009, 1230500155, 1230500017, 419055799, 419055745, 419055758, 5623099497, 419055763, 1229605262, 419055704, 1229605735, 4174126913, 4382951821, 1229605310, 4382696085, 1229605300, 3059237585, 5523495214, 4628405628, 2019456098, 4922166507, 4121801827, 4121801824, 4870073173, 4121801821, 4870073175, 4383008399, 4121801817, 4887902932, 4121801818, 4121801819, 5519032745, 6664789319, 4578196819, 5020173427, 5020180872, 4887902933, 5519032731, 5522763244, 4887902943, 4887902944, 4887902937, 5522763239, 4887902936, 4887902942, 4608336627, 5519035589, 5522763245, 4870068228, 5522763252, 5522763249, 4608336628, 5522763250, 5308601296, 6267411090, 5809863499, 4985252866, 5519032730, 4985252863, 4985252864, 5020178751, 5020178747], [1707215098, 1707215076, 1707215409, 419057662, 419057631, 1359682509, 5626903489, 1711693719, 1711693709, 5626903504, 419058336, 1778280281, 6379654402, 419058395, 419058665, 3850932623, 3844385391, 1121861750, 1121861657, 419058933, 3362989807, 3362989801, 3362989800, 3362989792, 3362989763, 3362989752, 3755939312, 3362989728, 3362989714, 3844230622, 3362989705, 3362989699, 3850894735, 3362989689, 3362989677, 3362989665, 3362989660, 3362989655, 3362989650, 3362989644, 3362989639, 3362989636, 3362989631, 3362989627, 3362989611, 5712053431, 3362989430, 3844233348, 5712053438, 3362989409, 3844478051, 7134859604, 419056974, 3362989387, 2262604120, 3097102092, 3362989345, 3362989332, 1782795343, 1782795271, 1782795338, 419057310, 419057140, 419055252, 1269961572, 419055287, 419055597, 1442497775, 3387482546, 1345984833, 1442497752, 1348100596, 1345984808, 1782359376, 419055932, 1442497749, 1779460651, 1341022214, 1782360087, 1345992499, 1782360089, 1345992468, 419055698, 419055728, 2262603949, 2262603948, 419055762, 5799795523, 5774732066, 5774732084, 5774732064, 419056079, 419056074, 419056094, 3323382368, 347711631, 419056120, 3323382369, 7218008799, 419056115, 2582496959, 419056076, 2582488525, 2582488558, 2582488404, 2582488368, 2582488520, 2582488346, 2582488512, 2582488366, 2582488518, 2582488469, 2582488570, 2582488438, 2582488409, 2582488357, 2582488511, 1344841853, 419056177, 419056135, 419056136, 419055964, 419056185, 419056132, 2582517629, 2582517635, 2582517655, 2582517632, 1229605591, 1229605677, 1229605337, 1229605598, 1229605507, 1230499768, 1230499718, 1230499767, 1230499921, 1230500035, 1230499869, 1230499877, 1230499916, 1230499898, 1230500100, 1230500009, 1230500155, 1230500017, 419055799, 419055745, 419055758, 5623099497, 419055763, 1229605262, 419055704, 1229605735, 4174126913, 4382951821, 1229605310, 4382696085, 1229605300, 3059237585, 5523495214, 4628405628, 2019456098, 4922166507, 4121801827, 4121801824, 4870073173, 4121801821, 4870073175, 4383008399, 4121801817, 4887902932, 4121801818, 4121801819, 5519032745, 6664789319, 4578196819, 5020173427, 5020180872, 4887902933, 5519032731, 5522763244, 4887902943, 4887902944, 4887902937, 5522763239, 4887902936, 4887902942, 4608336627, 5519035589, 5522763245, 4870068228, 5522763252, 5522763249, 4608336628, 5522763250, 5308601296, 6267411090, 5809863499, 4985252866, 5519032730, 4985252863, 4985252864, 5020178751], [1707215098, 1707215076, 1707215409, 419057662, 419057631, 1359682509, 5626903489, 1711693719, 1711693709, 5626903504, 419058336, 1778280281, 6379654402, 419058395, 419058665, 3850932623, 3844385391, 1121861750, 1121861657, 419058933, 3362989807, 3362989801, 3362989800, 3362989792, 3362989763, 3362989752, 3755939312, 3362989728, 3362989714, 3844230622, 3362989705, 3362989699, 3850894735, 3362989689, 3362989677, 3362989665, 3362989660, 3362989655, 3362989650, 3362989644, 3362989639, 3362989636, 3362989631, 3362989627, 3362989611, 5712053431, 3362989430, 3844233348, 5712053438, 3362989409, 3844478051, 7134859604, 419056974, 3362989387, 2262604120, 3097102092, 3362989345, 3362989332, 1782795343, 1782795271, 1782795338, 419057310, 419057140, 419055252, 1269961572, 419055287, 419055597, 1442497775, 3387482546, 1345984833, 1442497752, 1348100596, 1345984808, 1782359376, 419055932, 1442497749, 1779460651, 1341022214, 1782360087, 1345992499, 1782360089, 1345992468, 419055698, 419055728, 2262603949, 2262603948, 419055762, 5799795523, 5774732066, 5774732084, 5774732064, 419056079, 419056074, 419056094, 3323382368, 347711631, 419056120, 3323382369, 7218008799, 419056115, 2582496959, 419056076, 2582488525, 2582488558, 2582488404, 2582488368, 2582488520, 2582488346, 2582488512, 2582488366, 2582488518, 2582488469, 2582488570, 2582488438, 2582488409, 2582488357, 2582488511, 1344841853, 419056177, 419056135, 419056136, 419055964, 419056185, 419056132, 2582517629, 2582517635, 2582517655, 2582517632, 1229605591, 1229605677, 1229605337, 1229605598, 1229605507, 1230499768, 1230499718, 1230499767, 1230499921, 1230500035, 1230499869, 1230499877, 1230499916, 1230499898, 1230500100, 1230500009, 1230500155, 1230500017, 419055799, 419055745, 419055758, 5623099497, 419055763, 1229605262, 419055704, 1229605735, 4174126913, 4382951821, 1229605310, 4382696085, 1229605300, 3059237585, 5523495214, 4628405628, 2019456098, 4922166507, 4121801827, 4121801824, 4870073173, 4121801821, 4870073175, 4383008399, 4121801817, 4887902932, 4121801818, 4121801819, 5519032745, 6664789319, 4578196819, 5020173427, 5020180872, 4887902933, 5519032731, 5522763244, 4887902943, 4887902944, 4887902937, 5522763239, 4887902936, 4887902942, 4608336627, 5519035589, 5522763245, 4870068228, 5522763252, 5522763249, 4608336628, 5522763250, 5308601296, 6267411090, 5809863499, 4985252866, 5519032730, 4985252863, 4985252864, 5020178751, 5020178759], [1707215098, 1707215076, 1707215409, 419057662, 419057631, 1359682509, 5626903489, 1711693719, 1711693709, 5626903504, 419058336, 1778280281, 6379654402, 419058395, 419058665, 3850932623, 3844385391, 1121861750, 1121861657, 419058933, 3362989807, 3362989801, 3362989800, 3362989792, 3362989763, 3362989752, 3755939312, 3362989728, 3362989714, 3844230622, 3362989705, 3362989699, 3850894735, 3362989689, 3362989677, 3362989665, 3362989660, 3362989655, 3362989650, 3362989644, 3362989639, 3362989636, 3362989631, 3362989627, 3362989611, 5712053431, 3362989430, 3844233348, 5712053438, 3362989409, 3844478051, 7134859604, 419056974, 3362989387, 2262604120, 3097102092, 3362989345, 3362989332, 1782795343, 1782795271, 1782795338, 419057310, 419057140, 419055252, 1269961572, 419055287, 419055597, 1442497775, 3387482546, 1345984833, 1442497752, 1348100596, 1345984808, 1782359376, 419055932, 1442497749, 1779460651, 1341022214, 1782360087, 1345992499, 1782360089, 1345992468, 419055698, 419055728, 2262603949, 2262603948, 419055762, 5799795523, 5774732066, 5774732084, 5774732064, 419056079, 419056074, 419056094, 3323382368, 347711631, 419056120, 3323382369, 7218008799, 419056115, 2582496959, 419056076, 2582488525, 2582488558, 2582488404, 2582488368, 2582488520, 2582488346, 2582488512, 2582488366, 2582488518, 2582488469, 2582488570, 2582488438, 2582488409, 2582488357, 2582488511, 1344841853, 419056177, 419056135, 419056136, 419055964, 419056185, 419056132, 2582517629, 2582517635, 2582517655, 2582517632, 1229605591, 1229605677, 1229605337, 1229605598, 1229605507, 1230499768, 1230499718, 1230499767, 1230499921, 1230500035, 1230499869, 1230499877, 1230499916, 1230499898, 1230500100, 1230500009, 1230500155, 1230500017, 419055799, 419055745, 419055758, 5623099497, 419055763, 1229605262, 419055704, 1229605735, 4174126913, 4382951821, 1229605310, 4382696085, 1229605300, 3059237585, 5523495214, 4628405628, 2019456098, 4036077444, 4230612053, 5870667987, 5020173428, 4230612057, 6267365456, 5222142950, 4628405627, 5308930875, 5503191825, 5308930859], [1707215098, 1707215076, 1707215409, 419057662, 419057631, 1359682509, 5626903489, 1711693719, 1711693709, 5626903504, 419058336, 1778280281, 6379654402, 419058395, 419058665, 3850932623, 3844385391, 1121861750, 1121861657, 419058933, 3362989807, 3362989801, 3362989800, 3362989792, 3362989763, 3362989752, 3755939312, 3362989728, 3362989714, 3844230622, 3362989705, 3362989699, 3850894735, 3362989689, 3362989677, 3362989665, 3362989660, 3362989655, 3362989650, 3362989644, 3362989639, 3362989636, 3362989631, 3362989627, 3362989611, 5712053431, 3362989430, 3844233348, 5712053438, 3362989409, 3844478051, 7134859604, 419056974, 3362989387, 2262604120, 3097102092, 3362989345, 3362989332, 1782795343, 1782795271, 1782795338, 419057310, 419057140, 419055252, 1269961572, 419055287, 419055597, 1442497775, 3387482546, 1345984833, 1442497752, 1348100596, 1345984808, 1782359376, 419055932, 1442497749, 1779460651, 1341022214, 1782360087, 1345992499, 1782360089, 1345992468, 419055698, 419055728, 2262603949, 2262603948, 419055762, 5799795523, 5774732066, 5774732084, 5774732064, 419056079, 419056074, 419056094, 3323382368, 347711631, 419056120, 3323382369, 7218008799, 419056115, 2582496959, 419056076, 2582488525, 2582488558, 2582488404, 2582488368, 2582488520, 2582488346, 2582488512, 2582488366, 2582488518, 2582488469, 2582488570, 2582488438, 2582488409, 2582488357, 2582488511, 1344841853, 419056177, 419056135, 419056136, 419055964, 419056185, 419056132, 2582517629, 2582517635, 2582517655, 2582517632, 1229605591, 1229605677, 1229605337, 1229605598, 1229605507, 1230499768, 1230499718, 1230499767, 1230499921, 1230500035, 1230499869, 1230499877, 1230499916, 1230499898, 1230500100, 1230500009, 1230500155, 1230500017, 419055799, 419055745, 419055758, 5623099497, 419055763, 1229605262, 419055704, 1229605735, 4174126913, 4382951821, 1229605310, 4382696085, 1229605300, 3059237585, 5523495214, 4628405628, 2019456098, 4036077444, 4230612053, 5870667987, 5020173428, 4230612057, 6267365456, 5222142950, 4628405627, 5308930875], [1707215098, 1707215076, 1707215409, 419057662, 419057631, 1359682509, 5626903489, 1711693719, 1711693709, 5626903504, 419058336, 1778280281, 6379654402, 419058395, 419058665, 3850932623, 3844385391, 1121861750, 1121861657, 419058933, 3362989807, 3362989801, 3362989800, 3362989792, 3362989763, 3362989752, 3755939312, 3362989728, 3362989714, 3844230622, 3362989705, 3362989699, 3850894735, 3362989689, 3362989677, 3362989665, 3362989660, 3362989655, 3362989650, 3362989644, 3362989639, 3362989636, 3362989631, 3362989627, 3362989611, 5712053431, 3362989430, 3844233348, 5712053438, 3362989409, 3844478051, 7134859604, 419056974, 3362989387, 2262604120, 3097102092, 3362989345, 3362989332, 1782795343, 1782795271, 1782795338, 419057310, 419057140, 419055252, 1269961572, 419055287, 419055597, 1442497775, 3387482546, 1345984833, 1442497752, 1348100596, 1345984808, 1782359376, 419055932, 1442497749, 1779460651, 1341022214, 1782360087, 1345992499, 1782360089, 1345992468, 419055698, 419055728, 2262603949, 2262603948, 419055762, 5799795523, 5774732066, 5774732084, 5774732064, 419056079, 419056074, 419056094, 3323382368, 347711631, 419056120, 3323382369, 7218008799, 419056115, 2582496959, 419056076, 2582488525, 2582488558, 2582488404, 2582488368, 2582488520, 2582488346, 2582488512, 2582488366, 2582488518, 2582488469, 2582488570, 2582488438, 2582488409, 2582488357, 2582488511, 1344841853, 419056177, 419056135, 419056136, 419055964, 419056185, 419056132, 2582517629, 2582517635, 2582517655, 2582517632, 1229605591, 1229605677, 1229605337, 1229605598, 1229605507, 1230499768, 1230499718, 1230499767, 1230499921, 1230500035, 1230499869, 1230499877, 1230499916, 1230499898, 1230500100, 1230500009, 1230500155, 1230500017, 419055799, 419055745, 419055758, 5623099497, 419055763, 1229605262, 419055704, 1229605735, 4174126913, 4382951821, 1229605310, 4382696085, 1229605300, 3059237585, 5523495214, 4628405628, 2019456098, 4036077444, 4230612053, 5870667987, 5020173428, 4230612057, 6267365456, 5222142950, 4628405627, 5308930875, 5503191825], [1707215098, 1707215076, 1707215409, 419057662, 419057631, 1359682509, 5626903489, 1711693719, 1711693709, 5626903504, 419058336, 1778280281, 6379654402, 419058395, 419058665, 3850932623, 3844385391, 1121861750, 1121861657, 419058933, 3362989807, 3362989801, 3362989800, 3362989792, 3362989773, 3362989747, 3362989733, 3362989721, 3362989710, 3362989693, 3362989679, 3362989669, 3362989667, 3362989661, 3362989656, 3362989649, 3362989641, 3362989638, 3362989633, 3362989629, 3362989613, 3362989432, 3844499498, 3844499495, 3844499492, 5630340087, 3782296008, 3094134315, 419056941, 419057009, 3362989456, 419057108, 3362989461, 419057079, 3362989467, 1256508503, 419057081, 3362989479, 419057084, 3362989478, 3362989477, 419057087, 419057072, 419057099, 3063886963, 1359721126, 5625571148, 419057107, 6693603364, 1388688857, 419056993, 1710255195, 1779460586, 1267552969, 419057022, 1710255257, 3934629505, 5306532644, 419057030, 419057054, 5625571164, 3938131622, 3844466678, 1782335498, 4476064374, 1889358198, 1706267949, 419056935, 419056939, 3433911869, 1782341455, 419056994, 419057006, 419057093, 419057090, 419057095, 3514146478, 4734726063, 419057116, 3058007260, 3058007262, 3058007265, 3058007266, 5789840238], [1707215098, 1707215070, 419059755, 1707215404, 2703925029, 1707215325, 6379654396, 419059817, 1707215142, 6379653881, 419059770, 6795878632, 3506732988, 6379654392, 1038130880, 3718759721, 419059255, 1711642697, 1805185199, 419059281, 3718760927, 3475228559, 2933162600, 6379654670, 419059172, 6379654672, 2211013902, 2211013904, 3483566535, 419061698, 3483566537, 419062262, 1707097453, 419062317, 419062074, 3475276327, 6379654680, 419062498, 6379654683, 3832095259, 2873374094, 1341282145, 419062883, 1341282294, 1147410631, 1147409937, 5884170322, 419060246, 3261449241, 3506716352, 5321769213, 419060208, 419060612, 6350751404, 3470812709, 3470812710, 3470812711, 419060443, 6350751397, 419060995, 3174193618, 549266961, 419060823, 3801124425, 3801103128, 2937604950, 3233980044, 419061252, 419064055, 6350751240, 419064156, 6350751239, 2085893966, 6294891495, 419064379, 3590399016, 6294891494, 6294887875, 419064913, 419065077, 419062979, 419062891, 1574278151, 6537095510, 419063226, 6350940085, 1546739667, 1546739673, 1539089817, 2351271701, 419063662, 419063664, 419063625, 3755429105, 6350751482, 419063723, 1484762817, 419063727, 419063726, 419063722, 6350751064, 5306451186, 6538256572, 6350751207, 419066883, 6350751203, 6350751204, 1656253786, 775567905, 775567762, 1656253770, 775567838, 1656253844, 775567682, 775567746, 775567591, 3351492701, 419063942, 3351492694, 6796065749, 2888467709, 6767208934, 6767208914], [1707215098, 1707215070, 419059755, 1707215404, 2703925029, 1707215325, 6379654396, 419059817, 1707215142, 6379653881, 419059770, 6795878632, 3506732988, 6379654392, 1038130880, 3718759721, 419059255, 1711642697, 1805185199, 419059281, 3718760927, 3475228559, 2933162600, 6379654670, 419059172, 6379654672, 2211013902, 2211013904, 3483566535, 419061698, 3483566537, 419062262, 1707097453, 419062317, 419062074, 3475276327, 6379654680, 419062498, 6379654683, 3832095259, 2873374094, 1341282145, 419062883, 1341282294, 1147410631, 1147409937, 5884170322, 419060246, 3261449241, 3506716352, 5321769213, 419060208, 419060612, 6350751404, 3470812709, 3470812710, 3470812711, 419060443, 6350751397, 419060995, 3174193618, 549266961, 419060823, 3801124425, 3801103128, 2937604950, 3233980044, 419061252, 419064055, 6350751240, 419064156, 6350751239, 2085893966, 6294891495, 419064379, 3590399016, 6294891494, 6294887875, 419064913, 419065077, 419062979, 419062891, 1574278151, 6537095510, 419063226, 6350940085, 1546739667, 1546739673, 1539089817, 2351271701, 419063662, 419063664, 419063625, 3755429105, 6350751482, 419063723, 1484762817, 419063727, 419063726, 419063722, 6350751064, 5306451186, 6538256572, 6350751207, 419066883, 6350751203, 6350751204, 1656253786, 775567905, 775567762, 1656253770, 775567838, 1656253844, 775567682, 775567746, 775567591, 3351492701, 419063942, 3351492694, 6796065749, 2888467709, 6767208934], [1707215098, 1707215070, 419059755, 1707215404, 2703925029, 1707215325, 6379654396, 419059817, 1707215142, 6379653881, 419059770, 6795878632, 3506732988, 6379654392, 1038130880, 3718759721, 419059255, 1711642697, 1805185199, 419059281, 3718760927, 3475228559, 2933162600, 6379654670, 419059172, 6379654672, 2211013902, 2211013904, 3483566535, 419061698, 3483566537, 419062262, 1707097453, 419062317, 419062074, 3475276327, 6379654680, 419062498, 6379654683, 3832095259, 2873374094, 1341282145, 419062883, 1341282294, 1147410631, 1147409937, 5884170322, 419060246, 3261449241, 3506716352, 5321769213, 419060208, 419060612, 6350751404, 3470812709, 3470812710, 3470812711, 419060443, 6350751397, 419060995, 3174193618, 549266961, 419060823, 3801124425, 3801103128, 2937604950, 3233980044, 419061252, 419064055, 6350751240, 419064156, 6350751239, 2085893966, 6294891495, 419064379, 3590399016, 6294891494, 6294887875, 419064913, 419065077, 419062979, 419062891, 1574278151, 6537095510, 419063226, 6350940085, 1546739667, 1546739673, 1539089817, 2351271701, 419063662, 419063664, 419063625, 3755429105, 6350751482, 419063723, 1484762817, 419063727, 419063726, 419063722, 6350751064, 5306451186, 6538256572, 6350751207, 419066883, 6350751203, 6350751204, 1656253786, 775567905, 775567762, 1656253770, 775567838, 1656253844, 775567682, 775567746, 775567591, 3351492701, 419063942, 3351492694, 6796065749, 2888467709, 6767208934, 6767208914, 6767208942]]\n"
     ]
    }
   ],
   "source": [
    "from functools import reduce\n",
    "\n",
    "routes_clusters_str = reduce(lambda x,y: x + y, list(map(lambda x: [v['way'] for k,v in x['tree'].items()], cluters_info_5)))\n",
    "routes_clusters = list(map(lambda x: list(map(lambda y: int(y), x)), routes_clusters_str))\n",
    "routes_clisters_filtered = list(filter(lambda x: len(x) > 1, routes_clusters))\n",
    "\n",
    "# fig, ax = ox.plot_graph_routes(G_ox, routes_clisters_filtered)\n",
    "print(routes_clusters)"
   ]
  },
  {
   "cell_type": "code",
   "execution_count": null,
   "metadata": {},
   "outputs": [],
   "source": []
  },
  {
   "cell_type": "code",
   "execution_count": null,
   "metadata": {},
   "outputs": [],
   "source": []
  },
  {
   "cell_type": "code",
   "execution_count": null,
   "metadata": {},
   "outputs": [],
   "source": []
  }
 ],
 "metadata": {
  "kernelspec": {
   "display_name": "Python 3",
   "language": "python",
   "name": "python3"
  },
  "language_info": {
   "codemirror_mode": {
    "name": "ipython",
    "version": 3
   },
   "file_extension": ".py",
   "mimetype": "text/x-python",
   "name": "python",
   "nbconvert_exporter": "python",
   "pygments_lexer": "ipython3",
   "version": "3.8.2"
  }
 },
 "nbformat": 4,
 "nbformat_minor": 4
}
