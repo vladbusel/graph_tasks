{
 "cells": [
  {
   "cell_type": "code",
   "execution_count": 1,
   "metadata": {
    "scrolled": true
   },
   "outputs": [
    {
     "data": {
      "text/plain": [
       "'0.12.1'"
      ]
     },
     "execution_count": 1,
     "metadata": {},
     "output_type": "execute_result"
    }
   ],
   "source": [
    "import osmnx as ox\n",
    "ox.__version__"
   ]
  },
  {
   "cell_type": "code",
   "execution_count": 2,
   "metadata": {
    "scrolled": true
   },
   "outputs": [],
   "source": [
    "ox.utils.config(all_oneway=False)"
   ]
  },
  {
   "cell_type": "code",
   "execution_count": 3,
   "metadata": {},
   "outputs": [],
   "source": [
    "G_d = ox.graph_from_place('Volgograd', network_type='drive', simplify = False)\n",
    "G_d = ox.project_graph(G_d)\n",
    "# fig, ax = ox.plot_graph(G)"
   ]
  },
  {
   "cell_type": "code",
   "execution_count": 4,
   "metadata": {},
   "outputs": [],
   "source": [
    "# len(G.nodes)"
   ]
  },
  {
   "cell_type": "code",
   "execution_count": 5,
   "metadata": {},
   "outputs": [],
   "source": [
    "# len(G.edges)"
   ]
  },
  {
   "cell_type": "code",
   "execution_count": 6,
   "metadata": {},
   "outputs": [],
   "source": [
    "# G_simp = ox.simplify.simplify_graph(G)"
   ]
  },
  {
   "cell_type": "code",
   "execution_count": 7,
   "metadata": {},
   "outputs": [],
   "source": [
    "# G_simp = ox.project_graph(G_simp)\n",
    "# fig, ax = ox.plot_graph(G_simp)"
   ]
  },
  {
   "cell_type": "code",
   "execution_count": 8,
   "metadata": {},
   "outputs": [],
   "source": [
    "# len(G_simp.nodes)"
   ]
  },
  {
   "cell_type": "code",
   "execution_count": 9,
   "metadata": {},
   "outputs": [],
   "source": [
    "# len(G_simp.edges)"
   ]
  },
  {
   "cell_type": "code",
   "execution_count": 10,
   "metadata": {
    "scrolled": true
   },
   "outputs": [],
   "source": [
    "# ox.save_load.save_as_osm(G,node_tags=['highway'], node_attrs=['id', 'lat', 'lon'], edge_tags=['highway', 'lanes', 'maxspeed', 'oneway'], edge_attrs=['id'], oneway=False, merge_edges=True, edge_tag_aggs=None, filename='graph.osm', folder=None)"
   ]
  },
  {
   "cell_type": "code",
   "execution_count": 11,
   "metadata": {},
   "outputs": [],
   "source": [
    "ox.utils.config(all_oneway=False)"
   ]
  },
  {
   "cell_type": "code",
   "execution_count": 12,
   "metadata": {},
   "outputs": [],
   "source": [
    "G_ox = ox.core.graph_from_file('graph.osm',  simplify=False, retain_all=True)"
   ]
  },
  {
   "cell_type": "code",
   "execution_count": 13,
   "metadata": {},
   "outputs": [],
   "source": [
    "G_ox = ox.project_graph(G_ox)\n",
    "# fig, ax = ox.plot_graph(G_ox)"
   ]
  },
  {
   "cell_type": "code",
   "execution_count": 14,
   "metadata": {},
   "outputs": [
    {
     "data": {
      "text/plain": [
       "40767"
      ]
     },
     "execution_count": 14,
     "metadata": {},
     "output_type": "execute_result"
    }
   ],
   "source": [
    "len(G_ox.nodes)"
   ]
  },
  {
   "cell_type": "code",
   "execution_count": 15,
   "metadata": {},
   "outputs": [
    {
     "data": {
      "text/plain": [
       "85090"
      ]
     },
     "execution_count": 15,
     "metadata": {},
     "output_type": "execute_result"
    }
   ],
   "source": [
    "len(G_ox.edges)"
   ]
  },
  {
   "cell_type": "code",
   "execution_count": 16,
   "metadata": {
    "scrolled": true
   },
   "outputs": [],
   "source": [
    "# print([node for node, data in G_ox.nodes(data=True)].count(5244338902))"
   ]
  },
  {
   "cell_type": "code",
   "execution_count": 17,
   "metadata": {},
   "outputs": [],
   "source": [
    "nodes_id = [node for node in G_ox.nodes]"
   ]
  },
  {
   "cell_type": "code",
   "execution_count": 18,
   "metadata": {},
   "outputs": [],
   "source": [
    "nodes_data = G_ox.nodes(data=True)"
   ]
  },
  {
   "cell_type": "code",
   "execution_count": 19,
   "metadata": {},
   "outputs": [
    {
     "data": {
      "text/plain": [
       "{'y': 5401682.772721899,\n",
       " 'x': 455351.7276346223,\n",
       " 'osmid': 1688220386,\n",
       " 'highway': 'nan',\n",
       " 'lon': 44.3924047,\n",
       " 'lat': 48.7665496}"
      ]
     },
     "execution_count": 19,
     "metadata": {},
     "output_type": "execute_result"
    }
   ],
   "source": [
    "nodes_data[1688220386]"
   ]
  },
  {
   "cell_type": "code",
   "execution_count": 20,
   "metadata": {},
   "outputs": [],
   "source": [
    "import networkx as nx"
   ]
  },
  {
   "cell_type": "code",
   "execution_count": 21,
   "metadata": {},
   "outputs": [],
   "source": [
    "import csv\n",
    "from lxml import etree as et\n",
    "from random import choices, random"
   ]
  },
  {
   "cell_type": "code",
   "execution_count": 22,
   "metadata": {},
   "outputs": [
    {
     "name": "stdout",
     "output_type": "stream",
     "text": [
      "100\n",
      "10\n"
     ]
    }
   ],
   "source": [
    "f = open('100houses.txt', 'r')\n",
    "houses_id = [house[:-1] for house in f.readlines()]\n",
    "f.close()\n",
    "f = open('10med.txt', 'r')\n",
    "med_id = [med[:-1] for med in f.readlines()]\n",
    "f.close()\n",
    "print(len(houses_id))\n",
    "print(len(med_id))"
   ]
  },
  {
   "cell_type": "code",
   "execution_count": 23,
   "metadata": {},
   "outputs": [
    {
     "data": {
      "text/plain": [
       "'5308930859'"
      ]
     },
     "execution_count": 23,
     "metadata": {},
     "output_type": "execute_result"
    }
   ],
   "source": [
    "houses_id[0]"
   ]
  },
  {
   "cell_type": "code",
   "execution_count": 24,
   "metadata": {},
   "outputs": [
    {
     "data": {
      "text/plain": [
       "40767"
      ]
     },
     "execution_count": 24,
     "metadata": {},
     "output_type": "execute_result"
    }
   ],
   "source": [
    "#Добавим сначала то, что есть в графе, потом дополним\n",
    "\n",
    "osm_file = 'graph.osm'\n",
    "G = nx.DiGraph()\n",
    "context = et.iterparse(osm_file, events=('end',), tag='node')\n",
    "nodes = []\n",
    "for event, elem in context:\n",
    "    nodes.append(elem.get('id'))\n",
    "    elem.clear()\n",
    "    while elem.getprevious() is not None:\n",
    "        del elem.getparent()[0]\n",
    "del context\n",
    "G.add_nodes_from(nodes)\n",
    "for h in houses_id:\n",
    "    G.nodes[h]['building'] = 'house'\n",
    "for m in med_id:\n",
    "    G.nodes[m]['building'] = 'hospital'\n",
    "G.number_of_nodes()"
   ]
  },
  {
   "cell_type": "code",
   "execution_count": 25,
   "metadata": {},
   "outputs": [],
   "source": [
    "def distance(node1,node2):\n",
    "    x1 = nodes_data[int(node1)]['x']\n",
    "    y1 = nodes_data[int(node1)]['y']\n",
    "    x2 = nodes_data[int(node2)]['x']\n",
    "    y2 = nodes_data[int(node2)]['y']\n",
    "    distance = ((x1-x2)**2 + (y1-y2)**2)**0.5\n",
    "    return distance"
   ]
  },
  {
   "cell_type": "code",
   "execution_count": 26,
   "metadata": {
    "scrolled": true
   },
   "outputs": [
    {
     "data": {
      "text/plain": [
       "90150"
      ]
     },
     "execution_count": 26,
     "metadata": {},
     "output_type": "execute_result"
    }
   ],
   "source": [
    "context = et.iterparse(osm_file,events=('end',),tag='way')\n",
    "edges = []\n",
    "for event, elem in context:\n",
    "    oneway = 0\n",
    "    #Определим свойства\n",
    "    for child in elem.iterchildren('tag'):\n",
    "        key = child.get('k')      \n",
    "        #Возможно, дорога односторонняя\n",
    "        if key == 'oneway' and child.get('v') == 'yes':\n",
    "            oneway = 1\n",
    "    #Узнаем, какие вершины состоят в пути\n",
    "    nodes_list = []\n",
    "    for child in elem.iterchildren('nd'):\n",
    "        _id = child.get('ref')\n",
    "        nodes_list.append(child.get('ref'))\n",
    "    #Добавляем ребра с весами в список смежности\n",
    "    for i in range(len(nodes_list)-1):\n",
    "        from_node, to_node = nodes_list[i:i+2]\n",
    "        d = distance(from_node, to_node)\n",
    "        edges.append((from_node, to_node, {'weight': d}))\n",
    "        edges.append((to_node, from_node, {'weight': d}))\n",
    "    elem.clear()\n",
    "    while elem.getprevious() is not None:\n",
    "        del elem.getparent()[0]\n",
    "del context\n",
    "\n",
    "G.add_edges_from(edges)\n",
    "G.number_of_edges()"
   ]
  },
  {
   "cell_type": "code",
   "execution_count": 27,
   "metadata": {},
   "outputs": [],
   "source": [
    "nodes_id = [str(node) for node in G_ox.nodes]\n",
    "nodes_data = G_ox.nodes(data=True)"
   ]
  },
  {
   "cell_type": "code",
   "execution_count": 28,
   "metadata": {},
   "outputs": [
    {
     "data": {
      "text/plain": [
       "1"
      ]
     },
     "execution_count": 28,
     "metadata": {},
     "output_type": "execute_result"
    }
   ],
   "source": [
    "nodes_id.count(houses_id[1])"
   ]
  },
  {
   "cell_type": "code",
   "execution_count": 29,
   "metadata": {},
   "outputs": [
    {
     "data": {
      "text/plain": [
       "220"
      ]
     },
     "execution_count": 29,
     "metadata": {},
     "output_type": "execute_result"
    }
   ],
   "source": [
    "#Добавим ребра к домам и больницам\n",
    "nearest_nodes_id = []\n",
    "copy_id = nodes_id\n",
    "for h_id in houses_id:\n",
    "    nni = '' #nearest_node_id\n",
    "    min_dist = float('inf')\n",
    "    while copy_id.count(h_id) > 0:\n",
    "        copy_id.remove(h_id)\n",
    "    for node_id in copy_id:\n",
    "        d = distance(h_id,node_id)\n",
    "        if d < min_dist:\n",
    "            min_dist = d\n",
    "            nni = node_id\n",
    "    w = 1 + random()\n",
    "    nearest_nodes_id.append((nni, h_id, {'weight': min_dist*w}))\n",
    "    nearest_nodes_id.append((h_id, nni, {'weight': min_dist*w}))\n",
    "        \n",
    "\n",
    "copy_id = nodes_id   \n",
    "for m_id in med_id:\n",
    "    nni = '' #nearest_node_id\n",
    "    min_dist = float('inf')\n",
    "    while copy_id.count(m_id) > 0:\n",
    "        copy_id.remove(m_id)\n",
    "    for node_id in copy_id:\n",
    "        d = distance(m_id,node_id)\n",
    "        if d < min_dist:\n",
    "            min_dist = d\n",
    "            nni = node_id\n",
    "    w = 1 + random()\n",
    "    nearest_nodes_id.append((nni, m_id, {'weight': min_dist*w}))\n",
    "    nearest_nodes_id.append((m_id, nni, {'weight': min_dist*w}))\n",
    "len(nearest_nodes_id)"
   ]
  },
  {
   "cell_type": "code",
   "execution_count": 30,
   "metadata": {
    "scrolled": true
   },
   "outputs": [
    {
     "data": {
      "text/plain": [
       "90370"
      ]
     },
     "execution_count": 30,
     "metadata": {},
     "output_type": "execute_result"
    }
   ],
   "source": [
    "G.add_edges_from(nearest_nodes_id)\n",
    "\n",
    "G.number_of_edges()"
   ]
  },
  {
   "cell_type": "code",
   "execution_count": 31,
   "metadata": {},
   "outputs": [],
   "source": [
    "#Создадим список смежности\n",
    "# nx.readwrite.adjlist.write_adjlist(G,'adj_list.csv')"
   ]
  },
  {
   "cell_type": "code",
   "execution_count": 32,
   "metadata": {},
   "outputs": [],
   "source": [
    "# with open('adj_list2.csv','w',newline='') as csv_file:\n",
    "#     csv_file.write('from_id to_id,edge_weight\\n')\n",
    "#     for _from in list(G.nodes):\n",
    "#         s = str(_from)\n",
    "#         for _to in G.successors(_from):\n",
    "#             s = s + ' ' + str(_to) + ',' + str(G[_from][_to]['weight'])\n",
    "#         csv_file.write(s + '\\n')\n"
   ]
  },
  {
   "cell_type": "code",
   "execution_count": 33,
   "metadata": {},
   "outputs": [],
   "source": [
    "#nx.linalg.graphmatrix.adjacency_matrix(G)"
   ]
  },
  {
   "cell_type": "code",
   "execution_count": 34,
   "metadata": {},
   "outputs": [],
   "source": [
    "# #Создадим матрицу смежности\n",
    "# adj_matrix = nx.to_pandas_adjacency(G)\n",
    "# adj_matrix.to_csv('adj_matrix.csv')"
   ]
  },
  {
   "cell_type": "code",
   "execution_count": 35,
   "metadata": {},
   "outputs": [],
   "source": [
    "# print(adj_matrix)"
   ]
  },
  {
   "cell_type": "code",
   "execution_count": 36,
   "metadata": {},
   "outputs": [],
   "source": [
    "# matrix = adj_matrix.values\n",
    "# print(matrix)"
   ]
  },
  {
   "cell_type": "code",
   "execution_count": 37,
   "metadata": {},
   "outputs": [],
   "source": [
    "class MinNodeHeap:\n",
    "\n",
    "    def __init__(self,g={}):\n",
    "        self.heap = []\n",
    "        self.size = 0\n",
    "        self.g = g\n",
    "\n",
    "    def left_index(self,i):\n",
    "        return 2*i+1\n",
    "\n",
    "    def right_index(self,i):\n",
    "        return 2*i+2\n",
    "\n",
    "    def parent_index(self,i):\n",
    "        return (i-1)//2\n",
    "\n",
    "    def min_heapify(self,i):\n",
    "        l = self.left_index(i)\n",
    "        r = self.right_index(i)\n",
    "\n",
    "        if l < self.size and self.g[self.heap[l]]['weight'] < self.g[self.heap[i]]['weight']:\n",
    "            smallest = l\n",
    "        else:\n",
    "            smallest = i\n",
    "        if r < self.size and self.g[self.heap[r]]['weight'] < self.g[self.heap[smallest]]['weight']:\n",
    "            smallest = r\n",
    "        if smallest != i:\n",
    "            self.g[self.heap[i]]['index'], self.g[self.heap[smallest]]['index'] = self.g[self.heap[smallest]]['index'], self.g[self.heap[i]]['index']           \n",
    "            self.heap[i], self.heap[smallest] = self.heap[smallest], self.heap[i]\n",
    "            self.min_heapify(smallest)\n",
    "\n",
    "    def build_min_heap(self,_NodeView):\n",
    "        self.heap = [None for i in range(len(_NodeView))]\n",
    "        for elem in self.g.keys():\n",
    "            self.heap[self.g[elem]['index']] = elem\n",
    "#         self.heap = list(_NodeView)\n",
    "        self.size = len(_NodeView)\n",
    "#         for i in range(len(_NodeView)//2,-1,-1):\n",
    "#             self.min_heapify(i)\n",
    "            \n",
    "    def extract_min(self):\n",
    "        if self.size < 1:\n",
    "            return None\n",
    "        _min = self.heap[0]\n",
    "        self.g[self.heap[self.size-1]]['index'] = self.g[self.heap[0]]['index']\n",
    "        self.heap[0] = self.heap[self.size-1]      \n",
    "        self.size -= 1\n",
    "        self.min_heapify(0)\n",
    "        return _min\n",
    "    \n",
    "    def decrease_key(self,_id,key):\n",
    "        i = self.g[_id]['index']\n",
    "        if key > self.g[_id]['weight']:\n",
    "            raise KeyError\n",
    "        self.g[_id]['weight'] = key\n",
    "        while (i > 0) and (self.g[self.heap[self.parent_index(i)]]['weight'] > self.g[self.heap[i]]['weight']):\n",
    "            self.g[self.heap[self.parent_index(i)]]['index'], self.g[self.heap[i]]['index'] = self.g[self.heap[i]]['index'], self.g[self.heap[self.parent_index(i)]]['index']\n",
    "            self.heap[self.parent_index(i)], self.heap[i] = self.heap[i], self.heap[self.parent_index(i)]\n",
    "            i = self.parent_index(i)\n"
   ]
  },
  {
   "cell_type": "code",
   "execution_count": 38,
   "metadata": {},
   "outputs": [],
   "source": [
    "def initialize_single_sourse(G,_from):\n",
    "    g = {}\n",
    "    nodes_list = list(G.nodes).copy()\n",
    "    nodes_list.remove(_from)\n",
    "    for v_id, i in zip(nodes_list,range(1,len(G.nodes))):\n",
    "        g[v_id] = {'way': [], 'weight':float('inf'), 'index':i}\n",
    "    g[_from] = {'way':[_from], 'weight':0, 'index':0}\n",
    "    return g\n",
    "\n",
    "def relax(G,min_heap,_from,_to):\n",
    "    if min_heap.g[_to]['weight'] > min_heap.g[_from]['weight'] + G[_from][_to]['weight']:\n",
    "        key = min_heap.g[_from]['weight'] + G[_from][_to]['weight']\n",
    "        min_heap.decrease_key(_to,key)\n",
    "        min_heap.g[_to]['way'] = (min_heap.g[_from]['way']).copy()\n",
    "        min_heap.g[_to]['way'].append(_to)\n",
    "        \n",
    "def dijkstra(G,_from,to_list):\n",
    "    g = initialize_single_sourse(G,_from)\n",
    "    finish = 0\n",
    "    nodes = MinNodeHeap(g)\n",
    "    nodes.build_min_heap(G.nodes)\n",
    "    while nodes.size > 0 and finish < len(to_list):\n",
    "        u = nodes.extract_min()\n",
    "        if to_list.count(u) > 0:\n",
    "            finish += 1\n",
    "        for v in G.successors(u):\n",
    "            relax(G,nodes,u,v)\n",
    "    return g\n"
   ]
  },
  {
   "cell_type": "code",
   "execution_count": 39,
   "metadata": {},
   "outputs": [],
   "source": [
    "# ok = nx.DiGraph()\n",
    "# ok.add_nodes_from(['2', '1', '3', '4', '5', '6'])\n",
    "# to_list = ['4','2']\n",
    "# ok.add_edges_from([('1','2', {'weight': 1}), ('1','3', {'weight': 2}), ('3','4', {'weight': 5}), ('4','5', {'weight': 6}), ('5','6', {'weight': 10}), ('2','7', {'weight': 100}), ('7','8', {'weight': 3})])"
   ]
  },
  {
   "cell_type": "code",
   "execution_count": 40,
   "metadata": {
    "scrolled": true
   },
   "outputs": [],
   "source": [
    "# g = initialize_single_sourse(ok, '1')\n",
    "# finish = 0\n",
    "# nodes = MinNodeHeap(g)\n",
    "# nodes.build_min_heap(ok.nodes)\n",
    "# while nodes.size > 0 and finish < len(to_list):\n",
    "#     u = nodes.extract_min()\n",
    "#     if to_list.count(u) > 0:\n",
    "#         finish += 1\n",
    "#     for v in ok.successors(u):\n",
    "#         relax(ok,nodes,u,v)  \n",
    "# g"
   ]
  },
  {
   "cell_type": "code",
   "execution_count": 41,
   "metadata": {},
   "outputs": [],
   "source": [
    "# d = dijkstra(ok,'1',['2','4'])\n",
    "# d"
   ]
  },
  {
   "cell_type": "code",
   "execution_count": 42,
   "metadata": {},
   "outputs": [],
   "source": [
    "# a = dijkstra(G,houses_id[0],med_id)\n",
    "# (a)"
   ]
  },
  {
   "cell_type": "code",
   "execution_count": 43,
   "metadata": {},
   "outputs": [],
   "source": [
    "# #Запустим Дейкстру от всех домов и больниц, сохраним результаты для выполнения заданий\n",
    "# houses_res = []\n",
    "# for h_id in houses_id:\n",
    "#     houses_res.append(dijkstra(G,h_id,med_id))\n",
    "# med_res = []\n",
    "# for m_id in med_id:\n",
    "#     houses_res.append(dijkstra(G,m_id,houses_id))\n",
    "# #15 минут работы"
   ]
  },
  {
   "cell_type": "code",
   "execution_count": 44,
   "metadata": {},
   "outputs": [],
   "source": [
    "# #Вариант с записью на диск работает дольше, но его нужно выполнить 1 раз\n",
    "# with open('ways_from_houses.txt','w',newline='') as f:\n",
    "#     f.write('from_id,to_id,way_weight,way\\n')\n",
    "#     for h_id in houses_id:\n",
    "#         a = dijkstra(G,h_id,med_id)\n",
    "#         for m_id in med_id:\n",
    "#             s = h_id + ',' + m_id + ',' + str(a[m_id]['weight'])\n",
    "#             if a[m_id]['way'] != '':\n",
    "#                 way = ','.join(a[m_id]['way'])\n",
    "#                 s = s + ',' + way\n",
    "#             f.write(s + '\\n')\n"
   ]
  },
  {
   "cell_type": "code",
   "execution_count": 45,
   "metadata": {},
   "outputs": [],
   "source": [
    "# with open('ways_from_med.txt','w',newline='') as f:  \n",
    "#     f.write('from_id,to_id,way_weight,way\\n')\n",
    "#     for m_id in med_id:        \n",
    "#         a = dijkstra(G,m_id,houses_id)\n",
    "#         for h_id in houses_id:                \n",
    "#             s = m_id + ',' + h_id + ',' + str(a[h_id]['weight'])\n",
    "#             if a[h_id]['way'] != '':\n",
    "#                 way = ','.join(a[h_id]['way'])\n",
    "#                 s = s + ',' + way\n",
    "#             f.write(s + '\\n')\n"
   ]
  },
  {
   "cell_type": "code",
   "execution_count": 46,
   "metadata": {},
   "outputs": [],
   "source": [
    "# G['5308930859']"
   ]
  },
  {
   "cell_type": "code",
   "execution_count": 47,
   "metadata": {},
   "outputs": [],
   "source": [
    "# min_ways = {}\n",
    "# with open('ways_from_houses.txt','r') as f:  \n",
    "#     next(f)\n",
    "#     for line in f:\n",
    "#         split_line = line.split(',')\n",
    "#         _from = split_line[0]\n",
    "#         _to = split_line[1]\n",
    "#         weight = split_line[2]\n",
    "#         if min_ways.get(_from) == None:\n",
    "#             min_ways[_from] = {'to':_to,'weight':weight}\n",
    "#         elif min_ways[_from]['weight'] > weight:\n",
    "#             min_ways[_from]['weight'] = weight\n",
    "#             min_ways[_from]['to'] = _to\n",
    "\n",
    "# with open('shortest_ways_from_houses.txt','w',newline='') as f:  \n",
    "#     f.write('from_id,to_id,way_weight\\n')\n",
    "#     s = ''\n",
    "#     for h_id in min_ways.keys():\n",
    "#         s = s + h_id + ',' + min_ways[h_id]['to'] + ',' + min_ways[h_id]['weight']+'\\n'\n",
    "#     f.write(s)"
   ]
  },
  {
   "cell_type": "code",
   "execution_count": 48,
   "metadata": {},
   "outputs": [],
   "source": [
    "# min_ways = {}\n",
    "# with open('ways_from_med.txt','r') as f:  \n",
    "#     next(f)\n",
    "#     for line in f:\n",
    "#         split_line = line.split(',')\n",
    "#         _from = split_line[0]\n",
    "#         _to = split_line[1]\n",
    "#         weight = split_line[2]\n",
    "#         if min_ways.get(_from) == None:\n",
    "#             min_ways[_from] = {'to':_to,'weight':weight}\n",
    "#         elif min_ways[_from]['weight'] > weight:\n",
    "#             min_ways[_from]['weight'] = weight\n",
    "#             min_ways[_from]['to'] = _to\n",
    "                                 \n",
    "# with open('shortest_ways_from_med.txt','w',newline='') as f:  \n",
    "#     f.write('from_id,to_id,way_weight\\n')\n",
    "#     s = ''\n",
    "#     for h_id in min_ways.keys():\n",
    "#         s = s + h_id + ',' + min_ways[h_id]['to'] + ',' + min_ways[h_id]['weight']+'\\n'\n",
    "#     f.write(s)\n",
    "        "
   ]
  },
  {
   "cell_type": "code",
   "execution_count": 49,
   "metadata": {},
   "outputs": [],
   "source": [
    "# with open('ways_from_med.txt','r') as f:\n",
    "#     lines = f.readlines()\n",
    "#     lines = lines[1:]\n",
    "#     med_lines = []\n",
    "#     for elem in lines:\n",
    "#         split_line = elem.split(',')\n",
    "#         med_lines.append(split_line)\n",
    "#     med_dict = {}\n",
    "#     for elem in med_lines:\n",
    "#         med_dict[elem[0]] = {}\n",
    "#         med_dict[elem[0]][elem[1]] = elem[2]\n",
    "        \n",
    "# with open('ways_from_houses.txt','r') as f:  \n",
    "#     lines = f.readlines()\n",
    "#     lines = lines[1:]\n",
    "#     houses_lines = []\n",
    "#     for elem in lines:\n",
    "#         split_line = elem.split(',')\n",
    "#         houses_lines.append(split_line)\n",
    "#     houses_dict = {}\n",
    "#     for elem in houses_lines:\n",
    "#         houses_dict[elem[0]] = {}\n",
    "#         houses_dict[elem[0]][elem[1]] = elem[2]\n",
    "\n",
    "# min_way = {'med': '','house': '','weight': float('inf')}\n",
    "# for m in med_id:\n",
    "#     for h in houses_id:  \n",
    "#         print(med_dict)\n",
    "#         if min_way['weight'] > med_dict[m][h] + houses_dict[h][m]:\n",
    "#             min_way['weight'] = med_dict[m][h] + houses_dict[h][m]\n",
    "#             min_way['med'] = m\n",
    "#             min_way['house'] = h\n",
    "        \n",
    "# print(min_way)"
   ]
  },
  {
   "cell_type": "code",
   "execution_count": 50,
   "metadata": {},
   "outputs": [],
   "source": [
    "# max_weight = 10000"
   ]
  },
  {
   "cell_type": "code",
   "execution_count": 51,
   "metadata": {},
   "outputs": [],
   "source": [
    "# ways = []\n",
    "# with open('ways_from_houses.txt','r') as f:  \n",
    "#     next(f)\n",
    "#     for line in f:\n",
    "#         split_line = line.split(',')\n",
    "#         _from = split_line[0]\n",
    "#         _to = split_line[1]\n",
    "#         weight = split_line[2]\n",
    "#         if weight < max_weight:\n",
    "#             ways.append([_from,_to,weight])\n",
    "\n",
    "# with open('near_houses.txt','w',newline='') as f:  \n",
    "#     f.write('from_id,to_id,weight\\n')\n",
    "#     s = ''\n",
    "#     for way in ways:\n",
    "#         s = s + way[0] + ',' + way[1] + ',' + way[2] +'\\n'\n",
    "#     f.write(s)"
   ]
  },
  {
   "cell_type": "code",
   "execution_count": 52,
   "metadata": {},
   "outputs": [],
   "source": [
    "# ways = []\n",
    "# with open('ways_from_med.txt','r') as f:  \n",
    "#     next(f)\n",
    "#     for line in f:\n",
    "#         split_line = line.split(',')\n",
    "#         _from = split_line[0]\n",
    "#         _to = split_line[1]\n",
    "#         weight = split_line[2]\n",
    "#         if weight < max_weight:\n",
    "#             ways.append([_from,_to,weight])\n",
    "\n",
    "# with open('near_med.txt','w',newline='') as f:  \n",
    "#     f.write('from_id,to_id,weight\\n')\n",
    "#     s = ''\n",
    "#     for way in ways:\n",
    "#         s = s + way[0] + ',' + way[1] + ',' + way[2] +'\\n'\n",
    "#     f.write(s)\n",
    "      "
   ]
  },
  {
   "cell_type": "code",
   "execution_count": 53,
   "metadata": {},
   "outputs": [],
   "source": [
    "# with open('ways_from_med.txt','r') as f:  \n",
    "#     med_lines = [elem.split(',') for elem in f.readlines()[1:]]\n",
    "#     med_dict = {elem[0]:{elem[1]:elem[2]} for elem in med_lines}\n",
    "    \n",
    "# with open('ways_from_houses.txt','r') as f:  \n",
    "#     houses_lines = [elem.split(',') for elem in f.readlines()[1:]]\n",
    "#     houses_dict = {elem[0]:{elem[1]:elem[2]} for elem in houses_lines}                          \n",
    "\n",
    "# ways = []\n",
    "# for m in med_id:\n",
    "#     for h in houses_id:\n",
    "#         if med_dict[m][h] + houses_dict[h][m] < max_weight:\n",
    "#             ways.append([med_dict[m][h] + houses_dict[h][m], m, h])\n",
    "\n",
    "# with open('near_med.txt','w',newline='') as f:\n",
    "#     f.write('med_id, house_id,weight\\n')\n",
    "#     s = ''\n",
    "#     for way in ways:\n",
    "#         s = s + way[0] + ',' + way[1] + ',' + way[2] +'\\n'\n",
    "#     f.write(s)\n",
    "              "
   ]
  },
  {
   "cell_type": "code",
   "execution_count": 54,
   "metadata": {},
   "outputs": [],
   "source": [
    "# #Выбираем минимум из максимумов\n",
    "# minmax_way = {'from':'','to':'','weight':float('inf')}\n",
    "# for m_id in med_id:\n",
    "#     weight = 0\n",
    "#     for h_id in house_id:\n",
    "#         if med_dict[m_id][h_id] > weight:\n",
    "#             weight = med_dict[m_id][h_id]\n",
    "#             _from = m_id\n",
    "#             _to = h_id\n",
    "#     if weight < minmax_way['weight']:\n",
    "#         minmax_way['weight'] = weight\n",
    "#         minmax_way['from'] = _from\n",
    "#         minmax_way['to'] = _to\n"
   ]
  },
  {
   "cell_type": "code",
   "execution_count": 55,
   "metadata": {},
   "outputs": [],
   "source": [
    "# min_sum = float('inf')\n",
    "# _from = ''\n",
    "# for m_id in med_id:\n",
    "#     sum = 0\n",
    "#     for h_id in house_id:        \n",
    "#         sum += med_dict[m_id][h_id]\n",
    "#     if sum < min_sum:\n",
    "#         min_sum = sum\n",
    "#         _from = m_id\n",
    "        "
   ]
  },
  {
   "cell_type": "code",
   "execution_count": 56,
   "metadata": {},
   "outputs": [],
   "source": [
    "# def task1_2():\n",
    "    #Определить, какой из объектов расположен так, что время/расстояние между ним и\n",
    "    #самым дальним домом минимально (“туда”, “обратно”, “туда и обратно”)\n",
    "    "
   ]
  },
  {
   "cell_type": "code",
   "execution_count": 57,
   "metadata": {},
   "outputs": [],
   "source": [
    "# def task1_3():\n",
    "#     #Для какого объекта инфраструктуры сумма кратчайших расстояний от него до всех домов минимальна\n",
    "    "
   ]
  },
  {
   "cell_type": "code",
   "execution_count": 58,
   "metadata": {},
   "outputs": [],
   "source": [
    "def get_edge_weight(edge, tree):\n",
    "    prev_weight = float(tree[edge['from']]['weight'])\n",
    "    post_weight = float(tree[edge['to']]['weight'])\n",
    "    return post_weight - prev_weight"
   ]
  },
  {
   "cell_type": "code",
   "execution_count": 99,
   "metadata": {},
   "outputs": [],
   "source": [
    "import math\n",
    "def get_tree_and_sum(G, _from, target_list):\n",
    "    tree = dijkstra(G, _from, target_list)\n",
    "    filtered_tree = {k:v for k,v in tree.items() if not math.isinf(v[\"weight\"]) and k in target_list}\n",
    "    tree_sum = sum(list(map(lambda x: x['weight'], list(filtered_tree.values()))))\n",
    "    \n",
    "    edge_set = list()\n",
    "    for target in filtered_tree:\n",
    "        node_list = filtered_tree[target]['way']\n",
    "        for node_number in range(len(node_list)-2):           \n",
    "            new_edge = {\"from\": node_list[node_number], \"to\": node_list[node_number + 1]}\n",
    "            if new_edge not in edge_set:\n",
    "                edge_set.append(new_edge)\n",
    "    tree_small_sum = sum(list(map(lambda x: get_edge_weight(x, tree), edge_set)))\n",
    "    return filtered_tree, tree_sum, tree_small_sum\n",
    "\n",
    "# temp_nodes_id = houses_id\n",
    "# temp_med_id = med_id[5]\n",
    "\n",
    "# temp_tree, temp_tree_sum, temp_tree_small_sum = get_tree_and_sum(G,temp_med_id, temp_nodes_id)\n",
    "\n",
    "# print(temp_tree_sum)\n",
    "# print(temp_tree_small_sum)"
   ]
  },
  {
   "cell_type": "code",
   "execution_count": null,
   "metadata": {},
   "outputs": [],
   "source": []
  },
  {
   "cell_type": "code",
   "execution_count": 60,
   "metadata": {},
   "outputs": [],
   "source": [
    "routes_temp = [temp_tree[key]['way'] for key in temp_tree]\n",
    "routes_temp_2 = list(map(lambda x: [int(value) for value in x][2:-8], routes_temp))\n",
    "\n",
    "# fig, ax = ox.plot_graph_routes(G_ox, routes_temp_2)\n",
    "# fig, ax = ox.plot_graph(G)"
   ]
  },
  {
   "cell_type": "code",
   "execution_count": 61,
   "metadata": {},
   "outputs": [],
   "source": [
    "from scipy.cluster.hierarchy import dendrogram, linkage\n",
    "from matplotlib import pyplot as plt"
   ]
  },
  {
   "cell_type": "code",
   "execution_count": 62,
   "metadata": {},
   "outputs": [],
   "source": [
    "import collections\n",
    "matrix = []\n",
    "for house_id in houses_id:\n",
    "    pre_vector = dijkstra(G, house_id, houses_id)\n",
    "    filtered_vector = {k:v for k,v in pre_vector.items() if not math.isinf(v[\"weight\"]) and k in houses_id}\n",
    "    sorted_vector = collections.OrderedDict(sorted(filtered_vector.items()))\n",
    "    vector = list(map(lambda x: x['weight'], list(sorted_vector.values())))\n",
    "    matrix.append(vector)"
   ]
  },
  {
   "cell_type": "code",
   "execution_count": null,
   "metadata": {},
   "outputs": [],
   "source": []
  },
  {
   "cell_type": "code",
   "execution_count": 179,
   "metadata": {},
   "outputs": [],
   "source": [
    "def cluster_to_id_list(cluster_index, cluster_cash, list_id, count_of_values):\n",
    "    cluster_indexes = [cluster_index]\n",
    "    while len(list(filter(lambda x: x > count_of_values, cluster_indexes))) > 0:\n",
    "        \n",
    "        cluster_to_open = list(filter(lambda x: x >= count_of_values, cluster_indexes))\n",
    "        \n",
    "        for cluster in cluster_to_open:\n",
    "            cluster_indexes.remove(cluster)\n",
    "            cluster_indexes.append(cluster_cash[int(cluster) - count_of_values, 0] )\n",
    "            cluster_indexes.append(cluster_cash[int(cluster) - count_of_values, 1] )\n",
    "            \n",
    "    return list(map(lambda x: int(list_id[int(x)]), cluster_indexes))    "
   ]
  },
  {
   "cell_type": "code",
   "execution_count": 64,
   "metadata": {},
   "outputs": [],
   "source": [
    "def get_centroid_coords(cluster_nodes):\n",
    "    x = sum(list(map(lambda x: x['x'], cluster_nodes))) / len(cluster_nodes)\n",
    "    y = sum(list(map(lambda x: x['y'], cluster_nodes))) / len(cluster_nodes)\n",
    "    return y, x"
   ]
  },
  {
   "cell_type": "code",
   "execution_count": 65,
   "metadata": {},
   "outputs": [
    {
     "data": {
      "image/png": "[encoded data removed]",
      "text/plain": [
       "<Figure size 1800x1440 with 1 Axes>"
      ]
     },
     "metadata": {
      "needs_background": "light"
     },
     "output_type": "display_data"
    }
   ],
   "source": [
    "import numpy as np\n",
    "matrix_np = np.array(matrix)\n",
    "cluster_cash = linkage(matrix_np, 'complete')\n",
    "fig = plt.figure(figsize=(25, 20))\n",
    "dn = dendrogram(cluster_cash)"
   ]
  },
  {
   "cell_type": "code",
   "execution_count": 66,
   "metadata": {},
   "outputs": [],
   "source": [
    "first_cluster = cluster_cash[-1,0] \n",
    "second_cluster = cluster_cash[-1,1] \n",
    "\n",
    "third_cluster = cluster_cash[-2,0] \n",
    "fourth_cluster = cluster_cash[-2,1]\n",
    "\n",
    "fifth_cluster = cluster_cash[-3,1]"
   ]
  },
  {
   "cell_type": "code",
   "execution_count": 128,
   "metadata": {},
   "outputs": [],
   "source": [
    "def get_cluster_info (cluster_index, cluster_cash, cluster_items_id, nodes_data):    \n",
    "    cluster_nodes = cluster_to_id_list(cluster_index, cluster_cash, cluster_items_id, len(cluster_items_id))\n",
    "    str_cluster_nodes = list(map(lambda x: str(x),cluster_nodes))\n",
    "    list_with_coords = list(map(lambda x: {'x': float(nodes_data[int(x)]['x']), 'y': float(nodes_data[int(x)]['y'])} ,cluster_nodes))\n",
    "    centroid = get_centroid_coords(list_with_coords)\n",
    "    centroid_id = ox.get_nearest_node(G_ox, centroid, method='euclidean')\n",
    "    tree, tree_sum, tree_min_sum = get_tree_and_sum(G, str(centroid_id), str_cluster_nodes)\n",
    "    return {'tree': tree, 'tree_sum':tree_sum, 'tree_min_sum':tree_min_sum, 'centroid_id':centroid_id}"
   ]
  },
  {
   "cell_type": "code",
   "execution_count": 173,
   "metadata": {},
   "outputs": [],
   "source": [
    "def open_next_cluster(cluster_cash, clusters, count_of_values):\n",
    "    cluster_to_open = max(clusters)\n",
    "    clusters.remove(cluster_to_open)\n",
    "    clusters.append(cluster_cash[int(cluster_to_open) - count_of_values, 0] )\n",
    "    clusters.append(cluster_cash[int(cluster_to_open) - count_of_values, 1] )\n",
    "    return clusters"
   ]
  },
  {
   "cell_type": "code",
   "execution_count": 223,
   "metadata": {},
   "outputs": [],
   "source": [
    "clusters = [int(cluster_cash[-1,0]), int(cluster_cash[-1,1])]\n",
    "cluters_info_2 = list(map(lambda x: get_cluster_info(x, cluster_cash, houses_id, nodes_data), clusters))\n"
   ]
  },
  {
   "cell_type": "code",
   "execution_count": 224,
   "metadata": {},
   "outputs": [],
   "source": [
    "clusters = open_next_cluster(cluster_cash, clusters, 100)\n",
    "cluters_info_3 = list(map(lambda x: get_cluster_info(x, cluster_cash, houses_id, nodes_data), clusters))"
   ]
  },
  {
   "cell_type": "code",
   "execution_count": 225,
   "metadata": {},
   "outputs": [],
   "source": [
    "clusters = open_next_cluster(cluster_cash, clusters, 100)\n",
    "clusters = open_next_cluster(cluster_cash, clusters, 100)\n",
    "\n",
    "cluters_info_5 = list(map(lambda x: get_cluster_info(x, cluster_cash, houses_id, nodes_data), clusters))"
   ]
  },
  {
   "cell_type": "code",
   "execution_count": 246,
   "metadata": {},
   "outputs": [],
   "source": [
    "from functools import reduce\n",
    "\n",
    "routes_clusters_str = reduce(lambda x,y: x + y, list(map(lambda x: [v['way'] for k,v in x['tree'].items()], cluters_info_3)))\n",
    "routes_clusters = list(map(lambda x: list(map(lambda y: int(y), x)), routes_clusters_str))\n",
    "\n",
    "# fig, ax = ox.plot_graph_routes(G_ox, routes_clusters)"
   ]
  },
  {
   "cell_type": "code",
   "execution_count": null,
   "metadata": {},
   "outputs": [],
   "source": []
  }
 ],
 "metadata": {
  "kernelspec": {
   "display_name": "Python 3",
   "language": "python",
   "name": "python3"
  },
  "language_info": {
   "codemirror_mode": {
    "name": "ipython",
    "version": 3
   },
   "file_extension": ".py",
   "mimetype": "text/x-python",
   "name": "python",
   "nbconvert_exporter": "python",
   "pygments_lexer": "ipython3",
   "version": "3.8.2"
  }
 },
 "nbformat": 4,
 "nbformat_minor": 4
}
